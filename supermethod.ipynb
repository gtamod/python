{
 "cells": [
  {
   "cell_type": "code",
   "execution_count": 4,
   "metadata": {},
   "outputs": [
    {
     "name": "stdout",
     "output_type": "stream",
     "text": [
      "Name: Shameer\n",
      "Age: 21\n",
      "yo\n",
      "Rollno 550\n",
      "Marks 100\n",
      "Name: RaviTeja\n",
      "Age: 23\n",
      "yo\n",
      "Salary: 25000\n",
      "Subject: IELTS\n"
     ]
    }
   ],
   "source": [
    "class Person:\n",
    "    def __init__(self,name,age):\n",
    "        self.name=name\n",
    "        self.age=age\n",
    "    def display(self):\n",
    "        print('Name:',self.name)\n",
    "        print('Age:',self.age)\n",
    "        print('yo')\n",
    "class Student(Person):\n",
    "    def __init__(self,name,age,rollno,marks):\n",
    "        super().__init__(name,age)\n",
    "        self.rollno=rollno\n",
    "        self.marks=marks\n",
    "    def display(self):\n",
    "        super().display()\n",
    "        print('Rollno',self.rollno)\n",
    "        print('Marks',self.marks)\n",
    "class Teacher(Person):\n",
    "    def __init__(self,name,age,salary,subject):\n",
    "        super().__init__(name,age)\n",
    "        self.salary=salary\n",
    "        self.subject=subject\n",
    "    def display(self):\n",
    "        super().display()\n",
    "        print('Salary:',self.salary)\n",
    "        print('Subject:',self.subject)\n",
    "s=Student('Shameer',21,550,100)\n",
    "t=Teacher('RaviTeja',23,25000,'IELTS')\n",
    "s.display()\n",
    "t.display()"
   ]
  },
  {
   "cell_type": "code",
   "execution_count": 8,
   "metadata": {},
   "outputs": [
    {
     "name": "stdout",
     "output_type": "stream",
     "text": [
      "E class method\n",
      "A class method\n"
     ]
    }
   ],
   "source": [
    "#how to call a particular class using super\n",
    "class A:\n",
    "    def m1(self):\n",
    "        print('A class method')\n",
    "class B(A):\n",
    "    def m1(self):\n",
    "        print('B class method')\n",
    "class C(B):\n",
    "    def m1(self):\n",
    "        print('C class method')\n",
    "class D(C):\n",
    "    def m1(self):\n",
    "        print('D class method')\n",
    "class E(D):\n",
    "    def m1(self):\n",
    "        print('E class method')\n",
    "        A.m1(self)  #or super(B,self).m1()\n",
    "e=E()\n",
    "e.m1()"
   ]
  },
  {
   "cell_type": "code",
   "execution_count": 11,
   "metadata": {},
   "outputs": [
    {
     "name": "stdout",
     "output_type": "stream",
     "text": [
      "10\n",
      "20\n"
     ]
    }
   ],
   "source": [
    "#can't call instance variables with super() but we can call static variables with super()\n",
    "class P:\n",
    "    a=10\n",
    "    def __init__(self):\n",
    "        self.b=20\n",
    "class C(P):\n",
    "    def m1(self):\n",
    "        print(super().a)\n",
    "        print(self.b)\n",
    "c=C()\n",
    "c.m1()"
   ]
  },
  {
   "cell_type": "code",
   "execution_count": 20,
   "metadata": {},
   "outputs": [
    {
     "ename": "AttributeError",
     "evalue": "'C' object has no attribute 'method'",
     "output_type": "error",
     "traceback": [
      "\u001b[1;31m---------------------------------------------------------------------------\u001b[0m",
      "\u001b[1;31mAttributeError\u001b[0m                            Traceback (most recent call last)",
      "\u001b[1;32m<ipython-input-20-ce6dd69e12ca>\u001b[0m in \u001b[0;36m<module>\u001b[1;34m()\u001b[0m\n\u001b[0;32m     17\u001b[0m             \u001b[0msuper\u001b[0m\u001b[1;33m(\u001b[0m\u001b[1;33m)\u001b[0m\u001b[1;33m.\u001b[0m\u001b[0mm3\u001b[0m\u001b[1;33m(\u001b[0m\u001b[1;33m)\u001b[0m\u001b[1;33m\u001b[0m\u001b[0m\n\u001b[0;32m     18\u001b[0m \u001b[0mc\u001b[0m\u001b[1;33m=\u001b[0m\u001b[0mC\u001b[0m\u001b[1;33m(\u001b[0m\u001b[1;33m)\u001b[0m\u001b[1;33m\u001b[0m\u001b[0m\n\u001b[1;32m---> 19\u001b[1;33m \u001b[0mc\u001b[0m\u001b[1;33m.\u001b[0m\u001b[0mmethod\u001b[0m\u001b[1;33m(\u001b[0m\u001b[1;33m)\u001b[0m\u001b[1;33m\u001b[0m\u001b[0m\n\u001b[0m",
      "\u001b[1;31mAttributeError\u001b[0m: 'C' object has no attribute 'method'"
     ]
    }
   ],
   "source": [
    "class P:\n",
    "    def __init__(self):\n",
    "        print('parent constructor')\n",
    "    def m1(self):\n",
    "        print('parent instance method')\n",
    "    @classmethod\n",
    "    def m2(cls):\n",
    "        print('parent class method')\n",
    "    @staticmethod\n",
    "    def m3(self):\n",
    "        print('parent static method')\n",
    "    class C(P):\n",
    "        def method(self):\n",
    "            super().__init__\n",
    "            super().m1()\n",
    "            super().m2()\n",
    "            super().m3()\n",
    "c=C()\n",
    "c.method()"
   ]
  },
  {
   "cell_type": "code",
   "execution_count": null,
   "metadata": {},
   "outputs": [],
   "source": []
  },
  {
   "cell_type": "code",
   "execution_count": null,
   "metadata": {},
   "outputs": [],
   "source": []
  },
  {
   "cell_type": "code",
   "execution_count": null,
   "metadata": {},
   "outputs": [],
   "source": []
  }
 ],
 "metadata": {
  "kernelspec": {
   "display_name": "Python 3",
   "language": "python",
   "name": "python3"
  },
  "language_info": {
   "codemirror_mode": {
    "name": "ipython",
    "version": 3
   },
   "file_extension": ".py",
   "mimetype": "text/x-python",
   "name": "python",
   "nbconvert_exporter": "python",
   "pygments_lexer": "ipython3",
   "version": "3.7.0"
  }
 },
 "nbformat": 4,
 "nbformat_minor": 2
}
