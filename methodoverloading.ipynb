{
 "cells": [
  {
   "cell_type": "code",
   "execution_count": 2,
   "metadata": {},
   "outputs": [
    {
     "name": "stdout",
     "output_type": "stream",
     "text": [
      "10\n",
      "Shameer\n",
      "10.5\n",
      "-1\n"
     ]
    }
   ],
   "source": [
    "class Test:\n",
    "    def m1(self,x):\n",
    "        print(x)\n",
    "t=Test()\n",
    "t.m1(10)\n",
    "t.m1('Shameer')\n",
    "t.m1(10.5)\n",
    "t.m1(-1)"
   ]
  },
  {
   "cell_type": "code",
   "execution_count": 7,
   "metadata": {},
   "outputs": [
    {
     "name": "stdout",
     "output_type": "stream",
     "text": [
      "sum is 60\n",
      "sum is 30\n",
      "enter atleast one argument\n"
     ]
    }
   ],
   "source": [
    "class Test:\n",
    "    def sum(self,a=None,b=None,c=None):\n",
    "        if a!=None and b!=None and c!=None:\n",
    "            print('sum is',a+b+c)\n",
    "        elif a!=None and b!=None:\n",
    "            print('sum is',a+b)\n",
    "        else:\n",
    "            print('enter atleast one argument')\n",
    "t=Test()\n",
    "t.sum(10,20,30)\n",
    "t.sum(10,20)\n",
    "t.sum(10)"
   ]
  },
  {
   "cell_type": "code",
   "execution_count": 15,
   "metadata": {},
   "outputs": [
    {
     "name": "stdout",
     "output_type": "stream",
     "text": [
      "the sum is 30\n",
      "the sum is 150\n"
     ]
    }
   ],
   "source": [
    "class Test:\n",
    "    def sum(self,*a):\n",
    "        total=0\n",
    "        for x in a:\n",
    "            total=total+x\n",
    "        print('the sum is',total)\n",
    "            \n",
    "t=Test()\n",
    "t.sum(10,20)\n",
    "t.sum(10,20,30,40,50)\n",
    "    "
   ]
  },
  {
   "cell_type": "code",
   "execution_count": null,
   "metadata": {},
   "outputs": [],
   "source": []
  },
  {
   "cell_type": "code",
   "execution_count": 17,
   "metadata": {},
   "outputs": [
    {
     "name": "stdout",
     "output_type": "stream",
     "text": [
      "the sum is ShaikShameer\n",
      "the sum is abc\n"
     ]
    }
   ],
   "source": [
    "class Test:\n",
    "    def sum(self,*a):\n",
    "        total=''\n",
    "        for x in a:\n",
    "            total=total+x\n",
    "        print('the sum is',total)\n",
    "            \n",
    "t=Test()\n",
    "t.sum('Shaik','Shameer')\n",
    "t.sum('a','b','c')\n",
    "    "
   ]
  },
  {
   "cell_type": "code",
   "execution_count": 23,
   "metadata": {},
   "outputs": [
    {
     "name": "stdout",
     "output_type": "stream",
     "text": [
      "constructor with n arguments\n",
      "constructor with n arguments\n",
      "constructor with n arguments\n",
      "constructor with n arguments\n"
     ]
    }
   ],
   "source": [
    "class Test:\n",
    "    def __init__(self,a=None,b=None,c=None):\n",
    "        print('constructor with n arguments')\n",
    "t=Test()\n",
    "t=Test(10)\n",
    "t=Test(10,20)\n",
    "t=Test(10,20,30)"
   ]
  },
  {
   "cell_type": "code",
   "execution_count": null,
   "metadata": {},
   "outputs": [],
   "source": []
  },
  {
   "cell_type": "code",
   "execution_count": 25,
   "metadata": {},
   "outputs": [
    {
     "name": "stdout",
     "output_type": "stream",
     "text": [
      "constructor with n arguments\n",
      "constructor with n arguments\n",
      "constructor with n arguments\n",
      "constructor with n arguments\n"
     ]
    }
   ],
   "source": [
    "class Test:\n",
    "    def __init__(self,*a):\n",
    "        print('constructor with n arguments')\n",
    "t=Test()\n",
    "t=Test(10)\n",
    "t=Test(10,20)\n",
    "t=Test(10,20,30,40,50,60,70,80,90,100)"
   ]
  },
  {
   "cell_type": "code",
   "execution_count": null,
   "metadata": {},
   "outputs": [],
   "source": []
  }
 ],
 "metadata": {
  "kernelspec": {
   "display_name": "Python 3",
   "language": "python",
   "name": "python3"
  },
  "language_info": {
   "codemirror_mode": {
    "name": "ipython",
    "version": 3
   },
   "file_extension": ".py",
   "mimetype": "text/x-python",
   "name": "python",
   "nbconvert_exporter": "python",
   "pygments_lexer": "ipython3",
   "version": "3.7.0"
  }
 },
 "nbformat": 4,
 "nbformat_minor": 2
}
