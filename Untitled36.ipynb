{
 "cells": [
  {
   "cell_type": "code",
   "execution_count": 5,
   "metadata": {},
   "outputs": [],
   "source": [
    "from tkinter import *\n",
    "from PIL import ImageTk,Image\n",
    "root=Tk()\n",
    "my_img1=ImageTk.PhotoImage(Image.open('E:/datafiles/me1.jpg'))\n",
    "my_img2=ImageTk.PhotoImage(Image.open('E:/datafiles/me2.jpg'))\n",
    "my_img3=ImageTk.PhotoImage(Image.open('E:/datafiles/me3.jpg'))\n",
    "my_img4=ImageTk.PhotoImage(Image.open('E:/datafiles/me4.jpg'))\n",
    "my_img5=ImageTk.PhotoImage(Image.open('E:/datafiles/me5.jpg'))\n",
    "image_list=[my_img1,my_img2,my_img3,my_img4,my_img5]\n",
    "button_back=Button(root,text='<<').grid(row=1,column=0)\n",
    "button_exit=Button(root,text='exit',command=root.quit).grid(row=1,column=1)\n",
    "button_forward=Button(root,text='>>').grid(row=1,column=2)\n",
    "root.mainloop()"
   ]
  },
  {
   "cell_type": "code",
   "execution_count": null,
   "metadata": {},
   "outputs": [],
   "source": []
  },
  {
   "cell_type": "code",
   "execution_count": null,
   "metadata": {},
   "outputs": [],
   "source": []
  }
 ],
 "metadata": {
  "kernelspec": {
   "display_name": "Python 3",
   "language": "python",
   "name": "python3"
  },
  "language_info": {
   "codemirror_mode": {
    "name": "ipython",
    "version": 3
   },
   "file_extension": ".py",
   "mimetype": "text/x-python",
   "name": "python",
   "nbconvert_exporter": "python",
   "pygments_lexer": "ipython3",
   "version": "3.7.0"
  }
 },
 "nbformat": 4,
 "nbformat_minor": 2
}
