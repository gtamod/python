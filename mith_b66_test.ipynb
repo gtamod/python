{
 "cells": [
  {
   "cell_type": "markdown",
   "metadata": {},
   "source": [
    "### Problem Description :\n",
    "\n",
    "* Employee Attrition is a huge problem across industries and generally costs the company a lot for\n",
    "  hiring, retraining, productivity and work loss for each employee who leaves.\n",
    "  \n",
    "### Anlaytics Objectives :\n",
    "\n",
    "* To create an analytical and modelling framework to predict whether an employee will leave\n",
    "  the company or not based on the quantitative and qualitative features provided in the datasets.\n",
    "* The firm is also interested in specific features that are highly indicative of attrition.\n",
    "\n",
    "### Attribute details :\n",
    "\n",
    "* EmployeeID : A unique identification key for every individual employee\n",
    "* TotalWorkingHours : The total working hours logged for the employee at the location\n",
    "* Billable_Hours : The number of hours that are used to charge the Client\n",
    "* Hours_off_Duty : Number of hours the employee took off\n",
    "* Touring_Hours : Number of hours the employee spent working at an offsite location\n",
    "* NoOfProjects : Number of Projects the employee is assigned to\n",
    "* ActualTimeSpent : Actual time the employee spent working according to the timesheets\n",
    "\n",
    "### Employee_data :\n",
    "\n",
    "#### Specific data regarding Employees for both Train and Test data\n",
    "* EmployeeID : A unique identification key for every individual employee\n",
    "* Job_History : A feature containing the previous companies where the employee was employed\n",
    "* Joining_Date : The date on which the employee Joined the organisation\n",
    "* Designation : The role of the employee in the company, with the following levels: EVP, Junior, MD,\n",
    "  Senior, VP\n",
    "* Sex : The gender of the employee\n",
    "\n",
    "### Target :\n",
    "\n",
    "* ‘Left_Company’ is the target variable and have to predict either ‘1’ (Left), ‘0’(Retained)."
   ]
  },
  {
   "cell_type": "markdown",
   "metadata": {},
   "source": [
    "### Importing Libreries"
   ]
  },
  {
   "cell_type": "code",
   "execution_count": 1,
   "metadata": {},
   "outputs": [],
   "source": [
    "import warnings\n",
    "warnings.filterwarnings(\"ignore\")\n",
    "\n",
    "import pandas as pd\n",
    "import numpy as np"
   ]
  },
  {
   "cell_type": "code",
   "execution_count": 2,
   "metadata": {},
   "outputs": [],
   "source": [
    "import os"
   ]
  },
  {
   "cell_type": "code",
   "execution_count": 3,
   "metadata": {},
   "outputs": [
    {
     "name": "stdout",
     "output_type": "stream",
     "text": [
      "C:\\Users\\kk\\Desktop\\Yasin\\Mith_Exam\\Mith\n"
     ]
    }
   ],
   "source": [
    "PATH = os.getcwd()\n",
    "print(PATH)"
   ]
  },
  {
   "cell_type": "markdown",
   "metadata": {},
   "source": [
    "## Reading train data"
   ]
  },
  {
   "cell_type": "code",
   "execution_count": 7,
   "metadata": {},
   "outputs": [],
   "source": [
    "train_data_attr = pd.read_csv(\"train_attrition.csv\", header=0, sep=',')\n",
    "train_data_work = pd.read_csv(\"train_work.csv\", header=0, sep=',')\n",
    "data_employee = pd.read_csv(\"employee_data.csv\", header=0, sep=',')"
   ]
  },
  {
   "cell_type": "markdown",
   "metadata": {},
   "source": [
    "## Reading Test Data"
   ]
  },
  {
   "cell_type": "code",
   "execution_count": 8,
   "metadata": {},
   "outputs": [],
   "source": [
    "test_data_attr = pd.read_csv(\"test_attrition.csv\", header=0, sep=',')\n",
    "test_data_work = pd.read_csv(\"test_work.csv\", header=0, sep=',')"
   ]
  },
  {
   "cell_type": "markdown",
   "metadata": {},
   "source": [
    "### Checking Columns "
   ]
  },
  {
   "cell_type": "code",
   "execution_count": 9,
   "metadata": {},
   "outputs": [
    {
     "data": {
      "text/plain": [
       "Index(['EmployeeID', 'Left_Company'], dtype='object')"
      ]
     },
     "execution_count": 9,
     "metadata": {},
     "output_type": "execute_result"
    }
   ],
   "source": [
    "train_data_attr.columns"
   ]
  },
  {
   "cell_type": "code",
   "execution_count": 10,
   "metadata": {},
   "outputs": [
    {
     "data": {
      "text/plain": [
       "Index(['EmployeeID', 'Job_History', 'Joining_Date', 'Designation', 'Sex'], dtype='object')"
      ]
     },
     "execution_count": 10,
     "metadata": {},
     "output_type": "execute_result"
    }
   ],
   "source": [
    "data_employee.columns"
   ]
  },
  {
   "cell_type": "code",
   "execution_count": 11,
   "metadata": {},
   "outputs": [
    {
     "data": {
      "text/plain": [
       "Index(['EmployeeID', 'TotalWorkingHours', 'Billable_Hours', 'Hours_off_Duty',\n",
       "       'Touring_Hours', 'NoOfProjects', 'ActualTimeSpent'],\n",
       "      dtype='object')"
      ]
     },
     "execution_count": 11,
     "metadata": {},
     "output_type": "execute_result"
    }
   ],
   "source": [
    "train_data_work.columns"
   ]
  },
  {
   "cell_type": "markdown",
   "metadata": {},
   "source": [
    "### Checking Shape"
   ]
  },
  {
   "cell_type": "code",
   "execution_count": 13,
   "metadata": {},
   "outputs": [
    {
     "name": "stdout",
     "output_type": "stream",
     "text": [
      "(245, 2)\n",
      "(3983, 7)\n",
      "(296, 5)\n"
     ]
    }
   ],
   "source": [
    "print(train_data_attr.shape)\n",
    "print(train_data_work.shape)\n",
    "print(data_employee.shape)"
   ]
  },
  {
   "cell_type": "code",
   "execution_count": 14,
   "metadata": {},
   "outputs": [
    {
     "data": {
      "text/html": [
       "<div>\n",
       "<style scoped>\n",
       "    .dataframe tbody tr th:only-of-type {\n",
       "        vertical-align: middle;\n",
       "    }\n",
       "\n",
       "    .dataframe tbody tr th {\n",
       "        vertical-align: top;\n",
       "    }\n",
       "\n",
       "    .dataframe thead th {\n",
       "        text-align: right;\n",
       "    }\n",
       "</style>\n",
       "<table border=\"1\" class=\"dataframe\">\n",
       "  <thead>\n",
       "    <tr style=\"text-align: right;\">\n",
       "      <th></th>\n",
       "      <th>EmployeeID</th>\n",
       "      <th>TotalWorkingHours</th>\n",
       "      <th>Billable_Hours</th>\n",
       "      <th>Hours_off_Duty</th>\n",
       "      <th>Touring_Hours</th>\n",
       "      <th>NoOfProjects</th>\n",
       "      <th>ActualTimeSpent</th>\n",
       "    </tr>\n",
       "  </thead>\n",
       "  <tbody>\n",
       "    <tr>\n",
       "      <th>0</th>\n",
       "      <td>emp-1</td>\n",
       "      <td>184.0</td>\n",
       "      <td>144.0</td>\n",
       "      <td>40.0</td>\n",
       "      <td>144.0</td>\n",
       "      <td>3</td>\n",
       "      <td>77</td>\n",
       "    </tr>\n",
       "    <tr>\n",
       "      <th>1</th>\n",
       "      <td>emp-1</td>\n",
       "      <td>176.0</td>\n",
       "      <td>136.0</td>\n",
       "      <td>40.0</td>\n",
       "      <td>136.0</td>\n",
       "      <td>2</td>\n",
       "      <td>98</td>\n",
       "    </tr>\n",
       "    <tr>\n",
       "      <th>2</th>\n",
       "      <td>emp-1</td>\n",
       "      <td>200.0</td>\n",
       "      <td>120.0</td>\n",
       "      <td>72.0</td>\n",
       "      <td>120.0</td>\n",
       "      <td>1</td>\n",
       "      <td>14</td>\n",
       "    </tr>\n",
       "    <tr>\n",
       "      <th>3</th>\n",
       "      <td>emp-1</td>\n",
       "      <td>160.0</td>\n",
       "      <td>144.0</td>\n",
       "      <td>8.0</td>\n",
       "      <td>144.0</td>\n",
       "      <td>3</td>\n",
       "      <td>147</td>\n",
       "    </tr>\n",
       "    <tr>\n",
       "      <th>4</th>\n",
       "      <td>emp-1</td>\n",
       "      <td>171.0</td>\n",
       "      <td>135.0</td>\n",
       "      <td>0.0</td>\n",
       "      <td>135.0</td>\n",
       "      <td>1</td>\n",
       "      <td>42</td>\n",
       "    </tr>\n",
       "  </tbody>\n",
       "</table>\n",
       "</div>"
      ],
      "text/plain": [
       "  EmployeeID  TotalWorkingHours  Billable_Hours  Hours_off_Duty  \\\n",
       "0      emp-1              184.0           144.0            40.0   \n",
       "1      emp-1              176.0           136.0            40.0   \n",
       "2      emp-1              200.0           120.0            72.0   \n",
       "3      emp-1              160.0           144.0             8.0   \n",
       "4      emp-1              171.0           135.0             0.0   \n",
       "\n",
       "   Touring_Hours  NoOfProjects  ActualTimeSpent  \n",
       "0          144.0             3               77  \n",
       "1          136.0             2               98  \n",
       "2          120.0             1               14  \n",
       "3          144.0             3              147  \n",
       "4          135.0             1               42  "
      ]
     },
     "execution_count": 14,
     "metadata": {},
     "output_type": "execute_result"
    }
   ],
   "source": [
    "train_data_work.head(5)"
   ]
  },
  {
   "cell_type": "code",
   "execution_count": 15,
   "metadata": {},
   "outputs": [
    {
     "name": "stdout",
     "output_type": "stream",
     "text": [
      "(245, 7)\n"
     ]
    },
    {
     "data": {
      "text/html": [
       "<div>\n",
       "<style scoped>\n",
       "    .dataframe tbody tr th:only-of-type {\n",
       "        vertical-align: middle;\n",
       "    }\n",
       "\n",
       "    .dataframe tbody tr th {\n",
       "        vertical-align: top;\n",
       "    }\n",
       "\n",
       "    .dataframe thead th {\n",
       "        text-align: right;\n",
       "    }\n",
       "</style>\n",
       "<table border=\"1\" class=\"dataframe\">\n",
       "  <thead>\n",
       "    <tr style=\"text-align: right;\">\n",
       "      <th></th>\n",
       "      <th>EmployeeID</th>\n",
       "      <th>TotalWorkingHours</th>\n",
       "      <th>Billable_Hours</th>\n",
       "      <th>Hours_off_Duty</th>\n",
       "      <th>Touring_Hours</th>\n",
       "      <th>NoOfProjects</th>\n",
       "      <th>ActualTimeSpent</th>\n",
       "    </tr>\n",
       "  </thead>\n",
       "  <tbody>\n",
       "    <tr>\n",
       "      <th>0</th>\n",
       "      <td>emp-1</td>\n",
       "      <td>3424.0</td>\n",
       "      <td>2462.0</td>\n",
       "      <td>408.0</td>\n",
       "      <td>2462.0</td>\n",
       "      <td>42</td>\n",
       "      <td>2849</td>\n",
       "    </tr>\n",
       "    <tr>\n",
       "      <th>1</th>\n",
       "      <td>emp-10</td>\n",
       "      <td>2006.0</td>\n",
       "      <td>1274.0</td>\n",
       "      <td>328.0</td>\n",
       "      <td>691.0</td>\n",
       "      <td>13</td>\n",
       "      <td>616</td>\n",
       "    </tr>\n",
       "    <tr>\n",
       "      <th>2</th>\n",
       "      <td>emp-100</td>\n",
       "      <td>3607.0</td>\n",
       "      <td>3275.0</td>\n",
       "      <td>224.0</td>\n",
       "      <td>3235.0</td>\n",
       "      <td>23</td>\n",
       "      <td>3388</td>\n",
       "    </tr>\n",
       "    <tr>\n",
       "      <th>3</th>\n",
       "      <td>emp-101</td>\n",
       "      <td>4109.5</td>\n",
       "      <td>2759.5</td>\n",
       "      <td>192.0</td>\n",
       "      <td>0.0</td>\n",
       "      <td>18</td>\n",
       "      <td>1953</td>\n",
       "    </tr>\n",
       "    <tr>\n",
       "      <th>4</th>\n",
       "      <td>emp-102</td>\n",
       "      <td>3790.0</td>\n",
       "      <td>2720.5</td>\n",
       "      <td>344.0</td>\n",
       "      <td>1861.0</td>\n",
       "      <td>20</td>\n",
       "      <td>2254</td>\n",
       "    </tr>\n",
       "  </tbody>\n",
       "</table>\n",
       "</div>"
      ],
      "text/plain": [
       "  EmployeeID  TotalWorkingHours  Billable_Hours  Hours_off_Duty  \\\n",
       "0      emp-1             3424.0          2462.0           408.0   \n",
       "1     emp-10             2006.0          1274.0           328.0   \n",
       "2    emp-100             3607.0          3275.0           224.0   \n",
       "3    emp-101             4109.5          2759.5           192.0   \n",
       "4    emp-102             3790.0          2720.5           344.0   \n",
       "\n",
       "   Touring_Hours  NoOfProjects  ActualTimeSpent  \n",
       "0         2462.0            42             2849  \n",
       "1          691.0            13              616  \n",
       "2         3235.0            23             3388  \n",
       "3            0.0            18             1953  \n",
       "4         1861.0            20             2254  "
      ]
     },
     "execution_count": 15,
     "metadata": {},
     "output_type": "execute_result"
    }
   ],
   "source": [
    "# There are duplicates in the train_data_work\n",
    "train_main = train_data_work.groupby('EmployeeID').sum().reset_index()\n",
    "print(train_main.shape)\n",
    "train_main.head(5)"
   ]
  },
  {
   "cell_type": "code",
   "execution_count": 16,
   "metadata": {},
   "outputs": [
    {
     "name": "stdout",
     "output_type": "stream",
     "text": [
      "(51, 7)\n"
     ]
    },
    {
     "data": {
      "text/html": [
       "<div>\n",
       "<style scoped>\n",
       "    .dataframe tbody tr th:only-of-type {\n",
       "        vertical-align: middle;\n",
       "    }\n",
       "\n",
       "    .dataframe tbody tr th {\n",
       "        vertical-align: top;\n",
       "    }\n",
       "\n",
       "    .dataframe thead th {\n",
       "        text-align: right;\n",
       "    }\n",
       "</style>\n",
       "<table border=\"1\" class=\"dataframe\">\n",
       "  <thead>\n",
       "    <tr style=\"text-align: right;\">\n",
       "      <th></th>\n",
       "      <th>EmployeeID</th>\n",
       "      <th>TotalWorkingHours</th>\n",
       "      <th>Billable_Hours</th>\n",
       "      <th>Hours_off_Duty</th>\n",
       "      <th>Touring_Hours</th>\n",
       "      <th>NoOfProjects</th>\n",
       "      <th>ActualTimeSpent</th>\n",
       "    </tr>\n",
       "  </thead>\n",
       "  <tbody>\n",
       "    <tr>\n",
       "      <th>0</th>\n",
       "      <td>emp-106</td>\n",
       "      <td>3309.5</td>\n",
       "      <td>2352.0</td>\n",
       "      <td>298.0</td>\n",
       "      <td>2.0</td>\n",
       "      <td>18</td>\n",
       "      <td>1736</td>\n",
       "    </tr>\n",
       "    <tr>\n",
       "      <th>1</th>\n",
       "      <td>emp-112</td>\n",
       "      <td>3178.5</td>\n",
       "      <td>2610.0</td>\n",
       "      <td>292.0</td>\n",
       "      <td>325.0</td>\n",
       "      <td>21</td>\n",
       "      <td>1708</td>\n",
       "    </tr>\n",
       "    <tr>\n",
       "      <th>2</th>\n",
       "      <td>emp-114</td>\n",
       "      <td>3072.5</td>\n",
       "      <td>1618.7</td>\n",
       "      <td>264.0</td>\n",
       "      <td>1104.0</td>\n",
       "      <td>25</td>\n",
       "      <td>882</td>\n",
       "    </tr>\n",
       "    <tr>\n",
       "      <th>3</th>\n",
       "      <td>emp-118</td>\n",
       "      <td>2400.0</td>\n",
       "      <td>2008.0</td>\n",
       "      <td>146.0</td>\n",
       "      <td>728.0</td>\n",
       "      <td>18</td>\n",
       "      <td>1526</td>\n",
       "    </tr>\n",
       "    <tr>\n",
       "      <th>4</th>\n",
       "      <td>emp-12</td>\n",
       "      <td>4491.0</td>\n",
       "      <td>2653.0</td>\n",
       "      <td>601.0</td>\n",
       "      <td>799.0</td>\n",
       "      <td>31</td>\n",
       "      <td>1883</td>\n",
       "    </tr>\n",
       "  </tbody>\n",
       "</table>\n",
       "</div>"
      ],
      "text/plain": [
       "  EmployeeID  TotalWorkingHours  Billable_Hours  Hours_off_Duty  \\\n",
       "0    emp-106             3309.5          2352.0           298.0   \n",
       "1    emp-112             3178.5          2610.0           292.0   \n",
       "2    emp-114             3072.5          1618.7           264.0   \n",
       "3    emp-118             2400.0          2008.0           146.0   \n",
       "4     emp-12             4491.0          2653.0           601.0   \n",
       "\n",
       "   Touring_Hours  NoOfProjects  ActualTimeSpent  \n",
       "0            2.0            18             1736  \n",
       "1          325.0            21             1708  \n",
       "2         1104.0            25              882  \n",
       "3          728.0            18             1526  \n",
       "4          799.0            31             1883  "
      ]
     },
     "execution_count": 16,
     "metadata": {},
     "output_type": "execute_result"
    }
   ],
   "source": [
    "# There are duplicates in test_data_work\n",
    "test_main = test_data_work.groupby('EmployeeID').sum().reset_index()\n",
    "print(test_main.shape)\n",
    "test_main.head(5)"
   ]
  },
  {
   "cell_type": "markdown",
   "metadata": {},
   "source": [
    "## Merging Train data"
   ]
  },
  {
   "cell_type": "code",
   "execution_count": 21,
   "metadata": {},
   "outputs": [
    {
     "name": "stdout",
     "output_type": "stream",
     "text": [
      "(245, 8)\n"
     ]
    }
   ],
   "source": [
    "train_data1= pd.merge(train_main, train_data_attr, how=\"left\", on=\"EmployeeID\")\n",
    "print(train_data1.shape)"
   ]
  },
  {
   "cell_type": "code",
   "execution_count": 22,
   "metadata": {},
   "outputs": [
    {
     "data": {
      "text/html": [
       "<div>\n",
       "<style scoped>\n",
       "    .dataframe tbody tr th:only-of-type {\n",
       "        vertical-align: middle;\n",
       "    }\n",
       "\n",
       "    .dataframe tbody tr th {\n",
       "        vertical-align: top;\n",
       "    }\n",
       "\n",
       "    .dataframe thead th {\n",
       "        text-align: right;\n",
       "    }\n",
       "</style>\n",
       "<table border=\"1\" class=\"dataframe\">\n",
       "  <thead>\n",
       "    <tr style=\"text-align: right;\">\n",
       "      <th></th>\n",
       "      <th>EmployeeID</th>\n",
       "      <th>TotalWorkingHours</th>\n",
       "      <th>Billable_Hours</th>\n",
       "      <th>Hours_off_Duty</th>\n",
       "      <th>Touring_Hours</th>\n",
       "      <th>NoOfProjects</th>\n",
       "      <th>ActualTimeSpent</th>\n",
       "      <th>Left_Company</th>\n",
       "    </tr>\n",
       "  </thead>\n",
       "  <tbody>\n",
       "    <tr>\n",
       "      <th>0</th>\n",
       "      <td>emp-1</td>\n",
       "      <td>3424.0</td>\n",
       "      <td>2462.0</td>\n",
       "      <td>408.0</td>\n",
       "      <td>2462.0</td>\n",
       "      <td>42</td>\n",
       "      <td>2849</td>\n",
       "      <td>0.0</td>\n",
       "    </tr>\n",
       "    <tr>\n",
       "      <th>1</th>\n",
       "      <td>emp-10</td>\n",
       "      <td>2006.0</td>\n",
       "      <td>1274.0</td>\n",
       "      <td>328.0</td>\n",
       "      <td>691.0</td>\n",
       "      <td>13</td>\n",
       "      <td>616</td>\n",
       "      <td>1.0</td>\n",
       "    </tr>\n",
       "    <tr>\n",
       "      <th>2</th>\n",
       "      <td>emp-100</td>\n",
       "      <td>3607.0</td>\n",
       "      <td>3275.0</td>\n",
       "      <td>224.0</td>\n",
       "      <td>3235.0</td>\n",
       "      <td>23</td>\n",
       "      <td>3388</td>\n",
       "      <td>0.0</td>\n",
       "    </tr>\n",
       "    <tr>\n",
       "      <th>3</th>\n",
       "      <td>emp-101</td>\n",
       "      <td>4109.5</td>\n",
       "      <td>2759.5</td>\n",
       "      <td>192.0</td>\n",
       "      <td>0.0</td>\n",
       "      <td>18</td>\n",
       "      <td>1953</td>\n",
       "      <td>0.0</td>\n",
       "    </tr>\n",
       "    <tr>\n",
       "      <th>4</th>\n",
       "      <td>emp-102</td>\n",
       "      <td>3790.0</td>\n",
       "      <td>2720.5</td>\n",
       "      <td>344.0</td>\n",
       "      <td>1861.0</td>\n",
       "      <td>20</td>\n",
       "      <td>2254</td>\n",
       "      <td>0.0</td>\n",
       "    </tr>\n",
       "  </tbody>\n",
       "</table>\n",
       "</div>"
      ],
      "text/plain": [
       "  EmployeeID  TotalWorkingHours  Billable_Hours  Hours_off_Duty  \\\n",
       "0      emp-1             3424.0          2462.0           408.0   \n",
       "1     emp-10             2006.0          1274.0           328.0   \n",
       "2    emp-100             3607.0          3275.0           224.0   \n",
       "3    emp-101             4109.5          2759.5           192.0   \n",
       "4    emp-102             3790.0          2720.5           344.0   \n",
       "\n",
       "   Touring_Hours  NoOfProjects  ActualTimeSpent  Left_Company  \n",
       "0         2462.0            42             2849           0.0  \n",
       "1          691.0            13              616           1.0  \n",
       "2         3235.0            23             3388           0.0  \n",
       "3            0.0            18             1953           0.0  \n",
       "4         1861.0            20             2254           0.0  "
      ]
     },
     "execution_count": 22,
     "metadata": {},
     "output_type": "execute_result"
    }
   ],
   "source": [
    "train_data1.head(5)"
   ]
  },
  {
   "cell_type": "code",
   "execution_count": 24,
   "metadata": {},
   "outputs": [
    {
     "name": "stdout",
     "output_type": "stream",
     "text": [
      "(245, 12)\n"
     ]
    }
   ],
   "source": [
    "train_data = pd.merge(train_data1,data_employee, how=\"left\",on=\"EmployeeID\")\n",
    "print(train_data.shape)"
   ]
  },
  {
   "cell_type": "code",
   "execution_count": 43,
   "metadata": {},
   "outputs": [
    {
     "data": {
      "text/html": [
       "<div>\n",
       "<style scoped>\n",
       "    .dataframe tbody tr th:only-of-type {\n",
       "        vertical-align: middle;\n",
       "    }\n",
       "\n",
       "    .dataframe tbody tr th {\n",
       "        vertical-align: top;\n",
       "    }\n",
       "\n",
       "    .dataframe thead th {\n",
       "        text-align: right;\n",
       "    }\n",
       "</style>\n",
       "<table border=\"1\" class=\"dataframe\">\n",
       "  <thead>\n",
       "    <tr style=\"text-align: right;\">\n",
       "      <th></th>\n",
       "      <th>EmployeeID</th>\n",
       "      <th>TotalWorkingHours</th>\n",
       "      <th>Billable_Hours</th>\n",
       "      <th>Hours_off_Duty</th>\n",
       "      <th>Touring_Hours</th>\n",
       "      <th>NoOfProjects</th>\n",
       "      <th>ActualTimeSpent</th>\n",
       "      <th>Left_Company</th>\n",
       "      <th>Job_History</th>\n",
       "      <th>Joining_Date</th>\n",
       "      <th>Designation</th>\n",
       "      <th>Sex</th>\n",
       "    </tr>\n",
       "  </thead>\n",
       "  <tbody>\n",
       "    <tr>\n",
       "      <th>0</th>\n",
       "      <td>emp-1</td>\n",
       "      <td>3424.000000</td>\n",
       "      <td>2462.000000</td>\n",
       "      <td>408.0</td>\n",
       "      <td>2462.000000</td>\n",
       "      <td>42</td>\n",
       "      <td>2849</td>\n",
       "      <td>0.0</td>\n",
       "      <td>Worked at Company - 639 , Company - 212 , Comp...</td>\n",
       "      <td>2011_01</td>\n",
       "      <td>MD</td>\n",
       "      <td>1</td>\n",
       "    </tr>\n",
       "    <tr>\n",
       "      <th>1</th>\n",
       "      <td>emp-10</td>\n",
       "      <td>2006.000000</td>\n",
       "      <td>1274.000000</td>\n",
       "      <td>328.0</td>\n",
       "      <td>691.000000</td>\n",
       "      <td>13</td>\n",
       "      <td>616</td>\n",
       "      <td>1.0</td>\n",
       "      <td>Worked at Company - 816 , Company - 724 , Comp...</td>\n",
       "      <td>2006_02</td>\n",
       "      <td>VP</td>\n",
       "      <td>0</td>\n",
       "    </tr>\n",
       "    <tr>\n",
       "      <th>2</th>\n",
       "      <td>emp-100</td>\n",
       "      <td>3607.000000</td>\n",
       "      <td>3275.000000</td>\n",
       "      <td>224.0</td>\n",
       "      <td>3235.000000</td>\n",
       "      <td>23</td>\n",
       "      <td>3388</td>\n",
       "      <td>0.0</td>\n",
       "      <td>Worked at Company - 562 , Company - 319</td>\n",
       "      <td>2011_12</td>\n",
       "      <td>Senior</td>\n",
       "      <td>1</td>\n",
       "    </tr>\n",
       "    <tr>\n",
       "      <th>3</th>\n",
       "      <td>emp-101</td>\n",
       "      <td>4109.500000</td>\n",
       "      <td>2759.500000</td>\n",
       "      <td>192.0</td>\n",
       "      <td>0.000000</td>\n",
       "      <td>18</td>\n",
       "      <td>1953</td>\n",
       "      <td>0.0</td>\n",
       "      <td>Worked at Company - 212 , Company - 668 , Comp...</td>\n",
       "      <td>2012_01</td>\n",
       "      <td>Senior</td>\n",
       "      <td>1</td>\n",
       "    </tr>\n",
       "    <tr>\n",
       "      <th>4</th>\n",
       "      <td>emp-102</td>\n",
       "      <td>3790.000000</td>\n",
       "      <td>2720.500000</td>\n",
       "      <td>344.0</td>\n",
       "      <td>1861.000000</td>\n",
       "      <td>20</td>\n",
       "      <td>2254</td>\n",
       "      <td>0.0</td>\n",
       "      <td>Worked at Company - 234</td>\n",
       "      <td>2011_12</td>\n",
       "      <td>Senior</td>\n",
       "      <td>1</td>\n",
       "    </tr>\n",
       "    <tr>\n",
       "      <th>5</th>\n",
       "      <td>emp-103</td>\n",
       "      <td>3191.500000</td>\n",
       "      <td>2797.000000</td>\n",
       "      <td>213.0</td>\n",
       "      <td>2797.000000</td>\n",
       "      <td>20</td>\n",
       "      <td>2366</td>\n",
       "      <td>0.0</td>\n",
       "      <td>Worked at Company - 165 , Company - 597 , Comp...</td>\n",
       "      <td>2011_12</td>\n",
       "      <td>Senior</td>\n",
       "      <td>1</td>\n",
       "    </tr>\n",
       "    <tr>\n",
       "      <th>6</th>\n",
       "      <td>emp-104</td>\n",
       "      <td>3906.000000</td>\n",
       "      <td>3279.000000</td>\n",
       "      <td>256.0</td>\n",
       "      <td>3006.000000</td>\n",
       "      <td>24</td>\n",
       "      <td>1715</td>\n",
       "      <td>0.0</td>\n",
       "      <td>Worked at Company - 258</td>\n",
       "      <td>2011_12</td>\n",
       "      <td>Senior</td>\n",
       "      <td>1</td>\n",
       "    </tr>\n",
       "    <tr>\n",
       "      <th>7</th>\n",
       "      <td>emp-105</td>\n",
       "      <td>3301.000000</td>\n",
       "      <td>2169.000000</td>\n",
       "      <td>198.0</td>\n",
       "      <td>1203.000000</td>\n",
       "      <td>18</td>\n",
       "      <td>553</td>\n",
       "      <td>0.0</td>\n",
       "      <td>Worked at Company - 780 , Company - 703</td>\n",
       "      <td>2012_01</td>\n",
       "      <td>VP</td>\n",
       "      <td>1</td>\n",
       "    </tr>\n",
       "    <tr>\n",
       "      <th>8</th>\n",
       "      <td>emp-107</td>\n",
       "      <td>2241.500000</td>\n",
       "      <td>798.000000</td>\n",
       "      <td>196.0</td>\n",
       "      <td>798.000000</td>\n",
       "      <td>7</td>\n",
       "      <td>245</td>\n",
       "      <td>0.0</td>\n",
       "      <td>Worked at Company - 99 , Company - 569 , Compa...</td>\n",
       "      <td>2012_02</td>\n",
       "      <td>EVP</td>\n",
       "      <td>1</td>\n",
       "    </tr>\n",
       "    <tr>\n",
       "      <th>9</th>\n",
       "      <td>emp-108</td>\n",
       "      <td>2715.599998</td>\n",
       "      <td>1059.099998</td>\n",
       "      <td>316.0</td>\n",
       "      <td>0.000000</td>\n",
       "      <td>10</td>\n",
       "      <td>735</td>\n",
       "      <td>1.0</td>\n",
       "      <td>Worked at Company - 205 , Company - 373 , Comp...</td>\n",
       "      <td>2012_01</td>\n",
       "      <td>VP</td>\n",
       "      <td>1</td>\n",
       "    </tr>\n",
       "    <tr>\n",
       "      <th>10</th>\n",
       "      <td>emp-109</td>\n",
       "      <td>2994.500000</td>\n",
       "      <td>2508.000000</td>\n",
       "      <td>276.0</td>\n",
       "      <td>2508.000000</td>\n",
       "      <td>16</td>\n",
       "      <td>2954</td>\n",
       "      <td>0.0</td>\n",
       "      <td>Worked at Company - 13 , Company - 461 , Compa...</td>\n",
       "      <td>2012_02</td>\n",
       "      <td>Senior</td>\n",
       "      <td>1</td>\n",
       "    </tr>\n",
       "    <tr>\n",
       "      <th>11</th>\n",
       "      <td>emp-11</td>\n",
       "      <td>3955.000000</td>\n",
       "      <td>3089.000000</td>\n",
       "      <td>343.0</td>\n",
       "      <td>729.000000</td>\n",
       "      <td>27</td>\n",
       "      <td>1400</td>\n",
       "      <td>0.0</td>\n",
       "      <td>Worked at Company - 521 , Company - 304 , Comp...</td>\n",
       "      <td>2007_07</td>\n",
       "      <td>Junior</td>\n",
       "      <td>1</td>\n",
       "    </tr>\n",
       "    <tr>\n",
       "      <th>12</th>\n",
       "      <td>emp-110</td>\n",
       "      <td>3053.300000</td>\n",
       "      <td>2168.700000</td>\n",
       "      <td>278.0</td>\n",
       "      <td>413.000000</td>\n",
       "      <td>30</td>\n",
       "      <td>1134</td>\n",
       "      <td>0.0</td>\n",
       "      <td>Worked at Company - 750</td>\n",
       "      <td>2012_02</td>\n",
       "      <td>Senior</td>\n",
       "      <td>1</td>\n",
       "    </tr>\n",
       "    <tr>\n",
       "      <th>13</th>\n",
       "      <td>emp-111</td>\n",
       "      <td>2949.000000</td>\n",
       "      <td>1923.500000</td>\n",
       "      <td>257.0</td>\n",
       "      <td>1225.000000</td>\n",
       "      <td>15</td>\n",
       "      <td>1022</td>\n",
       "      <td>0.0</td>\n",
       "      <td>Worked at Company - 790 , Company - 151 , Comp...</td>\n",
       "      <td>2012_02</td>\n",
       "      <td>Senior</td>\n",
       "      <td>1</td>\n",
       "    </tr>\n",
       "    <tr>\n",
       "      <th>14</th>\n",
       "      <td>emp-113</td>\n",
       "      <td>2558.000000</td>\n",
       "      <td>1201.500000</td>\n",
       "      <td>296.0</td>\n",
       "      <td>1201.500000</td>\n",
       "      <td>11</td>\n",
       "      <td>749</td>\n",
       "      <td>0.0</td>\n",
       "      <td>Worked at Company - 296 , Company - 211 , Comp...</td>\n",
       "      <td>2012_02</td>\n",
       "      <td>VP</td>\n",
       "      <td>1</td>\n",
       "    </tr>\n",
       "    <tr>\n",
       "      <th>15</th>\n",
       "      <td>emp-115</td>\n",
       "      <td>1986.299999</td>\n",
       "      <td>1091.299999</td>\n",
       "      <td>212.0</td>\n",
       "      <td>444.299999</td>\n",
       "      <td>11</td>\n",
       "      <td>539</td>\n",
       "      <td>1.0</td>\n",
       "      <td>Worked at Company - 690 , Company - 280 , Comp...</td>\n",
       "      <td>2012_02</td>\n",
       "      <td>Senior</td>\n",
       "      <td>1</td>\n",
       "    </tr>\n",
       "    <tr>\n",
       "      <th>16</th>\n",
       "      <td>emp-116</td>\n",
       "      <td>2519.000000</td>\n",
       "      <td>1947.000000</td>\n",
       "      <td>278.0</td>\n",
       "      <td>552.000000</td>\n",
       "      <td>18</td>\n",
       "      <td>1995</td>\n",
       "      <td>0.0</td>\n",
       "      <td>Worked at Company - 695</td>\n",
       "      <td>2012_02</td>\n",
       "      <td>EVP</td>\n",
       "      <td>1</td>\n",
       "    </tr>\n",
       "    <tr>\n",
       "      <th>17</th>\n",
       "      <td>emp-117</td>\n",
       "      <td>2858.300000</td>\n",
       "      <td>1303.000000</td>\n",
       "      <td>224.0</td>\n",
       "      <td>1303.000000</td>\n",
       "      <td>11</td>\n",
       "      <td>763</td>\n",
       "      <td>0.0</td>\n",
       "      <td>Worked at Company - 658</td>\n",
       "      <td>2012_02</td>\n",
       "      <td>VP</td>\n",
       "      <td>1</td>\n",
       "    </tr>\n",
       "    <tr>\n",
       "      <th>18</th>\n",
       "      <td>emp-119</td>\n",
       "      <td>2558.500000</td>\n",
       "      <td>2093.000000</td>\n",
       "      <td>216.0</td>\n",
       "      <td>0.000000</td>\n",
       "      <td>15</td>\n",
       "      <td>2044</td>\n",
       "      <td>0.0</td>\n",
       "      <td>Worked at Company - 660</td>\n",
       "      <td>2012_04</td>\n",
       "      <td>Senior</td>\n",
       "      <td>1</td>\n",
       "    </tr>\n",
       "    <tr>\n",
       "      <th>19</th>\n",
       "      <td>emp-120</td>\n",
       "      <td>2486.000000</td>\n",
       "      <td>1790.000000</td>\n",
       "      <td>254.0</td>\n",
       "      <td>648.000000</td>\n",
       "      <td>19</td>\n",
       "      <td>847</td>\n",
       "      <td>0.0</td>\n",
       "      <td>Worked at Company - 795</td>\n",
       "      <td>2012_03</td>\n",
       "      <td>VP</td>\n",
       "      <td>1</td>\n",
       "    </tr>\n",
       "    <tr>\n",
       "      <th>20</th>\n",
       "      <td>emp-122</td>\n",
       "      <td>1604.000000</td>\n",
       "      <td>932.000000</td>\n",
       "      <td>224.0</td>\n",
       "      <td>932.000000</td>\n",
       "      <td>7</td>\n",
       "      <td>511</td>\n",
       "      <td>0.0</td>\n",
       "      <td>Worked at Company - 346 , Company - 108</td>\n",
       "      <td>2012_03</td>\n",
       "      <td>VP</td>\n",
       "      <td>1</td>\n",
       "    </tr>\n",
       "    <tr>\n",
       "      <th>21</th>\n",
       "      <td>emp-123</td>\n",
       "      <td>2920.500000</td>\n",
       "      <td>2530.500000</td>\n",
       "      <td>206.0</td>\n",
       "      <td>0.000000</td>\n",
       "      <td>19</td>\n",
       "      <td>2016</td>\n",
       "      <td>0.0</td>\n",
       "      <td>Worked at Company - 643</td>\n",
       "      <td>2012_04</td>\n",
       "      <td>Senior</td>\n",
       "      <td>1</td>\n",
       "    </tr>\n",
       "    <tr>\n",
       "      <th>22</th>\n",
       "      <td>emp-125</td>\n",
       "      <td>2388.000000</td>\n",
       "      <td>1958.000000</td>\n",
       "      <td>160.0</td>\n",
       "      <td>0.000000</td>\n",
       "      <td>14</td>\n",
       "      <td>1813</td>\n",
       "      <td>0.0</td>\n",
       "      <td>Worked at Company - 581</td>\n",
       "      <td>2012_05</td>\n",
       "      <td>Senior</td>\n",
       "      <td>1</td>\n",
       "    </tr>\n",
       "    <tr>\n",
       "      <th>23</th>\n",
       "      <td>emp-126</td>\n",
       "      <td>2680.000000</td>\n",
       "      <td>1568.000000</td>\n",
       "      <td>136.0</td>\n",
       "      <td>21.000000</td>\n",
       "      <td>14</td>\n",
       "      <td>1239</td>\n",
       "      <td>0.0</td>\n",
       "      <td>Worked at Company - 317 , Company - 875 , Comp...</td>\n",
       "      <td>2012_05</td>\n",
       "      <td>VP</td>\n",
       "      <td>1</td>\n",
       "    </tr>\n",
       "    <tr>\n",
       "      <th>24</th>\n",
       "      <td>emp-127</td>\n",
       "      <td>2514.500000</td>\n",
       "      <td>2248.500000</td>\n",
       "      <td>168.0</td>\n",
       "      <td>953.500000</td>\n",
       "      <td>17</td>\n",
       "      <td>1274</td>\n",
       "      <td>0.0</td>\n",
       "      <td>Worked at Company - 688 , Company - 448 , Comp...</td>\n",
       "      <td>2012_04</td>\n",
       "      <td>Junior</td>\n",
       "      <td>1</td>\n",
       "    </tr>\n",
       "  </tbody>\n",
       "</table>\n",
       "</div>"
      ],
      "text/plain": [
       "   EmployeeID  TotalWorkingHours  Billable_Hours  Hours_off_Duty  \\\n",
       "0       emp-1        3424.000000     2462.000000           408.0   \n",
       "1      emp-10        2006.000000     1274.000000           328.0   \n",
       "2     emp-100        3607.000000     3275.000000           224.0   \n",
       "3     emp-101        4109.500000     2759.500000           192.0   \n",
       "4     emp-102        3790.000000     2720.500000           344.0   \n",
       "5     emp-103        3191.500000     2797.000000           213.0   \n",
       "6     emp-104        3906.000000     3279.000000           256.0   \n",
       "7     emp-105        3301.000000     2169.000000           198.0   \n",
       "8     emp-107        2241.500000      798.000000           196.0   \n",
       "9     emp-108        2715.599998     1059.099998           316.0   \n",
       "10    emp-109        2994.500000     2508.000000           276.0   \n",
       "11     emp-11        3955.000000     3089.000000           343.0   \n",
       "12    emp-110        3053.300000     2168.700000           278.0   \n",
       "13    emp-111        2949.000000     1923.500000           257.0   \n",
       "14    emp-113        2558.000000     1201.500000           296.0   \n",
       "15    emp-115        1986.299999     1091.299999           212.0   \n",
       "16    emp-116        2519.000000     1947.000000           278.0   \n",
       "17    emp-117        2858.300000     1303.000000           224.0   \n",
       "18    emp-119        2558.500000     2093.000000           216.0   \n",
       "19    emp-120        2486.000000     1790.000000           254.0   \n",
       "20    emp-122        1604.000000      932.000000           224.0   \n",
       "21    emp-123        2920.500000     2530.500000           206.0   \n",
       "22    emp-125        2388.000000     1958.000000           160.0   \n",
       "23    emp-126        2680.000000     1568.000000           136.0   \n",
       "24    emp-127        2514.500000     2248.500000           168.0   \n",
       "\n",
       "    Touring_Hours  NoOfProjects  ActualTimeSpent  Left_Company  \\\n",
       "0     2462.000000            42             2849           0.0   \n",
       "1      691.000000            13              616           1.0   \n",
       "2     3235.000000            23             3388           0.0   \n",
       "3        0.000000            18             1953           0.0   \n",
       "4     1861.000000            20             2254           0.0   \n",
       "5     2797.000000            20             2366           0.0   \n",
       "6     3006.000000            24             1715           0.0   \n",
       "7     1203.000000            18              553           0.0   \n",
       "8      798.000000             7              245           0.0   \n",
       "9        0.000000            10              735           1.0   \n",
       "10    2508.000000            16             2954           0.0   \n",
       "11     729.000000            27             1400           0.0   \n",
       "12     413.000000            30             1134           0.0   \n",
       "13    1225.000000            15             1022           0.0   \n",
       "14    1201.500000            11              749           0.0   \n",
       "15     444.299999            11              539           1.0   \n",
       "16     552.000000            18             1995           0.0   \n",
       "17    1303.000000            11              763           0.0   \n",
       "18       0.000000            15             2044           0.0   \n",
       "19     648.000000            19              847           0.0   \n",
       "20     932.000000             7              511           0.0   \n",
       "21       0.000000            19             2016           0.0   \n",
       "22       0.000000            14             1813           0.0   \n",
       "23      21.000000            14             1239           0.0   \n",
       "24     953.500000            17             1274           0.0   \n",
       "\n",
       "                                          Job_History Joining_Date  \\\n",
       "0   Worked at Company - 639 , Company - 212 , Comp...      2011_01   \n",
       "1   Worked at Company - 816 , Company - 724 , Comp...      2006_02   \n",
       "2             Worked at Company - 562 , Company - 319      2011_12   \n",
       "3   Worked at Company - 212 , Company - 668 , Comp...      2012_01   \n",
       "4                             Worked at Company - 234      2011_12   \n",
       "5   Worked at Company - 165 , Company - 597 , Comp...      2011_12   \n",
       "6                             Worked at Company - 258      2011_12   \n",
       "7             Worked at Company - 780 , Company - 703      2012_01   \n",
       "8   Worked at Company - 99 , Company - 569 , Compa...      2012_02   \n",
       "9   Worked at Company - 205 , Company - 373 , Comp...      2012_01   \n",
       "10  Worked at Company - 13 , Company - 461 , Compa...      2012_02   \n",
       "11  Worked at Company - 521 , Company - 304 , Comp...      2007_07   \n",
       "12                            Worked at Company - 750      2012_02   \n",
       "13  Worked at Company - 790 , Company - 151 , Comp...      2012_02   \n",
       "14  Worked at Company - 296 , Company - 211 , Comp...      2012_02   \n",
       "15  Worked at Company - 690 , Company - 280 , Comp...      2012_02   \n",
       "16                            Worked at Company - 695      2012_02   \n",
       "17                            Worked at Company - 658      2012_02   \n",
       "18                            Worked at Company - 660      2012_04   \n",
       "19                            Worked at Company - 795      2012_03   \n",
       "20            Worked at Company - 346 , Company - 108      2012_03   \n",
       "21                            Worked at Company - 643      2012_04   \n",
       "22                            Worked at Company - 581      2012_05   \n",
       "23  Worked at Company - 317 , Company - 875 , Comp...      2012_05   \n",
       "24  Worked at Company - 688 , Company - 448 , Comp...      2012_04   \n",
       "\n",
       "   Designation  Sex  \n",
       "0           MD    1  \n",
       "1           VP    0  \n",
       "2       Senior    1  \n",
       "3       Senior    1  \n",
       "4       Senior    1  \n",
       "5       Senior    1  \n",
       "6       Senior    1  \n",
       "7           VP    1  \n",
       "8          EVP    1  \n",
       "9           VP    1  \n",
       "10      Senior    1  \n",
       "11      Junior    1  \n",
       "12      Senior    1  \n",
       "13      Senior    1  \n",
       "14          VP    1  \n",
       "15      Senior    1  \n",
       "16         EVP    1  \n",
       "17          VP    1  \n",
       "18      Senior    1  \n",
       "19          VP    1  \n",
       "20          VP    1  \n",
       "21      Senior    1  \n",
       "22      Senior    1  \n",
       "23          VP    1  \n",
       "24      Junior    1  "
      ]
     },
     "execution_count": 43,
     "metadata": {},
     "output_type": "execute_result"
    }
   ],
   "source": [
    "train_data.head(25)"
   ]
  },
  {
   "cell_type": "markdown",
   "metadata": {},
   "source": [
    "### Train columns"
   ]
  },
  {
   "cell_type": "code",
   "execution_count": 29,
   "metadata": {},
   "outputs": [
    {
     "data": {
      "text/plain": [
       "Index(['EmployeeID', 'TotalWorkingHours', 'Billable_Hours', 'Hours_off_Duty',\n",
       "       'Touring_Hours', 'NoOfProjects', 'ActualTimeSpent', 'Left_Company',\n",
       "       'Job_History', 'Joining_Date', 'Designation', 'Sex'],\n",
       "      dtype='object')"
      ]
     },
     "execution_count": 29,
     "metadata": {},
     "output_type": "execute_result"
    }
   ],
   "source": [
    "train_data.columns"
   ]
  },
  {
   "cell_type": "markdown",
   "metadata": {},
   "source": [
    "### Train shape"
   ]
  },
  {
   "cell_type": "code",
   "execution_count": 30,
   "metadata": {},
   "outputs": [
    {
     "data": {
      "text/plain": [
       "(245, 12)"
      ]
     },
     "execution_count": 30,
     "metadata": {},
     "output_type": "execute_result"
    }
   ],
   "source": [
    "train_data.shape"
   ]
  },
  {
   "cell_type": "markdown",
   "metadata": {},
   "source": [
    "### Extracting Year & month"
   ]
  },
  {
   "cell_type": "code",
   "execution_count": 44,
   "metadata": {},
   "outputs": [],
   "source": [
    "import datetime"
   ]
  },
  {
   "cell_type": "code",
   "execution_count": 51,
   "metadata": {},
   "outputs": [
    {
     "ename": "ValueError",
     "evalue": "('Unknown string format:', '2011_01')",
     "output_type": "error",
     "traceback": [
      "\u001b[1;31m---------------------------------------------------------------------------\u001b[0m",
      "\u001b[1;31mTypeError\u001b[0m                                 Traceback (most recent call last)",
      "\u001b[1;32m~\\Anaconda3\\lib\\site-packages\\pandas\\core\\tools\\datetimes.py\u001b[0m in \u001b[0;36m_convert_listlike\u001b[1;34m(arg, box, format, name, tz)\u001b[0m\n\u001b[0;32m    376\u001b[0m             \u001b[1;32mtry\u001b[0m\u001b[1;33m:\u001b[0m\u001b[1;33m\u001b[0m\u001b[0m\n\u001b[1;32m--> 377\u001b[1;33m                 \u001b[0mvalues\u001b[0m\u001b[1;33m,\u001b[0m \u001b[0mtz\u001b[0m \u001b[1;33m=\u001b[0m \u001b[0mconversion\u001b[0m\u001b[1;33m.\u001b[0m\u001b[0mdatetime_to_datetime64\u001b[0m\u001b[1;33m(\u001b[0m\u001b[0marg\u001b[0m\u001b[1;33m)\u001b[0m\u001b[1;33m\u001b[0m\u001b[0m\n\u001b[0m\u001b[0;32m    378\u001b[0m                 \u001b[1;32mreturn\u001b[0m \u001b[0mDatetimeIndex\u001b[0m\u001b[1;33m.\u001b[0m\u001b[0m_simple_new\u001b[0m\u001b[1;33m(\u001b[0m\u001b[0mvalues\u001b[0m\u001b[1;33m,\u001b[0m \u001b[0mname\u001b[0m\u001b[1;33m=\u001b[0m\u001b[0mname\u001b[0m\u001b[1;33m,\u001b[0m \u001b[0mtz\u001b[0m\u001b[1;33m=\u001b[0m\u001b[0mtz\u001b[0m\u001b[1;33m)\u001b[0m\u001b[1;33m\u001b[0m\u001b[0m\n",
      "\u001b[1;32mpandas\\_libs\\tslibs\\conversion.pyx\u001b[0m in \u001b[0;36mpandas._libs.tslibs.conversion.datetime_to_datetime64\u001b[1;34m()\u001b[0m\n",
      "\u001b[1;31mTypeError\u001b[0m: Unrecognized value type: <class 'str'>",
      "\nDuring handling of the above exception, another exception occurred:\n",
      "\u001b[1;31mValueError\u001b[0m                                Traceback (most recent call last)",
      "\u001b[1;32m<ipython-input-51-ea88669a0138>\u001b[0m in \u001b[0;36m<module>\u001b[1;34m()\u001b[0m\n\u001b[0;32m      1\u001b[0m \u001b[1;31m# df['month'] = pd.DatetimeIndex(df['birth_date']).month\u001b[0m\u001b[1;33m\u001b[0m\u001b[1;33m\u001b[0m\u001b[0m\n\u001b[1;32m----> 2\u001b[1;33m \u001b[0mtrain_data\u001b[0m\u001b[1;33m[\u001b[0m\u001b[1;34m'month'\u001b[0m\u001b[1;33m]\u001b[0m \u001b[1;33m=\u001b[0m \u001b[0mpd\u001b[0m\u001b[1;33m.\u001b[0m\u001b[0mDatetimeIndex\u001b[0m\u001b[1;33m(\u001b[0m\u001b[0mtrain_data\u001b[0m\u001b[1;33m[\u001b[0m\u001b[1;34m'Joining_Date'\u001b[0m\u001b[1;33m]\u001b[0m\u001b[1;33m)\u001b[0m\u001b[1;33m.\u001b[0m\u001b[0mmonth\u001b[0m\u001b[1;33m\u001b[0m\u001b[0m\n\u001b[0m",
      "\u001b[1;32m~\\Anaconda3\\lib\\site-packages\\pandas\\core\\indexes\\datetimes.py\u001b[0m in \u001b[0;36m__new__\u001b[1;34m(cls, data, freq, start, end, periods, tz, normalize, closed, ambiguous, dayfirst, yearfirst, dtype, copy, name, verify_integrity)\u001b[0m\n\u001b[0;32m    397\u001b[0m                 is_integer_dtype(data)):\n\u001b[0;32m    398\u001b[0m             data = tools.to_datetime(data, dayfirst=dayfirst,\n\u001b[1;32m--> 399\u001b[1;33m                                      yearfirst=yearfirst)\n\u001b[0m\u001b[0;32m    400\u001b[0m \u001b[1;33m\u001b[0m\u001b[0m\n\u001b[0;32m    401\u001b[0m         \u001b[1;32mif\u001b[0m \u001b[0missubclass\u001b[0m\u001b[1;33m(\u001b[0m\u001b[0mdata\u001b[0m\u001b[1;33m.\u001b[0m\u001b[0mdtype\u001b[0m\u001b[1;33m.\u001b[0m\u001b[0mtype\u001b[0m\u001b[1;33m,\u001b[0m \u001b[0mnp\u001b[0m\u001b[1;33m.\u001b[0m\u001b[0mdatetime64\u001b[0m\u001b[1;33m)\u001b[0m \u001b[1;32mor\u001b[0m \u001b[0mis_datetimetz\u001b[0m\u001b[1;33m(\u001b[0m\u001b[0mdata\u001b[0m\u001b[1;33m)\u001b[0m\u001b[1;33m:\u001b[0m\u001b[1;33m\u001b[0m\u001b[0m\n",
      "\u001b[1;32m~\\Anaconda3\\lib\\site-packages\\pandas\\core\\tools\\datetimes.py\u001b[0m in \u001b[0;36mto_datetime\u001b[1;34m(arg, errors, dayfirst, yearfirst, utc, box, format, exact, unit, infer_datetime_format, origin, cache)\u001b[0m\n\u001b[0;32m    465\u001b[0m             \u001b[0mresult\u001b[0m \u001b[1;33m=\u001b[0m \u001b[0m_convert_and_box_cache\u001b[0m\u001b[1;33m(\u001b[0m\u001b[0marg\u001b[0m\u001b[1;33m,\u001b[0m \u001b[0mcache_array\u001b[0m\u001b[1;33m,\u001b[0m \u001b[0mbox\u001b[0m\u001b[1;33m,\u001b[0m \u001b[0merrors\u001b[0m\u001b[1;33m)\u001b[0m\u001b[1;33m\u001b[0m\u001b[0m\n\u001b[0;32m    466\u001b[0m         \u001b[1;32melse\u001b[0m\u001b[1;33m:\u001b[0m\u001b[1;33m\u001b[0m\u001b[0m\n\u001b[1;32m--> 467\u001b[1;33m             \u001b[0mresult\u001b[0m \u001b[1;33m=\u001b[0m \u001b[0m_convert_listlike\u001b[0m\u001b[1;33m(\u001b[0m\u001b[0marg\u001b[0m\u001b[1;33m,\u001b[0m \u001b[0mbox\u001b[0m\u001b[1;33m,\u001b[0m \u001b[0mformat\u001b[0m\u001b[1;33m)\u001b[0m\u001b[1;33m\u001b[0m\u001b[0m\n\u001b[0m\u001b[0;32m    468\u001b[0m     \u001b[1;32melse\u001b[0m\u001b[1;33m:\u001b[0m\u001b[1;33m\u001b[0m\u001b[0m\n\u001b[0;32m    469\u001b[0m         \u001b[0mresult\u001b[0m \u001b[1;33m=\u001b[0m \u001b[0m_convert_listlike\u001b[0m\u001b[1;33m(\u001b[0m\u001b[0mnp\u001b[0m\u001b[1;33m.\u001b[0m\u001b[0marray\u001b[0m\u001b[1;33m(\u001b[0m\u001b[1;33m[\u001b[0m\u001b[0marg\u001b[0m\u001b[1;33m]\u001b[0m\u001b[1;33m)\u001b[0m\u001b[1;33m,\u001b[0m \u001b[0mbox\u001b[0m\u001b[1;33m,\u001b[0m \u001b[0mformat\u001b[0m\u001b[1;33m)\u001b[0m\u001b[1;33m[\u001b[0m\u001b[1;36m0\u001b[0m\u001b[1;33m]\u001b[0m\u001b[1;33m\u001b[0m\u001b[0m\n",
      "\u001b[1;32m~\\Anaconda3\\lib\\site-packages\\pandas\\core\\tools\\datetimes.py\u001b[0m in \u001b[0;36m_convert_listlike\u001b[1;34m(arg, box, format, name, tz)\u001b[0m\n\u001b[0;32m    378\u001b[0m                 \u001b[1;32mreturn\u001b[0m \u001b[0mDatetimeIndex\u001b[0m\u001b[1;33m.\u001b[0m\u001b[0m_simple_new\u001b[0m\u001b[1;33m(\u001b[0m\u001b[0mvalues\u001b[0m\u001b[1;33m,\u001b[0m \u001b[0mname\u001b[0m\u001b[1;33m=\u001b[0m\u001b[0mname\u001b[0m\u001b[1;33m,\u001b[0m \u001b[0mtz\u001b[0m\u001b[1;33m=\u001b[0m\u001b[0mtz\u001b[0m\u001b[1;33m)\u001b[0m\u001b[1;33m\u001b[0m\u001b[0m\n\u001b[0;32m    379\u001b[0m             \u001b[1;32mexcept\u001b[0m \u001b[1;33m(\u001b[0m\u001b[0mValueError\u001b[0m\u001b[1;33m,\u001b[0m \u001b[0mTypeError\u001b[0m\u001b[1;33m)\u001b[0m\u001b[1;33m:\u001b[0m\u001b[1;33m\u001b[0m\u001b[0m\n\u001b[1;32m--> 380\u001b[1;33m                 \u001b[1;32mraise\u001b[0m \u001b[0me\u001b[0m\u001b[1;33m\u001b[0m\u001b[0m\n\u001b[0m\u001b[0;32m    381\u001b[0m \u001b[1;33m\u001b[0m\u001b[0m\n\u001b[0;32m    382\u001b[0m     \u001b[1;32mif\u001b[0m \u001b[0marg\u001b[0m \u001b[1;32mis\u001b[0m \u001b[1;32mNone\u001b[0m\u001b[1;33m:\u001b[0m\u001b[1;33m\u001b[0m\u001b[0m\n",
      "\u001b[1;32m~\\Anaconda3\\lib\\site-packages\\pandas\\core\\tools\\datetimes.py\u001b[0m in \u001b[0;36m_convert_listlike\u001b[1;34m(arg, box, format, name, tz)\u001b[0m\n\u001b[0;32m    366\u001b[0m                     \u001b[0mdayfirst\u001b[0m\u001b[1;33m=\u001b[0m\u001b[0mdayfirst\u001b[0m\u001b[1;33m,\u001b[0m\u001b[1;33m\u001b[0m\u001b[0m\n\u001b[0;32m    367\u001b[0m                     \u001b[0myearfirst\u001b[0m\u001b[1;33m=\u001b[0m\u001b[0myearfirst\u001b[0m\u001b[1;33m,\u001b[0m\u001b[1;33m\u001b[0m\u001b[0m\n\u001b[1;32m--> 368\u001b[1;33m                     \u001b[0mrequire_iso8601\u001b[0m\u001b[1;33m=\u001b[0m\u001b[0mrequire_iso8601\u001b[0m\u001b[1;33m\u001b[0m\u001b[0m\n\u001b[0m\u001b[0;32m    369\u001b[0m                 )\n\u001b[0;32m    370\u001b[0m \u001b[1;33m\u001b[0m\u001b[0m\n",
      "\u001b[1;32mpandas\\_libs\\tslib.pyx\u001b[0m in \u001b[0;36mpandas._libs.tslib.array_to_datetime\u001b[1;34m()\u001b[0m\n",
      "\u001b[1;32mpandas\\_libs\\tslib.pyx\u001b[0m in \u001b[0;36mpandas._libs.tslib.array_to_datetime\u001b[1;34m()\u001b[0m\n",
      "\u001b[1;32mpandas\\_libs\\tslib.pyx\u001b[0m in \u001b[0;36mpandas._libs.tslib.array_to_datetime\u001b[1;34m()\u001b[0m\n",
      "\u001b[1;32mpandas\\_libs\\tslibs\\parsing.pyx\u001b[0m in \u001b[0;36mpandas._libs.tslibs.parsing.parse_datetime_string\u001b[1;34m()\u001b[0m\n",
      "\u001b[1;32m~\\Anaconda3\\lib\\site-packages\\dateutil\\parser\\_parser.py\u001b[0m in \u001b[0;36mparse\u001b[1;34m(timestr, parserinfo, **kwargs)\u001b[0m\n\u001b[0;32m   1354\u001b[0m         \u001b[1;32mreturn\u001b[0m \u001b[0mparser\u001b[0m\u001b[1;33m(\u001b[0m\u001b[0mparserinfo\u001b[0m\u001b[1;33m)\u001b[0m\u001b[1;33m.\u001b[0m\u001b[0mparse\u001b[0m\u001b[1;33m(\u001b[0m\u001b[0mtimestr\u001b[0m\u001b[1;33m,\u001b[0m \u001b[1;33m**\u001b[0m\u001b[0mkwargs\u001b[0m\u001b[1;33m)\u001b[0m\u001b[1;33m\u001b[0m\u001b[0m\n\u001b[0;32m   1355\u001b[0m     \u001b[1;32melse\u001b[0m\u001b[1;33m:\u001b[0m\u001b[1;33m\u001b[0m\u001b[0m\n\u001b[1;32m-> 1356\u001b[1;33m         \u001b[1;32mreturn\u001b[0m \u001b[0mDEFAULTPARSER\u001b[0m\u001b[1;33m.\u001b[0m\u001b[0mparse\u001b[0m\u001b[1;33m(\u001b[0m\u001b[0mtimestr\u001b[0m\u001b[1;33m,\u001b[0m \u001b[1;33m**\u001b[0m\u001b[0mkwargs\u001b[0m\u001b[1;33m)\u001b[0m\u001b[1;33m\u001b[0m\u001b[0m\n\u001b[0m\u001b[0;32m   1357\u001b[0m \u001b[1;33m\u001b[0m\u001b[0m\n\u001b[0;32m   1358\u001b[0m \u001b[1;33m\u001b[0m\u001b[0m\n",
      "\u001b[1;32m~\\Anaconda3\\lib\\site-packages\\dateutil\\parser\\_parser.py\u001b[0m in \u001b[0;36mparse\u001b[1;34m(self, timestr, default, ignoretz, tzinfos, **kwargs)\u001b[0m\n\u001b[0;32m    646\u001b[0m \u001b[1;33m\u001b[0m\u001b[0m\n\u001b[0;32m    647\u001b[0m         \u001b[1;32mif\u001b[0m \u001b[0mres\u001b[0m \u001b[1;32mis\u001b[0m \u001b[1;32mNone\u001b[0m\u001b[1;33m:\u001b[0m\u001b[1;33m\u001b[0m\u001b[0m\n\u001b[1;32m--> 648\u001b[1;33m             \u001b[1;32mraise\u001b[0m \u001b[0mValueError\u001b[0m\u001b[1;33m(\u001b[0m\u001b[1;34m\"Unknown string format:\"\u001b[0m\u001b[1;33m,\u001b[0m \u001b[0mtimestr\u001b[0m\u001b[1;33m)\u001b[0m\u001b[1;33m\u001b[0m\u001b[0m\n\u001b[0m\u001b[0;32m    649\u001b[0m \u001b[1;33m\u001b[0m\u001b[0m\n\u001b[0;32m    650\u001b[0m         \u001b[1;32mif\u001b[0m \u001b[0mlen\u001b[0m\u001b[1;33m(\u001b[0m\u001b[0mres\u001b[0m\u001b[1;33m)\u001b[0m \u001b[1;33m==\u001b[0m \u001b[1;36m0\u001b[0m\u001b[1;33m:\u001b[0m\u001b[1;33m\u001b[0m\u001b[0m\n",
      "\u001b[1;31mValueError\u001b[0m: ('Unknown string format:', '2011_01')"
     ]
    }
   ],
   "source": [
    "# df['month'] = pd.DatetimeIndex(df['birth_date']).month\n",
    "train_data['month'] = pd.DatetimeIndex(train_data['Joining_Date']).month"
   ]
  },
  {
   "cell_type": "code",
   "execution_count": 50,
   "metadata": {},
   "outputs": [
    {
     "ename": "ValueError",
     "evalue": "('Unknown string format:', '2011_01')",
     "output_type": "error",
     "traceback": [
      "\u001b[1;31m---------------------------------------------------------------------------\u001b[0m",
      "\u001b[1;31mTypeError\u001b[0m                                 Traceback (most recent call last)",
      "\u001b[1;32m~\\Anaconda3\\lib\\site-packages\\pandas\\core\\tools\\datetimes.py\u001b[0m in \u001b[0;36m_convert_listlike\u001b[1;34m(arg, box, format, name, tz)\u001b[0m\n\u001b[0;32m    376\u001b[0m             \u001b[1;32mtry\u001b[0m\u001b[1;33m:\u001b[0m\u001b[1;33m\u001b[0m\u001b[0m\n\u001b[1;32m--> 377\u001b[1;33m                 \u001b[0mvalues\u001b[0m\u001b[1;33m,\u001b[0m \u001b[0mtz\u001b[0m \u001b[1;33m=\u001b[0m \u001b[0mconversion\u001b[0m\u001b[1;33m.\u001b[0m\u001b[0mdatetime_to_datetime64\u001b[0m\u001b[1;33m(\u001b[0m\u001b[0marg\u001b[0m\u001b[1;33m)\u001b[0m\u001b[1;33m\u001b[0m\u001b[0m\n\u001b[0m\u001b[0;32m    378\u001b[0m                 \u001b[1;32mreturn\u001b[0m \u001b[0mDatetimeIndex\u001b[0m\u001b[1;33m.\u001b[0m\u001b[0m_simple_new\u001b[0m\u001b[1;33m(\u001b[0m\u001b[0mvalues\u001b[0m\u001b[1;33m,\u001b[0m \u001b[0mname\u001b[0m\u001b[1;33m=\u001b[0m\u001b[0mname\u001b[0m\u001b[1;33m,\u001b[0m \u001b[0mtz\u001b[0m\u001b[1;33m=\u001b[0m\u001b[0mtz\u001b[0m\u001b[1;33m)\u001b[0m\u001b[1;33m\u001b[0m\u001b[0m\n",
      "\u001b[1;32mpandas\\_libs\\tslibs\\conversion.pyx\u001b[0m in \u001b[0;36mpandas._libs.tslibs.conversion.datetime_to_datetime64\u001b[1;34m()\u001b[0m\n",
      "\u001b[1;31mTypeError\u001b[0m: Unrecognized value type: <class 'str'>",
      "\nDuring handling of the above exception, another exception occurred:\n",
      "\u001b[1;31mValueError\u001b[0m                                Traceback (most recent call last)",
      "\u001b[1;32m<ipython-input-50-f7b012da3398>\u001b[0m in \u001b[0;36m<module>\u001b[1;34m()\u001b[0m\n\u001b[0;32m      1\u001b[0m \u001b[1;31m# df['year'] = pd.DatetimeIndex(df['birth_date']).year\u001b[0m\u001b[1;33m\u001b[0m\u001b[1;33m\u001b[0m\u001b[0m\n\u001b[1;32m----> 2\u001b[1;33m \u001b[0mtrain_data\u001b[0m\u001b[1;33m[\u001b[0m\u001b[1;34m'year'\u001b[0m\u001b[1;33m]\u001b[0m \u001b[1;33m=\u001b[0m \u001b[0mpd\u001b[0m\u001b[1;33m.\u001b[0m\u001b[0mDatetimeIndex\u001b[0m\u001b[1;33m(\u001b[0m\u001b[0mtrain_data\u001b[0m\u001b[1;33m[\u001b[0m\u001b[1;34m'Joining_Date'\u001b[0m\u001b[1;33m]\u001b[0m\u001b[1;33m)\u001b[0m\u001b[1;33m.\u001b[0m\u001b[0myear\u001b[0m\u001b[1;33m\u001b[0m\u001b[0m\n\u001b[0m",
      "\u001b[1;32m~\\Anaconda3\\lib\\site-packages\\pandas\\core\\indexes\\datetimes.py\u001b[0m in \u001b[0;36m__new__\u001b[1;34m(cls, data, freq, start, end, periods, tz, normalize, closed, ambiguous, dayfirst, yearfirst, dtype, copy, name, verify_integrity)\u001b[0m\n\u001b[0;32m    397\u001b[0m                 is_integer_dtype(data)):\n\u001b[0;32m    398\u001b[0m             data = tools.to_datetime(data, dayfirst=dayfirst,\n\u001b[1;32m--> 399\u001b[1;33m                                      yearfirst=yearfirst)\n\u001b[0m\u001b[0;32m    400\u001b[0m \u001b[1;33m\u001b[0m\u001b[0m\n\u001b[0;32m    401\u001b[0m         \u001b[1;32mif\u001b[0m \u001b[0missubclass\u001b[0m\u001b[1;33m(\u001b[0m\u001b[0mdata\u001b[0m\u001b[1;33m.\u001b[0m\u001b[0mdtype\u001b[0m\u001b[1;33m.\u001b[0m\u001b[0mtype\u001b[0m\u001b[1;33m,\u001b[0m \u001b[0mnp\u001b[0m\u001b[1;33m.\u001b[0m\u001b[0mdatetime64\u001b[0m\u001b[1;33m)\u001b[0m \u001b[1;32mor\u001b[0m \u001b[0mis_datetimetz\u001b[0m\u001b[1;33m(\u001b[0m\u001b[0mdata\u001b[0m\u001b[1;33m)\u001b[0m\u001b[1;33m:\u001b[0m\u001b[1;33m\u001b[0m\u001b[0m\n",
      "\u001b[1;32m~\\Anaconda3\\lib\\site-packages\\pandas\\core\\tools\\datetimes.py\u001b[0m in \u001b[0;36mto_datetime\u001b[1;34m(arg, errors, dayfirst, yearfirst, utc, box, format, exact, unit, infer_datetime_format, origin, cache)\u001b[0m\n\u001b[0;32m    465\u001b[0m             \u001b[0mresult\u001b[0m \u001b[1;33m=\u001b[0m \u001b[0m_convert_and_box_cache\u001b[0m\u001b[1;33m(\u001b[0m\u001b[0marg\u001b[0m\u001b[1;33m,\u001b[0m \u001b[0mcache_array\u001b[0m\u001b[1;33m,\u001b[0m \u001b[0mbox\u001b[0m\u001b[1;33m,\u001b[0m \u001b[0merrors\u001b[0m\u001b[1;33m)\u001b[0m\u001b[1;33m\u001b[0m\u001b[0m\n\u001b[0;32m    466\u001b[0m         \u001b[1;32melse\u001b[0m\u001b[1;33m:\u001b[0m\u001b[1;33m\u001b[0m\u001b[0m\n\u001b[1;32m--> 467\u001b[1;33m             \u001b[0mresult\u001b[0m \u001b[1;33m=\u001b[0m \u001b[0m_convert_listlike\u001b[0m\u001b[1;33m(\u001b[0m\u001b[0marg\u001b[0m\u001b[1;33m,\u001b[0m \u001b[0mbox\u001b[0m\u001b[1;33m,\u001b[0m \u001b[0mformat\u001b[0m\u001b[1;33m)\u001b[0m\u001b[1;33m\u001b[0m\u001b[0m\n\u001b[0m\u001b[0;32m    468\u001b[0m     \u001b[1;32melse\u001b[0m\u001b[1;33m:\u001b[0m\u001b[1;33m\u001b[0m\u001b[0m\n\u001b[0;32m    469\u001b[0m         \u001b[0mresult\u001b[0m \u001b[1;33m=\u001b[0m \u001b[0m_convert_listlike\u001b[0m\u001b[1;33m(\u001b[0m\u001b[0mnp\u001b[0m\u001b[1;33m.\u001b[0m\u001b[0marray\u001b[0m\u001b[1;33m(\u001b[0m\u001b[1;33m[\u001b[0m\u001b[0marg\u001b[0m\u001b[1;33m]\u001b[0m\u001b[1;33m)\u001b[0m\u001b[1;33m,\u001b[0m \u001b[0mbox\u001b[0m\u001b[1;33m,\u001b[0m \u001b[0mformat\u001b[0m\u001b[1;33m)\u001b[0m\u001b[1;33m[\u001b[0m\u001b[1;36m0\u001b[0m\u001b[1;33m]\u001b[0m\u001b[1;33m\u001b[0m\u001b[0m\n",
      "\u001b[1;32m~\\Anaconda3\\lib\\site-packages\\pandas\\core\\tools\\datetimes.py\u001b[0m in \u001b[0;36m_convert_listlike\u001b[1;34m(arg, box, format, name, tz)\u001b[0m\n\u001b[0;32m    378\u001b[0m                 \u001b[1;32mreturn\u001b[0m \u001b[0mDatetimeIndex\u001b[0m\u001b[1;33m.\u001b[0m\u001b[0m_simple_new\u001b[0m\u001b[1;33m(\u001b[0m\u001b[0mvalues\u001b[0m\u001b[1;33m,\u001b[0m \u001b[0mname\u001b[0m\u001b[1;33m=\u001b[0m\u001b[0mname\u001b[0m\u001b[1;33m,\u001b[0m \u001b[0mtz\u001b[0m\u001b[1;33m=\u001b[0m\u001b[0mtz\u001b[0m\u001b[1;33m)\u001b[0m\u001b[1;33m\u001b[0m\u001b[0m\n\u001b[0;32m    379\u001b[0m             \u001b[1;32mexcept\u001b[0m \u001b[1;33m(\u001b[0m\u001b[0mValueError\u001b[0m\u001b[1;33m,\u001b[0m \u001b[0mTypeError\u001b[0m\u001b[1;33m)\u001b[0m\u001b[1;33m:\u001b[0m\u001b[1;33m\u001b[0m\u001b[0m\n\u001b[1;32m--> 380\u001b[1;33m                 \u001b[1;32mraise\u001b[0m \u001b[0me\u001b[0m\u001b[1;33m\u001b[0m\u001b[0m\n\u001b[0m\u001b[0;32m    381\u001b[0m \u001b[1;33m\u001b[0m\u001b[0m\n\u001b[0;32m    382\u001b[0m     \u001b[1;32mif\u001b[0m \u001b[0marg\u001b[0m \u001b[1;32mis\u001b[0m \u001b[1;32mNone\u001b[0m\u001b[1;33m:\u001b[0m\u001b[1;33m\u001b[0m\u001b[0m\n",
      "\u001b[1;32m~\\Anaconda3\\lib\\site-packages\\pandas\\core\\tools\\datetimes.py\u001b[0m in \u001b[0;36m_convert_listlike\u001b[1;34m(arg, box, format, name, tz)\u001b[0m\n\u001b[0;32m    366\u001b[0m                     \u001b[0mdayfirst\u001b[0m\u001b[1;33m=\u001b[0m\u001b[0mdayfirst\u001b[0m\u001b[1;33m,\u001b[0m\u001b[1;33m\u001b[0m\u001b[0m\n\u001b[0;32m    367\u001b[0m                     \u001b[0myearfirst\u001b[0m\u001b[1;33m=\u001b[0m\u001b[0myearfirst\u001b[0m\u001b[1;33m,\u001b[0m\u001b[1;33m\u001b[0m\u001b[0m\n\u001b[1;32m--> 368\u001b[1;33m                     \u001b[0mrequire_iso8601\u001b[0m\u001b[1;33m=\u001b[0m\u001b[0mrequire_iso8601\u001b[0m\u001b[1;33m\u001b[0m\u001b[0m\n\u001b[0m\u001b[0;32m    369\u001b[0m                 )\n\u001b[0;32m    370\u001b[0m \u001b[1;33m\u001b[0m\u001b[0m\n",
      "\u001b[1;32mpandas\\_libs\\tslib.pyx\u001b[0m in \u001b[0;36mpandas._libs.tslib.array_to_datetime\u001b[1;34m()\u001b[0m\n",
      "\u001b[1;32mpandas\\_libs\\tslib.pyx\u001b[0m in \u001b[0;36mpandas._libs.tslib.array_to_datetime\u001b[1;34m()\u001b[0m\n",
      "\u001b[1;32mpandas\\_libs\\tslib.pyx\u001b[0m in \u001b[0;36mpandas._libs.tslib.array_to_datetime\u001b[1;34m()\u001b[0m\n",
      "\u001b[1;32mpandas\\_libs\\tslibs\\parsing.pyx\u001b[0m in \u001b[0;36mpandas._libs.tslibs.parsing.parse_datetime_string\u001b[1;34m()\u001b[0m\n",
      "\u001b[1;32m~\\Anaconda3\\lib\\site-packages\\dateutil\\parser\\_parser.py\u001b[0m in \u001b[0;36mparse\u001b[1;34m(timestr, parserinfo, **kwargs)\u001b[0m\n\u001b[0;32m   1354\u001b[0m         \u001b[1;32mreturn\u001b[0m \u001b[0mparser\u001b[0m\u001b[1;33m(\u001b[0m\u001b[0mparserinfo\u001b[0m\u001b[1;33m)\u001b[0m\u001b[1;33m.\u001b[0m\u001b[0mparse\u001b[0m\u001b[1;33m(\u001b[0m\u001b[0mtimestr\u001b[0m\u001b[1;33m,\u001b[0m \u001b[1;33m**\u001b[0m\u001b[0mkwargs\u001b[0m\u001b[1;33m)\u001b[0m\u001b[1;33m\u001b[0m\u001b[0m\n\u001b[0;32m   1355\u001b[0m     \u001b[1;32melse\u001b[0m\u001b[1;33m:\u001b[0m\u001b[1;33m\u001b[0m\u001b[0m\n\u001b[1;32m-> 1356\u001b[1;33m         \u001b[1;32mreturn\u001b[0m \u001b[0mDEFAULTPARSER\u001b[0m\u001b[1;33m.\u001b[0m\u001b[0mparse\u001b[0m\u001b[1;33m(\u001b[0m\u001b[0mtimestr\u001b[0m\u001b[1;33m,\u001b[0m \u001b[1;33m**\u001b[0m\u001b[0mkwargs\u001b[0m\u001b[1;33m)\u001b[0m\u001b[1;33m\u001b[0m\u001b[0m\n\u001b[0m\u001b[0;32m   1357\u001b[0m \u001b[1;33m\u001b[0m\u001b[0m\n\u001b[0;32m   1358\u001b[0m \u001b[1;33m\u001b[0m\u001b[0m\n",
      "\u001b[1;32m~\\Anaconda3\\lib\\site-packages\\dateutil\\parser\\_parser.py\u001b[0m in \u001b[0;36mparse\u001b[1;34m(self, timestr, default, ignoretz, tzinfos, **kwargs)\u001b[0m\n\u001b[0;32m    646\u001b[0m \u001b[1;33m\u001b[0m\u001b[0m\n\u001b[0;32m    647\u001b[0m         \u001b[1;32mif\u001b[0m \u001b[0mres\u001b[0m \u001b[1;32mis\u001b[0m \u001b[1;32mNone\u001b[0m\u001b[1;33m:\u001b[0m\u001b[1;33m\u001b[0m\u001b[0m\n\u001b[1;32m--> 648\u001b[1;33m             \u001b[1;32mraise\u001b[0m \u001b[0mValueError\u001b[0m\u001b[1;33m(\u001b[0m\u001b[1;34m\"Unknown string format:\"\u001b[0m\u001b[1;33m,\u001b[0m \u001b[0mtimestr\u001b[0m\u001b[1;33m)\u001b[0m\u001b[1;33m\u001b[0m\u001b[0m\n\u001b[0m\u001b[0;32m    649\u001b[0m \u001b[1;33m\u001b[0m\u001b[0m\n\u001b[0;32m    650\u001b[0m         \u001b[1;32mif\u001b[0m \u001b[0mlen\u001b[0m\u001b[1;33m(\u001b[0m\u001b[0mres\u001b[0m\u001b[1;33m)\u001b[0m \u001b[1;33m==\u001b[0m \u001b[1;36m0\u001b[0m\u001b[1;33m:\u001b[0m\u001b[1;33m\u001b[0m\u001b[0m\n",
      "\u001b[1;31mValueError\u001b[0m: ('Unknown string format:', '2011_01')"
     ]
    }
   ],
   "source": [
    "# df['year'] = pd.DatetimeIndex(df['birth_date']).year\n",
    "train_data['year'] = pd.DatetimeIndex(train_data['Joining_Date']).year"
   ]
  },
  {
   "cell_type": "markdown",
   "metadata": {},
   "source": [
    "### Checking for Null Values"
   ]
  },
  {
   "cell_type": "code",
   "execution_count": 31,
   "metadata": {},
   "outputs": [
    {
     "data": {
      "text/plain": [
       "EmployeeID           0\n",
       "TotalWorkingHours    0\n",
       "Billable_Hours       0\n",
       "Hours_off_Duty       0\n",
       "Touring_Hours        0\n",
       "NoOfProjects         0\n",
       "ActualTimeSpent      0\n",
       "Left_Company         0\n",
       "Job_History          0\n",
       "Joining_Date         0\n",
       "Designation          0\n",
       "Sex                  0\n",
       "dtype: int64"
      ]
     },
     "execution_count": 31,
     "metadata": {},
     "output_type": "execute_result"
    }
   ],
   "source": [
    "train_data.isnull().sum()"
   ]
  },
  {
   "cell_type": "markdown",
   "metadata": {},
   "source": [
    "### Checking Train Data types"
   ]
  },
  {
   "cell_type": "code",
   "execution_count": 13,
   "metadata": {},
   "outputs": [
    {
     "data": {
      "text/plain": [
       "EmployeeID            object\n",
       "TotalWorkingHours    float64\n",
       "Billable_Hours       float64\n",
       "Hours_off_Duty       float64\n",
       "Touring_Hours        float64\n",
       "NoOfProjects           int64\n",
       "ActualTimeSpent        int64\n",
       "Job_History           object\n",
       "Joining_Date          object\n",
       "Designation           object\n",
       "Sex                    int64\n",
       "Left_Company         float64\n",
       "dtype: object"
      ]
     },
     "execution_count": 13,
     "metadata": {},
     "output_type": "execute_result"
    }
   ],
   "source": [
    "train_data.dtypes"
   ]
  },
  {
   "cell_type": "code",
   "execution_count": null,
   "metadata": {},
   "outputs": [],
   "source": [
    "cat_data = list(train_data.select_dtypes(include=['object']).columns)"
   ]
  },
  {
   "cell_type": "code",
   "execution_count": 36,
   "metadata": {},
   "outputs": [
    {
     "data": {
      "text/plain": [
       "245"
      ]
     },
     "execution_count": 36,
     "metadata": {},
     "output_type": "execute_result"
    }
   ],
   "source": [
    "train_data['Job_History'].nunique()"
   ]
  },
  {
   "cell_type": "code",
   "execution_count": 39,
   "metadata": {},
   "outputs": [
    {
     "data": {
      "text/plain": [
       "5"
      ]
     },
     "execution_count": 39,
     "metadata": {},
     "output_type": "execute_result"
    }
   ],
   "source": [
    "train_data['Designation'].nunique()"
   ]
  },
  {
   "cell_type": "code",
   "execution_count": 37,
   "metadata": {},
   "outputs": [
    {
     "data": {
      "text/plain": [
       "Junior    79\n",
       "VP        63\n",
       "Senior    63\n",
       "EVP       28\n",
       "MD        12\n",
       "Name: Designation, dtype: int64"
      ]
     },
     "execution_count": 37,
     "metadata": {},
     "output_type": "execute_result"
    }
   ],
   "source": [
    "train_data['Designation'].value_counts()"
   ]
  },
  {
   "cell_type": "code",
   "execution_count": null,
   "metadata": {},
   "outputs": [],
   "source": [
    "num_data = list(train_data.select_dtypes(include=['int64', 'float64']).columns)"
   ]
  },
  {
   "cell_type": "code",
   "execution_count": 14,
   "metadata": {},
   "outputs": [],
   "source": [
    "cat_data = ['Designation', 'sex']"
   ]
  },
  {
   "cell_type": "code",
   "execution_count": 15,
   "metadata": {},
   "outputs": [],
   "source": [
    "for col in cat_data:\n",
    "    train_data[col] = train_data[col].astype('category')"
   ]
  },
  {
   "cell_type": "code",
   "execution_count": 16,
   "metadata": {},
   "outputs": [],
   "source": [
    "train_data['EmployeeID'] = train_data['EmployeeID'].astype('category')"
   ]
  },
  {
   "cell_type": "code",
   "execution_count": 63,
   "metadata": {},
   "outputs": [],
   "source": [
    "train_data['Joining_Date'] = train_data['Joining_Date'].astype('category')"
   ]
  },
  {
   "cell_type": "code",
   "execution_count": 64,
   "metadata": {},
   "outputs": [
    {
     "data": {
      "text/plain": [
       "EmployeeID            category\n",
       "TotalWorkingHours      float64\n",
       "Billable_Hours         float64\n",
       "Hours_off_Duty         float64\n",
       "Touring_Hours          float64\n",
       "NoOfProjects             int64\n",
       "ActualTimeSpent          int64\n",
       "Joining_Date          category\n",
       "Sex                      int64\n",
       "Left_Company           float64\n",
       "Designation_Junior       uint8\n",
       "Designation_MD           uint8\n",
       "Designation_Senior       uint8\n",
       "Designation_VP           uint8\n",
       "dtype: object"
      ]
     },
     "execution_count": 64,
     "metadata": {},
     "output_type": "execute_result"
    }
   ],
   "source": [
    "train_data.dtypes"
   ]
  },
  {
   "cell_type": "code",
   "execution_count": 17,
   "metadata": {},
   "outputs": [],
   "source": []
  },
  {
   "cell_type": "code",
   "execution_count": 18,
   "metadata": {},
   "outputs": [
    {
     "data": {
      "text/plain": [
       "Index(['EmployeeID', 'TotalWorkingHours', 'Billable_Hours', 'Hours_off_Duty',\n",
       "       'Touring_Hours', 'NoOfProjects', 'ActualTimeSpent', 'Job_History',\n",
       "       'Joining_Date', 'Designation', 'Sex', 'Left_Company'],\n",
       "      dtype='object')"
      ]
     },
     "execution_count": 18,
     "metadata": {},
     "output_type": "execute_result"
    }
   ],
   "source": [
    "train_data.columns"
   ]
  },
  {
   "cell_type": "code",
   "execution_count": 19,
   "metadata": {},
   "outputs": [
    {
     "data": {
      "text/plain": [
       "['TotalWorkingHours',\n",
       " 'Billable_Hours',\n",
       " 'Hours_off_Duty',\n",
       " 'Touring_Hours',\n",
       " 'NoOfProjects',\n",
       " 'ActualTimeSpent',\n",
       " 'Sex',\n",
       " 'Left_Company']"
      ]
     },
     "execution_count": 19,
     "metadata": {},
     "output_type": "execute_result"
    }
   ],
   "source": [
    "num_data"
   ]
  },
  {
   "cell_type": "code",
   "execution_count": 20,
   "metadata": {},
   "outputs": [
    {
     "data": {
      "text/plain": [
       "['Job_History', 'Designation']"
      ]
     },
     "execution_count": 20,
     "metadata": {},
     "output_type": "execute_result"
    }
   ],
   "source": [
    "cat_data"
   ]
  },
  {
   "cell_type": "code",
   "execution_count": 21,
   "metadata": {},
   "outputs": [
    {
     "data": {
      "text/plain": [
       "1    2610\n",
       "2     775\n",
       "0     350\n",
       "3     163\n",
       "4      56\n",
       "5      23\n",
       "6       5\n",
       "7       1\n",
       "Name: NoOfProjects, dtype: int64"
      ]
     },
     "execution_count": 21,
     "metadata": {},
     "output_type": "execute_result"
    }
   ],
   "source": [
    "train_data.NoOfProjects.value_counts()"
   ]
  },
  {
   "cell_type": "code",
   "execution_count": 22,
   "metadata": {},
   "outputs": [
    {
     "data": {
      "text/plain": [
       "EmployeeID           category\n",
       "TotalWorkingHours     float64\n",
       "Billable_Hours        float64\n",
       "Hours_off_Duty        float64\n",
       "Touring_Hours         float64\n",
       "NoOfProjects            int64\n",
       "ActualTimeSpent         int64\n",
       "Job_History          category\n",
       "Joining_Date           object\n",
       "Designation          category\n",
       "Sex                     int64\n",
       "Left_Company          float64\n",
       "dtype: object"
      ]
     },
     "execution_count": 22,
     "metadata": {},
     "output_type": "execute_result"
    }
   ],
   "source": [
    "train_data.dtypes"
   ]
  },
  {
   "cell_type": "markdown",
   "metadata": {},
   "source": [
    "## Dropping Unwanted columns"
   ]
  },
  {
   "cell_type": "code",
   "execution_count": 23,
   "metadata": {},
   "outputs": [
    {
     "data": {
      "text/plain": [
       "Worked at Company - 616                                                                                    2\n",
       "Worked at Company - 83 , Company - 543                                                                     1\n",
       "Worked at Company - 550                                                                                    1\n",
       "Worked at Company - 477 , Company - 326 , Company - 760 , Company - 310                                    1\n",
       "Worked at Company - 19 , Company - 430 , Company - 549                                                     1\n",
       "Worked at Company - 716 , Company - 80 , Company - 569 , Company - 7                                       1\n",
       "Worked at Company - 410 , Company - 326                                                                    1\n",
       "Worked at Company - 639 , Company - 212 , Company - 314                                                    1\n",
       "Worked at Company - 185 , Company - 137                                                                    1\n",
       "Worked at Company - 684 , Company - 159 , Company - 749 , Company - 893 , Company - 795 , Company - 375    1\n",
       "Worked at Company - 225 , Company - 785 , Company - 759                                                    1\n",
       "Worked at Company - 695                                                                                    1\n",
       "Worked at Company - 652                                                                                    1\n",
       "Worked at Company - 654 , Company - 558 , Company - 183                                                    1\n",
       "Worked at Company - 472 , Company - 459 , Company - 508 , Company - 845                                    1\n",
       "Worked at Company - 749 , Company - 630                                                                    1\n",
       "Worked at Company - 78 , Company - 778                                                                     1\n",
       "Worked at Company - 592                                                                                    1\n",
       "Worked at Company - 434                                                                                    1\n",
       "Worked at Company - 89 , Company - 75                                                                      1\n",
       "Worked at Company - 433                                                                                    1\n",
       "Worked at Company - 381 , Company - 585 , Company - 841 , Company - 448                                    1\n",
       "Worked at Company - 789 , Company - 785 , Company - 449 , Company - 574 , Company - 882 , Company - 865    1\n",
       "Worked at Company - 251 , Company - 437 , Company - 449 , Company - 470 , Company - 373 , Company - 874    1\n",
       "Worked at Company - 204 , Company - 171 , Company - 214 , Company - 731                                    1\n",
       "Worked at Company - 264 , Company - 234 , Company - 560                                                    1\n",
       "Worked at Company - 4 , Company - 622 , Company - 230 , Company - 511                                      1\n",
       "Worked at Company - 99 , Company - 50 , Company - 847 , Company - 102                                      1\n",
       "Worked at Company - 307                                                                                    1\n",
       "Worked at Company - 626 , Company - 417 , Company - 250 , Company - 243                                    1\n",
       "                                                                                                          ..\n",
       "Worked at Company - 790 , Company - 197 , Company - 120 , Company - 466                                    1\n",
       "Worked at Company - 333 , Company - 408 , Company - 106 , Company - 139                                    1\n",
       "Worked at Company - 130 , Company - 254 , Company - 452                                                    1\n",
       "Worked at Company - 655 , Company - 476 , Company - 300 , Company - 797                                    1\n",
       "Worked at Company - 636 , Company - 359 , Company - 103 , Company - 469                                    1\n",
       "Worked at Company - 510 , Company - 658 , Company - 287 , Company - 807                                    1\n",
       "Worked at Company - 99 , Company - 569 , Company - 488 , Company - 409                                     1\n",
       "Worked at Company - 472 , Company - 366 , Company - 213 , Company - 292                                    1\n",
       "Worked at Company - 782 , Company - 60 , Company - 667                                                     1\n",
       "Worked at Company - 548 , Company - 405                                                                    1\n",
       "Worked at Company - 346 , Company - 108                                                                    1\n",
       "Worked at Company - 194 , Company - 186 , Company - 328                                                    1\n",
       "Worked at Company - 640 , Company - 694 , Company - 76 , Company - 21                                      1\n",
       "Worked at Company - 135 , Company - 576                                                                    1\n",
       "Worked at Company - 607                                                                                    1\n",
       "Worked at Company - 218 , Company - 216                                                                    1\n",
       "Worked at Company - 694                                                                                    1\n",
       "Worked at Company - 333                                                                                    1\n",
       "Worked at Company - 115                                                                                    1\n",
       "Worked at Company - 141 , Company - 546                                                                    1\n",
       "Worked at Company - 74 , Company - 421 , Company - 620 , Company - 620                                     1\n",
       "Worked at Company - 250 , Company - 527 , Company - 757                                                    1\n",
       "Worked at Company - 891 , Company - 53 , Company - 526                                                     1\n",
       "Worked at Company - 15                                                                                     1\n",
       "Worked at Company - 774 , Company - 841 , Company - 831 , Company - 695                                    1\n",
       "Worked at Company - 740 , Company - 317                                                                    1\n",
       "Worked at Company - 618 , Company - 434 , Company - 815                                                    1\n",
       "Worked at Company - 47 , Company - 764                                                                     1\n",
       "Worked at Company - 816 , Company - 724 , Company - 295 , Company - 54                                     1\n",
       "Worked at Company - 619 , Company - 774                                                                    1\n",
       "Name: Job_History, Length: 295, dtype: int64"
      ]
     },
     "execution_count": 23,
     "metadata": {},
     "output_type": "execute_result"
    }
   ],
   "source": [
    "train_data_employee.Job_History.value_counts()"
   ]
  },
  {
   "cell_type": "code",
   "execution_count": 24,
   "metadata": {},
   "outputs": [],
   "source": [
    "train_data.drop(['Job_History'], axis=1, inplace=True)"
   ]
  },
  {
   "cell_type": "code",
   "execution_count": 25,
   "metadata": {},
   "outputs": [],
   "source": [
    "cat_data.remove('Job_History')"
   ]
  },
  {
   "cell_type": "code",
   "execution_count": 26,
   "metadata": {},
   "outputs": [
    {
     "data": {
      "text/plain": [
       "['Designation']"
      ]
     },
     "execution_count": 26,
     "metadata": {},
     "output_type": "execute_result"
    }
   ],
   "source": [
    "cat_data"
   ]
  },
  {
   "cell_type": "code",
   "execution_count": 27,
   "metadata": {},
   "outputs": [
    {
     "data": {
      "text/plain": [
       "['TotalWorkingHours',\n",
       " 'Billable_Hours',\n",
       " 'Hours_off_Duty',\n",
       " 'Touring_Hours',\n",
       " 'NoOfProjects',\n",
       " 'ActualTimeSpent',\n",
       " 'Sex',\n",
       " 'Left_Company']"
      ]
     },
     "execution_count": 27,
     "metadata": {},
     "output_type": "execute_result"
    }
   ],
   "source": [
    "num_data"
   ]
  },
  {
   "cell_type": "code",
   "execution_count": 28,
   "metadata": {},
   "outputs": [
    {
     "data": {
      "text/plain": [
       "Index(['EmployeeID', 'TotalWorkingHours', 'Billable_Hours', 'Hours_off_Duty',\n",
       "       'Touring_Hours', 'NoOfProjects', 'ActualTimeSpent', 'Joining_Date',\n",
       "       'Designation', 'Sex', 'Left_Company'],\n",
       "      dtype='object')"
      ]
     },
     "execution_count": 28,
     "metadata": {},
     "output_type": "execute_result"
    }
   ],
   "source": [
    "train_data.columns"
   ]
  },
  {
   "cell_type": "code",
   "execution_count": 29,
   "metadata": {},
   "outputs": [
    {
     "data": {
      "text/html": [
       "<div>\n",
       "<style scoped>\n",
       "    .dataframe tbody tr th:only-of-type {\n",
       "        vertical-align: middle;\n",
       "    }\n",
       "\n",
       "    .dataframe tbody tr th {\n",
       "        vertical-align: top;\n",
       "    }\n",
       "\n",
       "    .dataframe thead th {\n",
       "        text-align: right;\n",
       "    }\n",
       "</style>\n",
       "<table border=\"1\" class=\"dataframe\">\n",
       "  <thead>\n",
       "    <tr style=\"text-align: right;\">\n",
       "      <th></th>\n",
       "      <th>TotalWorkingHours</th>\n",
       "      <th>Billable_Hours</th>\n",
       "      <th>Hours_off_Duty</th>\n",
       "      <th>Touring_Hours</th>\n",
       "      <th>NoOfProjects</th>\n",
       "      <th>ActualTimeSpent</th>\n",
       "      <th>Sex</th>\n",
       "      <th>Left_Company</th>\n",
       "    </tr>\n",
       "  </thead>\n",
       "  <tbody>\n",
       "    <tr>\n",
       "      <th>count</th>\n",
       "      <td>3983.000000</td>\n",
       "      <td>3983.000000</td>\n",
       "      <td>3983.000000</td>\n",
       "      <td>3983.000000</td>\n",
       "      <td>3983.000000</td>\n",
       "      <td>3983.000000</td>\n",
       "      <td>3983.000000</td>\n",
       "      <td>3983.000000</td>\n",
       "    </tr>\n",
       "    <tr>\n",
       "      <th>mean</th>\n",
       "      <td>188.316068</td>\n",
       "      <td>129.016495</td>\n",
       "      <td>16.097665</td>\n",
       "      <td>65.400829</td>\n",
       "      <td>1.261612</td>\n",
       "      <td>94.390158</td>\n",
       "      <td>0.876224</td>\n",
       "      <td>0.107959</td>\n",
       "    </tr>\n",
       "    <tr>\n",
       "      <th>std</th>\n",
       "      <td>47.563578</td>\n",
       "      <td>66.432245</td>\n",
       "      <td>22.518071</td>\n",
       "      <td>79.741804</td>\n",
       "      <td>0.798259</td>\n",
       "      <td>80.291680</td>\n",
       "      <td>0.329367</td>\n",
       "      <td>0.310367</td>\n",
       "    </tr>\n",
       "    <tr>\n",
       "      <th>min</th>\n",
       "      <td>20.000000</td>\n",
       "      <td>-2.000000</td>\n",
       "      <td>0.000000</td>\n",
       "      <td>0.000000</td>\n",
       "      <td>0.000000</td>\n",
       "      <td>0.000000</td>\n",
       "      <td>0.000000</td>\n",
       "      <td>0.000000</td>\n",
       "    </tr>\n",
       "    <tr>\n",
       "      <th>25%</th>\n",
       "      <td>163.000000</td>\n",
       "      <td>84.000000</td>\n",
       "      <td>0.000000</td>\n",
       "      <td>0.000000</td>\n",
       "      <td>1.000000</td>\n",
       "      <td>35.000000</td>\n",
       "      <td>1.000000</td>\n",
       "      <td>0.000000</td>\n",
       "    </tr>\n",
       "    <tr>\n",
       "      <th>50%</th>\n",
       "      <td>188.800000</td>\n",
       "      <td>145.000000</td>\n",
       "      <td>8.000000</td>\n",
       "      <td>0.000000</td>\n",
       "      <td>1.000000</td>\n",
       "      <td>77.000000</td>\n",
       "      <td>1.000000</td>\n",
       "      <td>0.000000</td>\n",
       "    </tr>\n",
       "    <tr>\n",
       "      <th>75%</th>\n",
       "      <td>216.500000</td>\n",
       "      <td>176.000000</td>\n",
       "      <td>20.000000</td>\n",
       "      <td>144.500000</td>\n",
       "      <td>2.000000</td>\n",
       "      <td>139.000000</td>\n",
       "      <td>1.000000</td>\n",
       "      <td>0.000000</td>\n",
       "    </tr>\n",
       "    <tr>\n",
       "      <th>max</th>\n",
       "      <td>404.000000</td>\n",
       "      <td>333.000000</td>\n",
       "      <td>160.000000</td>\n",
       "      <td>333.500000</td>\n",
       "      <td>7.000000</td>\n",
       "      <td>574.000000</td>\n",
       "      <td>1.000000</td>\n",
       "      <td>1.000000</td>\n",
       "    </tr>\n",
       "  </tbody>\n",
       "</table>\n",
       "</div>"
      ],
      "text/plain": [
       "       TotalWorkingHours  Billable_Hours  Hours_off_Duty  Touring_Hours  \\\n",
       "count        3983.000000     3983.000000     3983.000000    3983.000000   \n",
       "mean          188.316068      129.016495       16.097665      65.400829   \n",
       "std            47.563578       66.432245       22.518071      79.741804   \n",
       "min            20.000000       -2.000000        0.000000       0.000000   \n",
       "25%           163.000000       84.000000        0.000000       0.000000   \n",
       "50%           188.800000      145.000000        8.000000       0.000000   \n",
       "75%           216.500000      176.000000       20.000000     144.500000   \n",
       "max           404.000000      333.000000      160.000000     333.500000   \n",
       "\n",
       "       NoOfProjects  ActualTimeSpent          Sex  Left_Company  \n",
       "count   3983.000000      3983.000000  3983.000000   3983.000000  \n",
       "mean       1.261612        94.390158     0.876224      0.107959  \n",
       "std        0.798259        80.291680     0.329367      0.310367  \n",
       "min        0.000000         0.000000     0.000000      0.000000  \n",
       "25%        1.000000        35.000000     1.000000      0.000000  \n",
       "50%        1.000000        77.000000     1.000000      0.000000  \n",
       "75%        2.000000       139.000000     1.000000      0.000000  \n",
       "max        7.000000       574.000000     1.000000      1.000000  "
      ]
     },
     "execution_count": 29,
     "metadata": {},
     "output_type": "execute_result"
    }
   ],
   "source": [
    "train_data.describe()"
   ]
  },
  {
   "cell_type": "code",
   "execution_count": 30,
   "metadata": {},
   "outputs": [
    {
     "data": {
      "text/html": [
       "<div>\n",
       "<style scoped>\n",
       "    .dataframe tbody tr th:only-of-type {\n",
       "        vertical-align: middle;\n",
       "    }\n",
       "\n",
       "    .dataframe tbody tr th {\n",
       "        vertical-align: top;\n",
       "    }\n",
       "\n",
       "    .dataframe thead th {\n",
       "        text-align: right;\n",
       "    }\n",
       "</style>\n",
       "<table border=\"1\" class=\"dataframe\">\n",
       "  <thead>\n",
       "    <tr style=\"text-align: right;\">\n",
       "      <th></th>\n",
       "      <th>Joining_Date</th>\n",
       "    </tr>\n",
       "  </thead>\n",
       "  <tbody>\n",
       "    <tr>\n",
       "      <th>count</th>\n",
       "      <td>3983</td>\n",
       "    </tr>\n",
       "    <tr>\n",
       "      <th>unique</th>\n",
       "      <td>55</td>\n",
       "    </tr>\n",
       "    <tr>\n",
       "      <th>top</th>\n",
       "      <td>2012_02</td>\n",
       "    </tr>\n",
       "    <tr>\n",
       "      <th>freq</th>\n",
       "      <td>230</td>\n",
       "    </tr>\n",
       "  </tbody>\n",
       "</table>\n",
       "</div>"
      ],
      "text/plain": [
       "       Joining_Date\n",
       "count          3983\n",
       "unique           55\n",
       "top         2012_02\n",
       "freq            230"
      ]
     },
     "execution_count": 30,
     "metadata": {},
     "output_type": "execute_result"
    }
   ],
   "source": [
    "train_data.describe(include='object')"
   ]
  },
  {
   "cell_type": "code",
   "execution_count": 31,
   "metadata": {},
   "outputs": [
    {
     "data": {
      "text/plain": [
       "0.0    3553\n",
       "1.0     430\n",
       "Name: Left_Company, dtype: int64"
      ]
     },
     "execution_count": 31,
     "metadata": {},
     "output_type": "execute_result"
    }
   ],
   "source": [
    "train_data.Left_Company.value_counts()"
   ]
  },
  {
   "cell_type": "markdown",
   "metadata": {},
   "source": [
    "## Merging Test Data"
   ]
  },
  {
   "cell_type": "code",
   "execution_count": 32,
   "metadata": {},
   "outputs": [],
   "source": [
    "test_data= pd.merge(test_data_work,test_data_employee, how=\"left\", on=\"EmployeeID\")"
   ]
  },
  {
   "cell_type": "code",
   "execution_count": 33,
   "metadata": {},
   "outputs": [
    {
     "data": {
      "text/html": [
       "<div>\n",
       "<style scoped>\n",
       "    .dataframe tbody tr th:only-of-type {\n",
       "        vertical-align: middle;\n",
       "    }\n",
       "\n",
       "    .dataframe tbody tr th {\n",
       "        vertical-align: top;\n",
       "    }\n",
       "\n",
       "    .dataframe thead th {\n",
       "        text-align: right;\n",
       "    }\n",
       "</style>\n",
       "<table border=\"1\" class=\"dataframe\">\n",
       "  <thead>\n",
       "    <tr style=\"text-align: right;\">\n",
       "      <th></th>\n",
       "      <th>EmployeeID</th>\n",
       "      <th>TotalWorkingHours</th>\n",
       "      <th>Billable_Hours</th>\n",
       "      <th>Hours_off_Duty</th>\n",
       "      <th>Touring_Hours</th>\n",
       "      <th>NoOfProjects</th>\n",
       "      <th>ActualTimeSpent</th>\n",
       "      <th>Job_History</th>\n",
       "      <th>Joining_Date</th>\n",
       "      <th>Designation</th>\n",
       "      <th>Sex</th>\n",
       "    </tr>\n",
       "  </thead>\n",
       "  <tbody>\n",
       "    <tr>\n",
       "      <th>0</th>\n",
       "      <td>emp-2</td>\n",
       "      <td>170.0</td>\n",
       "      <td>124.0</td>\n",
       "      <td>8.0</td>\n",
       "      <td>0.0</td>\n",
       "      <td>4</td>\n",
       "      <td>77</td>\n",
       "      <td>Worked at Company - 305 , Company - 764 , Comp...</td>\n",
       "      <td>2005_12</td>\n",
       "      <td>EVP</td>\n",
       "      <td>1</td>\n",
       "    </tr>\n",
       "    <tr>\n",
       "      <th>1</th>\n",
       "      <td>emp-2</td>\n",
       "      <td>164.0</td>\n",
       "      <td>114.0</td>\n",
       "      <td>24.0</td>\n",
       "      <td>0.0</td>\n",
       "      <td>4</td>\n",
       "      <td>105</td>\n",
       "      <td>Worked at Company - 305 , Company - 764 , Comp...</td>\n",
       "      <td>2005_12</td>\n",
       "      <td>EVP</td>\n",
       "      <td>1</td>\n",
       "    </tr>\n",
       "    <tr>\n",
       "      <th>2</th>\n",
       "      <td>emp-2</td>\n",
       "      <td>201.0</td>\n",
       "      <td>139.0</td>\n",
       "      <td>48.0</td>\n",
       "      <td>0.0</td>\n",
       "      <td>4</td>\n",
       "      <td>112</td>\n",
       "      <td>Worked at Company - 305 , Company - 764 , Comp...</td>\n",
       "      <td>2005_12</td>\n",
       "      <td>EVP</td>\n",
       "      <td>1</td>\n",
       "    </tr>\n",
       "    <tr>\n",
       "      <th>3</th>\n",
       "      <td>emp-2</td>\n",
       "      <td>153.0</td>\n",
       "      <td>114.0</td>\n",
       "      <td>24.0</td>\n",
       "      <td>0.0</td>\n",
       "      <td>2</td>\n",
       "      <td>91</td>\n",
       "      <td>Worked at Company - 305 , Company - 764 , Comp...</td>\n",
       "      <td>2005_12</td>\n",
       "      <td>EVP</td>\n",
       "      <td>1</td>\n",
       "    </tr>\n",
       "    <tr>\n",
       "      <th>4</th>\n",
       "      <td>emp-2</td>\n",
       "      <td>122.0</td>\n",
       "      <td>106.0</td>\n",
       "      <td>0.0</td>\n",
       "      <td>0.0</td>\n",
       "      <td>2</td>\n",
       "      <td>98</td>\n",
       "      <td>Worked at Company - 305 , Company - 764 , Comp...</td>\n",
       "      <td>2005_12</td>\n",
       "      <td>EVP</td>\n",
       "      <td>1</td>\n",
       "    </tr>\n",
       "  </tbody>\n",
       "</table>\n",
       "</div>"
      ],
      "text/plain": [
       "  EmployeeID  TotalWorkingHours  Billable_Hours  Hours_off_Duty  \\\n",
       "0      emp-2              170.0           124.0             8.0   \n",
       "1      emp-2              164.0           114.0            24.0   \n",
       "2      emp-2              201.0           139.0            48.0   \n",
       "3      emp-2              153.0           114.0            24.0   \n",
       "4      emp-2              122.0           106.0             0.0   \n",
       "\n",
       "   Touring_Hours  NoOfProjects  ActualTimeSpent  \\\n",
       "0            0.0             4               77   \n",
       "1            0.0             4              105   \n",
       "2            0.0             4              112   \n",
       "3            0.0             2               91   \n",
       "4            0.0             2               98   \n",
       "\n",
       "                                         Job_History Joining_Date Designation  \\\n",
       "0  Worked at Company - 305 , Company - 764 , Comp...      2005_12         EVP   \n",
       "1  Worked at Company - 305 , Company - 764 , Comp...      2005_12         EVP   \n",
       "2  Worked at Company - 305 , Company - 764 , Comp...      2005_12         EVP   \n",
       "3  Worked at Company - 305 , Company - 764 , Comp...      2005_12         EVP   \n",
       "4  Worked at Company - 305 , Company - 764 , Comp...      2005_12         EVP   \n",
       "\n",
       "   Sex  \n",
       "0    1  \n",
       "1    1  \n",
       "2    1  \n",
       "3    1  \n",
       "4    1  "
      ]
     },
     "execution_count": 33,
     "metadata": {},
     "output_type": "execute_result"
    }
   ],
   "source": [
    "test_data.head()"
   ]
  },
  {
   "cell_type": "code",
   "execution_count": null,
   "metadata": {},
   "outputs": [],
   "source": []
  },
  {
   "cell_type": "code",
   "execution_count": 34,
   "metadata": {},
   "outputs": [
    {
     "data": {
      "text/plain": [
       "EmployeeID           0\n",
       "TotalWorkingHours    0\n",
       "Billable_Hours       0\n",
       "Hours_off_Duty       0\n",
       "Touring_Hours        0\n",
       "NoOfProjects         0\n",
       "ActualTimeSpent      0\n",
       "Job_History          0\n",
       "Joining_Date         0\n",
       "Designation          0\n",
       "Sex                  0\n",
       "dtype: int64"
      ]
     },
     "execution_count": 34,
     "metadata": {},
     "output_type": "execute_result"
    }
   ],
   "source": [
    "test_data.isnull().sum()"
   ]
  },
  {
   "cell_type": "code",
   "execution_count": 35,
   "metadata": {},
   "outputs": [
    {
     "data": {
      "text/plain": [
       "Index(['EmployeeID', 'TotalWorkingHours', 'Billable_Hours', 'Hours_off_Duty',\n",
       "       'Touring_Hours', 'NoOfProjects', 'ActualTimeSpent', 'Job_History',\n",
       "       'Joining_Date', 'Designation', 'Sex'],\n",
       "      dtype='object')"
      ]
     },
     "execution_count": 35,
     "metadata": {},
     "output_type": "execute_result"
    }
   ],
   "source": [
    "test_data.columns"
   ]
  },
  {
   "cell_type": "code",
   "execution_count": 36,
   "metadata": {},
   "outputs": [
    {
     "data": {
      "text/plain": [
       "EmployeeID            object\n",
       "TotalWorkingHours    float64\n",
       "Billable_Hours       float64\n",
       "Hours_off_Duty       float64\n",
       "Touring_Hours        float64\n",
       "NoOfProjects           int64\n",
       "ActualTimeSpent        int64\n",
       "Job_History           object\n",
       "Joining_Date          object\n",
       "Designation           object\n",
       "Sex                    int64\n",
       "dtype: object"
      ]
     },
     "execution_count": 36,
     "metadata": {},
     "output_type": "execute_result"
    }
   ],
   "source": [
    "test_data.dtypes"
   ]
  },
  {
   "cell_type": "code",
   "execution_count": 37,
   "metadata": {},
   "outputs": [
    {
     "data": {
      "text/plain": [
       "(874, 11)"
      ]
     },
     "execution_count": 37,
     "metadata": {},
     "output_type": "execute_result"
    }
   ],
   "source": [
    "test_data.shape"
   ]
  },
  {
   "cell_type": "code",
   "execution_count": 38,
   "metadata": {},
   "outputs": [],
   "source": [
    "cat_data = ['Job_History','Designation']"
   ]
  },
  {
   "cell_type": "code",
   "execution_count": 39,
   "metadata": {},
   "outputs": [],
   "source": [
    "for col in cat_data:\n",
    "    test_data[col] = test_data[col].astype('category')\n",
    "    "
   ]
  },
  {
   "cell_type": "code",
   "execution_count": 40,
   "metadata": {},
   "outputs": [],
   "source": [
    "test_data['EmployeeID'] = test_data['EmployeeID'].astype('category')"
   ]
  },
  {
   "cell_type": "code",
   "execution_count": 65,
   "metadata": {},
   "outputs": [],
   "source": [
    "test_data['Joining_Date'] = test_data['Joining_Date'].astype('category')"
   ]
  },
  {
   "cell_type": "code",
   "execution_count": 41,
   "metadata": {},
   "outputs": [],
   "source": [
    "num_data = list(test_data.select_dtypes(include=['int64', 'float64']).columns)"
   ]
  },
  {
   "cell_type": "markdown",
   "metadata": {},
   "source": [
    "## Dropping unwanted columns"
   ]
  },
  {
   "cell_type": "code",
   "execution_count": 42,
   "metadata": {},
   "outputs": [],
   "source": [
    "test_data.drop(['Job_History'], axis=1, inplace=True)"
   ]
  },
  {
   "cell_type": "code",
   "execution_count": 53,
   "metadata": {},
   "outputs": [],
   "source": [
    "cat_data.remove('Job_History')"
   ]
  },
  {
   "cell_type": "code",
   "execution_count": 54,
   "metadata": {},
   "outputs": [
    {
     "data": {
      "text/plain": [
       "['Designation']"
      ]
     },
     "execution_count": 54,
     "metadata": {},
     "output_type": "execute_result"
    }
   ],
   "source": [
    "cat_data"
   ]
  },
  {
   "cell_type": "code",
   "execution_count": 44,
   "metadata": {},
   "outputs": [
    {
     "data": {
      "text/plain": [
       "['TotalWorkingHours',\n",
       " 'Billable_Hours',\n",
       " 'Hours_off_Duty',\n",
       " 'Touring_Hours',\n",
       " 'NoOfProjects',\n",
       " 'ActualTimeSpent',\n",
       " 'Sex']"
      ]
     },
     "execution_count": 44,
     "metadata": {},
     "output_type": "execute_result"
    }
   ],
   "source": [
    "num_data"
   ]
  },
  {
   "cell_type": "markdown",
   "metadata": {},
   "source": [
    "## Visualisation"
   ]
  },
  {
   "cell_type": "code",
   "execution_count": 45,
   "metadata": {},
   "outputs": [],
   "source": [
    "%matplotlib inline\n",
    "import numpy as np\n",
    "import pandas as pd\n",
    "import graphviz\n",
    "import matplotlib.pyplot as plt\n",
    "import seaborn as sns"
   ]
  },
  {
   "cell_type": "code",
   "execution_count": 46,
   "metadata": {},
   "outputs": [],
   "source": [
    "corr=train_data[num_data].corr()\n"
   ]
  },
  {
   "cell_type": "code",
   "execution_count": 47,
   "metadata": {},
   "outputs": [
    {
     "data": {
      "text/plain": [
       "<matplotlib.axes._subplots.AxesSubplot at 0x1911c10ce48>"
      ]
     },
     "execution_count": 47,
     "metadata": {},
     "output_type": "execute_result"
    },
    {
     "data": {
      "image/png": "[encoded data removed]",
      "text/plain": [
       "<Figure size 1440x720 with 2 Axes>"
      ]
     },
     "metadata": {
      "needs_background": "light"
     },
     "output_type": "display_data"
    }
   ],
   "source": [
    "#Not much correlation found\n",
    "fig, ax = plt.subplots()\n",
    "fig.set_size_inches(20, 10)\n",
    "sns.heatmap(corr,cmap='coolwarm',ax=ax,annot=True,linewidths=2)"
   ]
  },
  {
   "cell_type": "code",
   "execution_count": 4,
   "metadata": {},
   "outputs": [
    {
     "ename": "NameError",
     "evalue": "name 'train_data' is not defined",
     "output_type": "error",
     "traceback": [
      "\u001b[1;31m---------------------------------------------------------------------------\u001b[0m",
      "\u001b[1;31mNameError\u001b[0m                                 Traceback (most recent call last)",
      "\u001b[1;32m<ipython-input-4-643bfff98ed6>\u001b[0m in \u001b[0;36m<module>\u001b[1;34m()\u001b[0m\n\u001b[1;32m----> 1\u001b[1;33m \u001b[0mtrain_data\u001b[0m\u001b[1;33m.\u001b[0m\u001b[0mgroupby\u001b[0m\u001b[1;33m(\u001b[0m\u001b[1;33m[\u001b[0m\u001b[1;34m'sex'\u001b[0m\u001b[1;33m,\u001b[0m\u001b[1;34m'Left_Company'\u001b[0m\u001b[1;33m]\u001b[0m\u001b[1;33m)\u001b[0m\u001b[1;33m.\u001b[0m\u001b[0msize\u001b[0m\u001b[1;33m(\u001b[0m\u001b[1;33m)\u001b[0m\u001b[1;33m.\u001b[0m\u001b[0munstack\u001b[0m\u001b[1;33m(\u001b[0m\u001b[1;33m)\u001b[0m\u001b[1;33m.\u001b[0m\u001b[0mplot\u001b[0m\u001b[1;33m(\u001b[0m\u001b[0mkind\u001b[0m\u001b[1;33m=\u001b[0m\u001b[1;34m'bar'\u001b[0m\u001b[1;33m,\u001b[0m \u001b[0mtitle\u001b[0m\u001b[1;33m=\u001b[0m\u001b[1;34m\"Sex&Left_company\"\u001b[0m\u001b[1;33m,\u001b[0m \u001b[0mfigsize\u001b[0m\u001b[1;33m=\u001b[0m\u001b[1;33m(\u001b[0m\u001b[1;36m25\u001b[0m\u001b[1;33m,\u001b[0m\u001b[1;36m8\u001b[0m\u001b[1;33m)\u001b[0m\u001b[1;33m)\u001b[0m\u001b[1;33m\u001b[0m\u001b[0m\n\u001b[0m\u001b[0;32m      2\u001b[0m \u001b[0mplt\u001b[0m\u001b[1;33m.\u001b[0m\u001b[0mylabel\u001b[0m\u001b[1;33m(\u001b[0m\u001b[1;34m'count'\u001b[0m\u001b[1;33m)\u001b[0m\u001b[1;33m\u001b[0m\u001b[0m\n\u001b[0;32m      3\u001b[0m \u001b[0mplt\u001b[0m\u001b[1;33m.\u001b[0m\u001b[0mtitle\u001b[0m\u001b[1;33m(\u001b[0m\u001b[1;34m'Sex vs. Left_Company'\u001b[0m\u001b[1;33m)\u001b[0m\u001b[1;33m;\u001b[0m\u001b[1;33m\u001b[0m\u001b[0m\n",
      "\u001b[1;31mNameError\u001b[0m: name 'train_data' is not defined"
     ]
    }
   ],
   "source": [
    "train_data.groupby(['Sex','Left_Company']).size().unstack().plot(kind='bar', title=\"Sex&Left_company\", figsize=(25,8))\n",
    "plt.ylabel('count')\n",
    "plt.title('Sex vs. Left_Company');"
   ]
  },
  {
   "cell_type": "code",
   "execution_count": 49,
   "metadata": {},
   "outputs": [
    {
     "data": {
      "image/png": "[encoded data removed]",
      "text/plain": [
       "<Figure size 1800x576 with 1 Axes>"
      ]
     },
     "metadata": {
      "needs_background": "light"
     },
     "output_type": "display_data"
    }
   ],
   "source": [
    "train_data.groupby(['Designation','Left_Company']).size().unstack().plot(kind='bar', title=\"Designation&Left_Company\", figsize=(25,8))\n",
    "plt.ylabel('count')\n",
    "plt.title('Designation vs. Left_Company');"
   ]
  },
  {
   "cell_type": "code",
   "execution_count": 50,
   "metadata": {},
   "outputs": [
    {
     "data": {
      "image/png": "[encoded data removed]",
      "text/plain": [
       "<Figure size 1800x576 with 1 Axes>"
      ]
     },
     "metadata": {
      "needs_background": "light"
     },
     "output_type": "display_data"
    }
   ],
   "source": [
    "train_data.groupby(['Joining_Date','Left_Company']).size().unstack().plot(kind='bar', title=\"Joining_Date\", figsize=(25,8))\n",
    "plt.ylabel('count')\n",
    "plt.title('Joining_Date vs. Left_Company'); #(0 -'Joining Date' , 1 -'Left Company')"
   ]
  },
  {
   "cell_type": "markdown",
   "metadata": {},
   "source": [
    "## Dummying Train and Test"
   ]
  },
  {
   "cell_type": "code",
   "execution_count": 55,
   "metadata": {},
   "outputs": [],
   "source": [
    "train_data = pd.get_dummies(train_data, columns=cat_data, drop_first=True)"
   ]
  },
  {
   "cell_type": "code",
   "execution_count": 56,
   "metadata": {},
   "outputs": [
    {
     "data": {
      "text/html": [
       "<div>\n",
       "<style scoped>\n",
       "    .dataframe tbody tr th:only-of-type {\n",
       "        vertical-align: middle;\n",
       "    }\n",
       "\n",
       "    .dataframe tbody tr th {\n",
       "        vertical-align: top;\n",
       "    }\n",
       "\n",
       "    .dataframe thead th {\n",
       "        text-align: right;\n",
       "    }\n",
       "</style>\n",
       "<table border=\"1\" class=\"dataframe\">\n",
       "  <thead>\n",
       "    <tr style=\"text-align: right;\">\n",
       "      <th></th>\n",
       "      <th>EmployeeID</th>\n",
       "      <th>TotalWorkingHours</th>\n",
       "      <th>Billable_Hours</th>\n",
       "      <th>Hours_off_Duty</th>\n",
       "      <th>Touring_Hours</th>\n",
       "      <th>NoOfProjects</th>\n",
       "      <th>ActualTimeSpent</th>\n",
       "      <th>Joining_Date</th>\n",
       "      <th>Sex</th>\n",
       "      <th>Left_Company</th>\n",
       "      <th>Designation_Junior</th>\n",
       "      <th>Designation_MD</th>\n",
       "      <th>Designation_Senior</th>\n",
       "      <th>Designation_VP</th>\n",
       "    </tr>\n",
       "  </thead>\n",
       "  <tbody>\n",
       "    <tr>\n",
       "      <th>0</th>\n",
       "      <td>emp-1</td>\n",
       "      <td>184.0</td>\n",
       "      <td>144.0</td>\n",
       "      <td>40.0</td>\n",
       "      <td>144.0</td>\n",
       "      <td>3</td>\n",
       "      <td>77</td>\n",
       "      <td>2011_01</td>\n",
       "      <td>1</td>\n",
       "      <td>0.0</td>\n",
       "      <td>0</td>\n",
       "      <td>1</td>\n",
       "      <td>0</td>\n",
       "      <td>0</td>\n",
       "    </tr>\n",
       "    <tr>\n",
       "      <th>1</th>\n",
       "      <td>emp-1</td>\n",
       "      <td>176.0</td>\n",
       "      <td>136.0</td>\n",
       "      <td>40.0</td>\n",
       "      <td>136.0</td>\n",
       "      <td>2</td>\n",
       "      <td>98</td>\n",
       "      <td>2011_01</td>\n",
       "      <td>1</td>\n",
       "      <td>0.0</td>\n",
       "      <td>0</td>\n",
       "      <td>1</td>\n",
       "      <td>0</td>\n",
       "      <td>0</td>\n",
       "    </tr>\n",
       "    <tr>\n",
       "      <th>2</th>\n",
       "      <td>emp-1</td>\n",
       "      <td>200.0</td>\n",
       "      <td>120.0</td>\n",
       "      <td>72.0</td>\n",
       "      <td>120.0</td>\n",
       "      <td>1</td>\n",
       "      <td>14</td>\n",
       "      <td>2011_01</td>\n",
       "      <td>1</td>\n",
       "      <td>0.0</td>\n",
       "      <td>0</td>\n",
       "      <td>1</td>\n",
       "      <td>0</td>\n",
       "      <td>0</td>\n",
       "    </tr>\n",
       "    <tr>\n",
       "      <th>3</th>\n",
       "      <td>emp-1</td>\n",
       "      <td>160.0</td>\n",
       "      <td>144.0</td>\n",
       "      <td>8.0</td>\n",
       "      <td>144.0</td>\n",
       "      <td>3</td>\n",
       "      <td>147</td>\n",
       "      <td>2011_01</td>\n",
       "      <td>1</td>\n",
       "      <td>0.0</td>\n",
       "      <td>0</td>\n",
       "      <td>1</td>\n",
       "      <td>0</td>\n",
       "      <td>0</td>\n",
       "    </tr>\n",
       "    <tr>\n",
       "      <th>4</th>\n",
       "      <td>emp-1</td>\n",
       "      <td>171.0</td>\n",
       "      <td>135.0</td>\n",
       "      <td>0.0</td>\n",
       "      <td>135.0</td>\n",
       "      <td>1</td>\n",
       "      <td>42</td>\n",
       "      <td>2011_01</td>\n",
       "      <td>1</td>\n",
       "      <td>0.0</td>\n",
       "      <td>0</td>\n",
       "      <td>1</td>\n",
       "      <td>0</td>\n",
       "      <td>0</td>\n",
       "    </tr>\n",
       "  </tbody>\n",
       "</table>\n",
       "</div>"
      ],
      "text/plain": [
       "  EmployeeID  TotalWorkingHours  Billable_Hours  Hours_off_Duty  \\\n",
       "0      emp-1              184.0           144.0            40.0   \n",
       "1      emp-1              176.0           136.0            40.0   \n",
       "2      emp-1              200.0           120.0            72.0   \n",
       "3      emp-1              160.0           144.0             8.0   \n",
       "4      emp-1              171.0           135.0             0.0   \n",
       "\n",
       "   Touring_Hours  NoOfProjects  ActualTimeSpent Joining_Date  Sex  \\\n",
       "0          144.0             3               77      2011_01    1   \n",
       "1          136.0             2               98      2011_01    1   \n",
       "2          120.0             1               14      2011_01    1   \n",
       "3          144.0             3              147      2011_01    1   \n",
       "4          135.0             1               42      2011_01    1   \n",
       "\n",
       "   Left_Company  Designation_Junior  Designation_MD  Designation_Senior  \\\n",
       "0           0.0                   0               1                   0   \n",
       "1           0.0                   0               1                   0   \n",
       "2           0.0                   0               1                   0   \n",
       "3           0.0                   0               1                   0   \n",
       "4           0.0                   0               1                   0   \n",
       "\n",
       "   Designation_VP  \n",
       "0               0  \n",
       "1               0  \n",
       "2               0  \n",
       "3               0  \n",
       "4               0  "
      ]
     },
     "execution_count": 56,
     "metadata": {},
     "output_type": "execute_result"
    }
   ],
   "source": [
    "train_data.head()"
   ]
  },
  {
   "cell_type": "code",
   "execution_count": 57,
   "metadata": {},
   "outputs": [
    {
     "data": {
      "text/plain": [
       "EmployeeID            0\n",
       "TotalWorkingHours     0\n",
       "Billable_Hours        0\n",
       "Hours_off_Duty        0\n",
       "Touring_Hours         0\n",
       "NoOfProjects          0\n",
       "ActualTimeSpent       0\n",
       "Joining_Date          0\n",
       "Sex                   0\n",
       "Left_Company          0\n",
       "Designation_Junior    0\n",
       "Designation_MD        0\n",
       "Designation_Senior    0\n",
       "Designation_VP        0\n",
       "dtype: int64"
      ]
     },
     "execution_count": 57,
     "metadata": {},
     "output_type": "execute_result"
    }
   ],
   "source": [
    "train_data.isnull().sum()"
   ]
  },
  {
   "cell_type": "code",
   "execution_count": 58,
   "metadata": {},
   "outputs": [],
   "source": [
    "test_data = pd.get_dummies(test_data, columns=cat_data, drop_first=True)"
   ]
  },
  {
   "cell_type": "code",
   "execution_count": 59,
   "metadata": {},
   "outputs": [
    {
     "data": {
      "text/html": [
       "<div>\n",
       "<style scoped>\n",
       "    .dataframe tbody tr th:only-of-type {\n",
       "        vertical-align: middle;\n",
       "    }\n",
       "\n",
       "    .dataframe tbody tr th {\n",
       "        vertical-align: top;\n",
       "    }\n",
       "\n",
       "    .dataframe thead th {\n",
       "        text-align: right;\n",
       "    }\n",
       "</style>\n",
       "<table border=\"1\" class=\"dataframe\">\n",
       "  <thead>\n",
       "    <tr style=\"text-align: right;\">\n",
       "      <th></th>\n",
       "      <th>EmployeeID</th>\n",
       "      <th>TotalWorkingHours</th>\n",
       "      <th>Billable_Hours</th>\n",
       "      <th>Hours_off_Duty</th>\n",
       "      <th>Touring_Hours</th>\n",
       "      <th>NoOfProjects</th>\n",
       "      <th>ActualTimeSpent</th>\n",
       "      <th>Joining_Date</th>\n",
       "      <th>Sex</th>\n",
       "      <th>Designation_Junior</th>\n",
       "      <th>Designation_MD</th>\n",
       "      <th>Designation_Senior</th>\n",
       "      <th>Designation_VP</th>\n",
       "    </tr>\n",
       "  </thead>\n",
       "  <tbody>\n",
       "    <tr>\n",
       "      <th>0</th>\n",
       "      <td>emp-2</td>\n",
       "      <td>170.0</td>\n",
       "      <td>124.0</td>\n",
       "      <td>8.0</td>\n",
       "      <td>0.0</td>\n",
       "      <td>4</td>\n",
       "      <td>77</td>\n",
       "      <td>2005_12</td>\n",
       "      <td>1</td>\n",
       "      <td>0</td>\n",
       "      <td>0</td>\n",
       "      <td>0</td>\n",
       "      <td>0</td>\n",
       "    </tr>\n",
       "    <tr>\n",
       "      <th>1</th>\n",
       "      <td>emp-2</td>\n",
       "      <td>164.0</td>\n",
       "      <td>114.0</td>\n",
       "      <td>24.0</td>\n",
       "      <td>0.0</td>\n",
       "      <td>4</td>\n",
       "      <td>105</td>\n",
       "      <td>2005_12</td>\n",
       "      <td>1</td>\n",
       "      <td>0</td>\n",
       "      <td>0</td>\n",
       "      <td>0</td>\n",
       "      <td>0</td>\n",
       "    </tr>\n",
       "    <tr>\n",
       "      <th>2</th>\n",
       "      <td>emp-2</td>\n",
       "      <td>201.0</td>\n",
       "      <td>139.0</td>\n",
       "      <td>48.0</td>\n",
       "      <td>0.0</td>\n",
       "      <td>4</td>\n",
       "      <td>112</td>\n",
       "      <td>2005_12</td>\n",
       "      <td>1</td>\n",
       "      <td>0</td>\n",
       "      <td>0</td>\n",
       "      <td>0</td>\n",
       "      <td>0</td>\n",
       "    </tr>\n",
       "    <tr>\n",
       "      <th>3</th>\n",
       "      <td>emp-2</td>\n",
       "      <td>153.0</td>\n",
       "      <td>114.0</td>\n",
       "      <td>24.0</td>\n",
       "      <td>0.0</td>\n",
       "      <td>2</td>\n",
       "      <td>91</td>\n",
       "      <td>2005_12</td>\n",
       "      <td>1</td>\n",
       "      <td>0</td>\n",
       "      <td>0</td>\n",
       "      <td>0</td>\n",
       "      <td>0</td>\n",
       "    </tr>\n",
       "    <tr>\n",
       "      <th>4</th>\n",
       "      <td>emp-2</td>\n",
       "      <td>122.0</td>\n",
       "      <td>106.0</td>\n",
       "      <td>0.0</td>\n",
       "      <td>0.0</td>\n",
       "      <td>2</td>\n",
       "      <td>98</td>\n",
       "      <td>2005_12</td>\n",
       "      <td>1</td>\n",
       "      <td>0</td>\n",
       "      <td>0</td>\n",
       "      <td>0</td>\n",
       "      <td>0</td>\n",
       "    </tr>\n",
       "  </tbody>\n",
       "</table>\n",
       "</div>"
      ],
      "text/plain": [
       "  EmployeeID  TotalWorkingHours  Billable_Hours  Hours_off_Duty  \\\n",
       "0      emp-2              170.0           124.0             8.0   \n",
       "1      emp-2              164.0           114.0            24.0   \n",
       "2      emp-2              201.0           139.0            48.0   \n",
       "3      emp-2              153.0           114.0            24.0   \n",
       "4      emp-2              122.0           106.0             0.0   \n",
       "\n",
       "   Touring_Hours  NoOfProjects  ActualTimeSpent Joining_Date  Sex  \\\n",
       "0            0.0             4               77      2005_12    1   \n",
       "1            0.0             4              105      2005_12    1   \n",
       "2            0.0             4              112      2005_12    1   \n",
       "3            0.0             2               91      2005_12    1   \n",
       "4            0.0             2               98      2005_12    1   \n",
       "\n",
       "   Designation_Junior  Designation_MD  Designation_Senior  Designation_VP  \n",
       "0                   0               0                   0               0  \n",
       "1                   0               0                   0               0  \n",
       "2                   0               0                   0               0  \n",
       "3                   0               0                   0               0  \n",
       "4                   0               0                   0               0  "
      ]
     },
     "execution_count": 59,
     "metadata": {},
     "output_type": "execute_result"
    }
   ],
   "source": [
    "test_data.head()"
   ]
  },
  {
   "cell_type": "code",
   "execution_count": 60,
   "metadata": {},
   "outputs": [
    {
     "data": {
      "text/plain": [
       "EmployeeID            0\n",
       "TotalWorkingHours     0\n",
       "Billable_Hours        0\n",
       "Hours_off_Duty        0\n",
       "Touring_Hours         0\n",
       "NoOfProjects          0\n",
       "ActualTimeSpent       0\n",
       "Joining_Date          0\n",
       "Sex                   0\n",
       "Designation_Junior    0\n",
       "Designation_MD        0\n",
       "Designation_Senior    0\n",
       "Designation_VP        0\n",
       "dtype: int64"
      ]
     },
     "execution_count": 60,
     "metadata": {},
     "output_type": "execute_result"
    }
   ],
   "source": [
    "test_data.isnull().sum()"
   ]
  },
  {
   "cell_type": "code",
   "execution_count": 61,
   "metadata": {},
   "outputs": [
    {
     "data": {
      "text/plain": [
       "(3983, 14)"
      ]
     },
     "execution_count": 61,
     "metadata": {},
     "output_type": "execute_result"
    }
   ],
   "source": [
    "train_data.shape"
   ]
  },
  {
   "cell_type": "code",
   "execution_count": 62,
   "metadata": {},
   "outputs": [
    {
     "data": {
      "text/plain": [
       "(874, 13)"
      ]
     },
     "execution_count": 62,
     "metadata": {},
     "output_type": "execute_result"
    }
   ],
   "source": [
    "test_data.shape"
   ]
  },
  {
   "cell_type": "code",
   "execution_count": null,
   "metadata": {},
   "outputs": [],
   "source": [
    "## Scaling on numerical"
   ]
  },
  {
   "cell_type": "code",
   "execution_count": 66,
   "metadata": {},
   "outputs": [],
   "source": [
    "# from sklearn.preprocessing import StandardScaler\n",
    "\n",
    "sc = StandardScaler()\n",
    "sc.fit(train_data.loc[:,num_data])\n",
    "\n",
    "train_data.loc[:,num_data] = sc.transform(train_data.loc[:,num_data])\n",
    "test_data.loc[:,num_data] = sc.transform(test_data.loc[:,num_data])"
   ]
  },
  {
   "cell_type": "markdown",
   "metadata": {},
   "source": [
    "## modelling"
   ]
  },
  {
   "cell_type": "code",
   "execution_count": 71,
   "metadata": {},
   "outputs": [],
   "source": [
    "X = train_data.loc[:, train_data.columns != 'Left_Company']\n",
    "y = train_data['Left_Company']"
   ]
  },
  {
   "cell_type": "code",
   "execution_count": 72,
   "metadata": {},
   "outputs": [],
   "source": [
    "from sklearn.model_selection import train_test_split\n",
    "\n",
    "X_train, X_test, y_train, y_test = train_test_split(X, y, \n",
    "                                                    test_size=0.2, \n",
    "                                                    random_state=123, \n",
    "                                                    stratify=y)"
   ]
  },
  {
   "cell_type": "code",
   "execution_count": 73,
   "metadata": {},
   "outputs": [
    {
     "data": {
      "text/plain": [
       "(3186, 13)"
      ]
     },
     "execution_count": 73,
     "metadata": {},
     "output_type": "execute_result"
    }
   ],
   "source": [
    "X_train.shape"
   ]
  },
  {
   "cell_type": "code",
   "execution_count": 81,
   "metadata": {},
   "outputs": [
    {
     "data": {
      "text/plain": [
       "0"
      ]
     },
     "execution_count": 81,
     "metadata": {},
     "output_type": "execute_result"
    }
   ],
   "source": [
    "X_train.isnull().sum().sum()"
   ]
  },
  {
   "cell_type": "code",
   "execution_count": 82,
   "metadata": {},
   "outputs": [
    {
     "data": {
      "text/plain": [
       "0"
      ]
     },
     "execution_count": 82,
     "metadata": {},
     "output_type": "execute_result"
    }
   ],
   "source": [
    "y_train.isnull().sum().sum()"
   ]
  },
  {
   "cell_type": "code",
   "execution_count": 74,
   "metadata": {},
   "outputs": [
    {
     "data": {
      "text/plain": [
       "(797, 13)"
      ]
     },
     "execution_count": 74,
     "metadata": {},
     "output_type": "execute_result"
    }
   ],
   "source": [
    "X_test.shape"
   ]
  },
  {
   "cell_type": "code",
   "execution_count": 75,
   "metadata": {},
   "outputs": [
    {
     "data": {
      "text/plain": [
       "(3186,)"
      ]
     },
     "execution_count": 75,
     "metadata": {},
     "output_type": "execute_result"
    }
   ],
   "source": [
    "y_train.shape"
   ]
  },
  {
   "cell_type": "code",
   "execution_count": 76,
   "metadata": {},
   "outputs": [
    {
     "data": {
      "text/plain": [
       "(797,)"
      ]
     },
     "execution_count": 76,
     "metadata": {},
     "output_type": "execute_result"
    }
   ],
   "source": [
    "y_test.shape"
   ]
  },
  {
   "cell_type": "code",
   "execution_count": 77,
   "metadata": {},
   "outputs": [
    {
     "data": {
      "text/plain": [
       "0.10797237915881984"
      ]
     },
     "execution_count": 77,
     "metadata": {},
     "output_type": "execute_result"
    }
   ],
   "source": [
    "y_train.mean()"
   ]
  },
  {
   "cell_type": "code",
   "execution_count": 78,
   "metadata": {},
   "outputs": [
    {
     "data": {
      "text/plain": [
       "0.10790464240903387"
      ]
     },
     "execution_count": 78,
     "metadata": {},
     "output_type": "execute_result"
    }
   ],
   "source": [
    "y_test.mean()"
   ]
  },
  {
   "cell_type": "markdown",
   "metadata": {},
   "source": [
    "## modelling"
   ]
  },
  {
   "cell_type": "markdown",
   "metadata": {},
   "source": [
    "### Decision Trees"
   ]
  },
  {
   "cell_type": "code",
   "execution_count": 87,
   "metadata": {},
   "outputs": [],
   "source": [
    "from sklearn.metrics import accuracy_score,classification_report, recall_score, precision_score,confusion_matrix,mean_absolute_error,mean_squared_error\n"
   ]
  },
  {
   "cell_type": "code",
   "execution_count": 68,
   "metadata": {},
   "outputs": [],
   "source": [
    "## Building Decision Tree\n",
    "from sklearn import tree"
   ]
  },
  {
   "cell_type": "code",
   "execution_count": 69,
   "metadata": {},
   "outputs": [],
   "source": [
    "clf = tree.DecisionTreeClassifier(max_depth=7)"
   ]
  },
  {
   "cell_type": "code",
   "execution_count": 83,
   "metadata": {},
   "outputs": [],
   "source": [
    "X_train.drop(['EmployeeID'], axis=1, inplace=True)"
   ]
  },
  {
   "cell_type": "code",
   "execution_count": 92,
   "metadata": {},
   "outputs": [],
   "source": [
    "X_test.drop(['EmployeeID'], axis=1, inplace=True)"
   ]
  },
  {
   "cell_type": "code",
   "execution_count": 84,
   "metadata": {},
   "outputs": [
    {
     "name": "stdout",
     "output_type": "stream",
     "text": [
      "Wall time: 19 ms\n"
     ]
    },
    {
     "data": {
      "text/plain": [
       "DecisionTreeClassifier(class_weight=None, criterion='gini', max_depth=7,\n",
       "                       max_features=None, max_leaf_nodes=None,\n",
       "                       min_impurity_decrease=0.0, min_impurity_split=None,\n",
       "                       min_samples_leaf=1, min_samples_split=2,\n",
       "                       min_weight_fraction_leaf=0.0, presort=False,\n",
       "                       random_state=None, splitter='best')"
      ]
     },
     "execution_count": 84,
     "metadata": {},
     "output_type": "execute_result"
    }
   ],
   "source": [
    "%time clf.fit(X_train, y_train)"
   ]
  },
  {
   "cell_type": "code",
   "execution_count": 85,
   "metadata": {},
   "outputs": [],
   "source": [
    "#train prediction\n",
    "y1_pred_ = clf.predict(X_train)"
   ]
  },
  {
   "cell_type": "code",
   "execution_count": 88,
   "metadata": {},
   "outputs": [
    {
     "name": "stdout",
     "output_type": "stream",
     "text": [
      "0.9626490897677339\n"
     ]
    }
   ],
   "source": [
    "print(accuracy_score(y_train,y1_pred_))"
   ]
  },
  {
   "cell_type": "code",
   "execution_count": 93,
   "metadata": {},
   "outputs": [],
   "source": [
    "#evaluation data prediction\n",
    "y_pred_ = clf.predict(X_test)"
   ]
  },
  {
   "cell_type": "code",
   "execution_count": 94,
   "metadata": {},
   "outputs": [
    {
     "name": "stdout",
     "output_type": "stream",
     "text": [
      "0.9510664993726474\n"
     ]
    }
   ],
   "source": [
    "print(accuracy_score(y_test,y_pred_))"
   ]
  },
  {
   "cell_type": "markdown",
   "metadata": {},
   "source": [
    "## feture importances"
   ]
  },
  {
   "cell_type": "code",
   "execution_count": 2,
   "metadata": {},
   "outputs": [
    {
     "ename": "NameError",
     "evalue": "name 'clf' is not defined",
     "output_type": "error",
     "traceback": [
      "\u001b[1;31m---------------------------------------------------------------------------\u001b[0m",
      "\u001b[1;31mNameError\u001b[0m                                 Traceback (most recent call last)",
      "\u001b[1;32m<ipython-input-2-d95247be8c3f>\u001b[0m in \u001b[0;36m<module>\u001b[1;34m()\u001b[0m\n\u001b[1;32m----> 1\u001b[1;33m \u001b[0mimportances\u001b[0m \u001b[1;33m=\u001b[0m \u001b[0mclf\u001b[0m\u001b[1;33m.\u001b[0m\u001b[0mfeature_importances_\u001b[0m\u001b[1;33m\u001b[0m\u001b[0m\n\u001b[0m\u001b[0;32m      2\u001b[0m \u001b[0mindices\u001b[0m \u001b[1;33m=\u001b[0m \u001b[0mnp\u001b[0m\u001b[1;33m.\u001b[0m\u001b[0margsort\u001b[0m\u001b[1;33m(\u001b[0m\u001b[0mimportances\u001b[0m\u001b[1;33m)\u001b[0m\u001b[1;33m[\u001b[0m\u001b[1;33m:\u001b[0m\u001b[1;33m:\u001b[0m\u001b[1;33m-\u001b[0m\u001b[1;36m1\u001b[0m\u001b[1;33m]\u001b[0m\u001b[1;33m\u001b[0m\u001b[0m\n\u001b[0;32m      3\u001b[0m \u001b[0mpd\u001b[0m\u001b[1;33m.\u001b[0m\u001b[0mDataFrame\u001b[0m\u001b[1;33m(\u001b[0m\u001b[1;33m[\u001b[0m\u001b[0mtrain_data\u001b[0m\u001b[1;33m.\u001b[0m\u001b[0mcolumns\u001b[0m\u001b[1;33m[\u001b[0m\u001b[0mindices\u001b[0m\u001b[1;33m]\u001b[0m\u001b[1;33m,\u001b[0m\u001b[0mnp\u001b[0m\u001b[1;33m.\u001b[0m\u001b[0msort\u001b[0m\u001b[1;33m(\u001b[0m\u001b[0mimportances\u001b[0m\u001b[1;33m)\u001b[0m\u001b[1;33m[\u001b[0m\u001b[1;33m:\u001b[0m\u001b[1;33m:\u001b[0m\u001b[1;33m-\u001b[0m\u001b[1;36m1\u001b[0m\u001b[1;33m]\u001b[0m\u001b[1;33m]\u001b[0m\u001b[1;33m)\u001b[0m\u001b[1;33m\u001b[0m\u001b[0m\n",
      "\u001b[1;31mNameError\u001b[0m: name 'clf' is not defined"
     ]
    }
   ],
   "source": [
    "importances = clf.feature_importances_\n",
    "indices = np.argsort(importances)[::-1]\n",
    "pd.DataFrame([train_data.columns[indices],np.sort(importances)[::-1]])"
   ]
  },
  {
   "cell_type": "code",
   "execution_count": 3,
   "metadata": {},
   "outputs": [],
   "source": [
    "#Grid Search for Hyper-parameter tuning\n",
    "from sklearn.model_selection import GridSearchCV"
   ]
  },
  {
   "cell_type": "code",
   "execution_count": 109,
   "metadata": {},
   "outputs": [],
   "source": [
    "dt = tree.DecisionTreeClassifier()\n",
    "dt_model = GridSearchCV(dt, param_grid, cv=10)"
   ]
  },
  {
   "cell_type": "code",
   "execution_count": 110,
   "metadata": {},
   "outputs": [
    {
     "name": "stdout",
     "output_type": "stream",
     "text": [
      "Wall time: 2min 50s\n"
     ]
    },
    {
     "data": {
      "text/plain": [
       "GridSearchCV(cv=10, error_score='raise-deprecating',\n",
       "             estimator=DecisionTreeClassifier(class_weight=None,\n",
       "                                              criterion='gini', max_depth=None,\n",
       "                                              max_features=None,\n",
       "                                              max_leaf_nodes=None,\n",
       "                                              min_impurity_decrease=0.0,\n",
       "                                              min_impurity_split=None,\n",
       "                                              min_samples_leaf=1,\n",
       "                                              min_samples_split=2,\n",
       "                                              min_weight_fraction_leaf=0.0,\n",
       "                                              presort=False, random_state=None,\n",
       "                                              splitter='best'),\n",
       "             iid='warn', n_jobs=None,\n",
       "             param_grid={'criterion': ['gini', 'entropy'],\n",
       "                         'max_depth': [4, 5, 6, 7, 8],\n",
       "                         'max_leaf_nodes': [2, 3, 4, 6, 8, 10],\n",
       "                         'min_samples_leaf': [1, 2, 3, 5, 8, 10],\n",
       "                         'min_samples_split': [2, 10, 20, 25]},\n",
       "             pre_dispatch='2*n_jobs', refit=True, return_train_score=False,\n",
       "             scoring=None, verbose=0)"
      ]
     },
     "execution_count": 110,
     "metadata": {},
     "output_type": "execute_result"
    }
   ],
   "source": [
    "%time dt_model.fit(X_train, y_train)"
   ]
  },
  {
   "cell_type": "code",
   "execution_count": 103,
   "metadata": {},
   "outputs": [],
   "source": [
    "# set of parameters to test\n",
    "param_grid = {\"criterion\": [\"gini\", \"entropy\"],\n",
    "              \"min_samples_split\": [2, 10, 20,25],\n",
    "              \"max_depth\": [4,5,6,7,8],\n",
    "              \"min_samples_leaf\": [1,2,3,5,8,10],\n",
    "              \"max_leaf_nodes\": [2,3,4,6,8,10],\n",
    "              }"
   ]
  },
  {
   "cell_type": "code",
   "execution_count": 111,
   "metadata": {},
   "outputs": [
    {
     "data": {
      "text/plain": [
       "{'criterion': 'gini',\n",
       " 'max_depth': 6,\n",
       " 'max_leaf_nodes': 8,\n",
       " 'min_samples_leaf': 1,\n",
       " 'min_samples_split': 2}"
      ]
     },
     "execution_count": 111,
     "metadata": {},
     "output_type": "execute_result"
    }
   ],
   "source": [
    "dt_model.best_params_"
   ]
  },
  {
   "cell_type": "code",
   "execution_count": 112,
   "metadata": {},
   "outputs": [],
   "source": [
    "y1_pred_ = dt_model.predict(X_train)"
   ]
  },
  {
   "cell_type": "code",
   "execution_count": 113,
   "metadata": {},
   "outputs": [
    {
     "name": "stdout",
     "output_type": "stream",
     "text": [
      "0.9256120527306968\n",
      "\n",
      "\n"
     ]
    }
   ],
   "source": [
    "#Accuracy against train data\n",
    "print(accuracy_score(y_train,y1_pred_))\n",
    "print(\"\\n\")"
   ]
  },
  {
   "cell_type": "code",
   "execution_count": 114,
   "metadata": {},
   "outputs": [],
   "source": [
    "#Accuracy against eval data\n",
    "y_pred_ = dt_model.predict(X_test)"
   ]
  },
  {
   "cell_type": "code",
   "execution_count": 116,
   "metadata": {},
   "outputs": [
    {
     "name": "stdout",
     "output_type": "stream",
     "text": [
      "0.9234629861982434\n"
     ]
    }
   ],
   "source": [
    "print(accuracy_score(y_test,y_pred_))"
   ]
  },
  {
   "cell_type": "code",
   "execution_count": 122,
   "metadata": {},
   "outputs": [],
   "source": [
    "test_data.drop(['EmployeeID'], axis=1, inplace=True)"
   ]
  },
  {
   "cell_type": "code",
   "execution_count": 123,
   "metadata": {},
   "outputs": [],
   "source": [
    "### For TEST Dataset prediction\n",
    "y_pred_test_dt=dt_model.predict(test_data) "
   ]
  },
  {
   "cell_type": "code",
   "execution_count": 124,
   "metadata": {},
   "outputs": [
    {
     "data": {
      "text/plain": [
       "array([0., 0., 0., 0., 0., 0., 0., 0., 0., 0., 0., 0., 0., 0., 0., 0., 0.,\n",
       "       0., 0., 0., 0., 0., 0., 0., 0., 0., 0., 0., 0., 0., 0., 0., 0., 0.,\n",
       "       0., 0., 0., 0., 0., 0., 0., 0., 0., 0., 0., 0., 0., 0., 0., 0., 0.,\n",
       "       0., 0., 0., 0., 0., 0., 0., 0., 0., 0., 0., 0., 0., 0., 0., 0., 0.,\n",
       "       0., 0., 0., 0., 0., 0., 0., 0., 0., 0., 0., 0., 0., 0., 0., 0., 0.,\n",
       "       0., 0., 0., 0., 0., 0., 0., 0., 0., 0., 0., 0., 0., 0., 0., 0., 0.,\n",
       "       0., 0., 0., 0., 0., 0., 0., 0., 0., 0., 0., 0., 0., 1., 1., 1., 1.,\n",
       "       1., 1., 1., 1., 1., 1., 1., 1., 1., 1., 1., 1., 1., 1., 1., 1., 1.,\n",
       "       1., 1., 1., 1., 1., 1., 1., 1., 1., 1., 1., 1., 1., 1., 1., 1., 1.,\n",
       "       1., 1., 1., 1., 1., 1., 1., 1., 0., 0., 0., 0., 0., 0., 0., 0., 0.,\n",
       "       0., 0., 0., 0., 0., 0., 0., 0., 0., 0., 0., 0., 0., 0., 0., 0., 0.,\n",
       "       0., 0., 0., 0., 0., 0., 0., 0., 0., 0., 0., 0., 0., 0., 0., 0., 0.,\n",
       "       0., 0., 0., 0., 0., 0., 0., 0., 0., 0., 0., 0., 0., 0., 0., 0., 0.,\n",
       "       0., 0., 0., 0., 0., 0., 0., 0., 0., 0., 0., 0., 0., 0., 0., 0., 0.,\n",
       "       0., 0., 0., 0., 0., 0., 0., 0., 0., 0., 0., 0., 0., 0., 0., 0., 0.,\n",
       "       0., 0., 0., 0., 0., 0., 0., 0., 0., 0., 0., 0., 0., 0., 0., 0., 0.,\n",
       "       0., 0., 0., 0., 0., 0., 0., 0., 0., 0., 0., 0., 0., 0., 0., 0., 0.,\n",
       "       0., 0., 0., 0., 0., 0., 0., 0., 0., 0., 0., 0., 0., 0., 0., 0., 0.,\n",
       "       0., 0., 0., 0., 0., 0., 0., 0., 0., 0., 0., 0., 0., 0., 0., 0., 0.,\n",
       "       0., 0., 0., 0., 0., 0., 0., 0., 0., 0., 0., 0., 0., 0., 0., 0., 0.,\n",
       "       0., 0., 0., 0., 0., 0., 0., 0., 0., 0., 0., 0., 0., 0., 0., 0., 0.,\n",
       "       0., 0., 0., 0., 0., 0., 0., 0., 0., 0., 0., 0., 0., 0., 0., 0., 0.,\n",
       "       0., 0., 0., 0., 0., 0., 0., 0., 0., 0., 0., 0., 0., 0., 0., 0., 0.,\n",
       "       0., 0., 0., 0., 0., 0., 0., 0., 0., 0., 0., 0., 0., 0., 0., 0., 0.,\n",
       "       0., 0., 0., 0., 0., 0., 0., 0., 0., 0., 0., 0., 0., 0., 0., 0., 0.,\n",
       "       0., 0., 0., 0., 0., 0., 0., 0., 0., 0., 0., 0., 0., 0., 0., 0., 0.,\n",
       "       0., 0., 0., 0., 0., 0., 0., 0., 0., 0., 0., 0., 0., 0., 0., 0., 0.,\n",
       "       0., 0., 0., 0., 0., 0., 0., 0., 0., 0., 0., 0., 0., 0., 0., 0., 0.,\n",
       "       0., 0., 0., 0., 0., 0., 0., 0., 0., 0., 0., 0., 0., 0., 0., 0., 0.,\n",
       "       0., 0., 0., 0., 0., 0., 0., 0., 0., 0., 0., 0., 0., 0., 0., 0., 0.,\n",
       "       0., 0., 0., 0., 0., 0., 0., 0., 0., 0., 0., 0., 0., 0., 0., 0., 0.,\n",
       "       0., 0., 0., 0., 0., 0., 0., 0., 0., 0., 0., 0., 0., 0., 0., 0., 0.,\n",
       "       0., 0., 0., 0., 0., 0., 0., 0., 0., 0., 0., 0., 0., 0., 0., 0., 0.,\n",
       "       0., 0., 0., 0., 0., 0., 0., 0., 0., 0., 0., 0., 0., 0., 0., 0., 0.,\n",
       "       0., 0., 0., 0., 0., 0., 0., 0., 0., 0., 0., 0., 0., 0., 0., 0., 0.,\n",
       "       0., 0., 0., 0., 0., 0., 0., 0., 0., 0., 0., 0., 0., 0., 0., 0., 0.,\n",
       "       0., 0., 0., 0., 0., 0., 0., 0., 0., 0., 0., 0., 0., 0., 0., 0., 0.,\n",
       "       0., 0., 0., 0., 0., 0., 0., 0., 0., 0., 0., 0., 0., 0., 0., 0., 0.,\n",
       "       0., 0., 0., 0., 0., 0., 0., 0., 0., 0., 0., 0., 0., 0., 0., 0., 0.,\n",
       "       0., 0., 0., 0., 0., 0., 0., 0., 0., 0., 0., 0., 0., 0., 0., 0., 0.,\n",
       "       0., 0., 0., 0., 0., 0., 0., 0., 0., 0., 0., 0., 0., 0., 0., 0., 0.,\n",
       "       0., 0., 0., 0., 0., 0., 0., 0., 0., 0., 0., 0., 0., 0., 0., 0., 0.,\n",
       "       0., 0., 0., 0., 0., 0., 0., 0., 0., 0., 0., 0., 0., 0., 0., 0., 0.,\n",
       "       0., 0., 0., 0., 0., 0., 0., 0., 0., 0., 0., 0., 0., 0., 0., 0., 0.,\n",
       "       0., 0., 0., 0., 0., 0., 0., 0., 0., 0., 0., 0., 0., 0., 0., 0., 0.,\n",
       "       0., 0., 0., 0., 0., 0., 0., 0., 0., 0., 0., 0., 0., 0., 0., 0., 0.,\n",
       "       0., 0., 0., 0., 0., 0., 0., 0., 0., 0., 0., 0., 0., 0., 0., 0., 0.,\n",
       "       0., 0., 0., 0., 0., 0., 0., 0., 0., 0., 0., 0., 0., 0., 0., 0., 0.,\n",
       "       0., 0., 0., 0., 0., 0., 0., 0., 0., 0., 0., 0., 0., 0., 0., 0., 0.,\n",
       "       0., 0., 0., 0., 0., 0., 0., 0., 0., 0., 0., 0., 0., 0., 0., 0., 0.,\n",
       "       0., 0., 0., 0., 0., 0., 0., 0., 0., 0., 0., 0., 0., 0., 0., 0., 0.,\n",
       "       0., 0., 0., 0., 0., 0., 0.])"
      ]
     },
     "execution_count": 124,
     "metadata": {},
     "output_type": "execute_result"
    }
   ],
   "source": [
    "y_pred_test_dt"
   ]
  },
  {
   "cell_type": "code",
   "execution_count": 126,
   "metadata": {},
   "outputs": [
    {
     "name": "stdout",
     "output_type": "stream",
     "text": [
      "              precision    recall  f1-score   support\n",
      "\n",
      "         0.0       0.92      1.00      0.96      2842\n",
      "         1.0       1.00      0.31      0.47       344\n",
      "\n",
      "    accuracy                           0.93      3186\n",
      "   macro avg       0.96      0.66      0.72      3186\n",
      "weighted avg       0.93      0.93      0.91      3186\n",
      "\n"
     ]
    }
   ],
   "source": [
    "## dec trees confusio matrix\n",
    "\n",
    "print(classification_report(y_train,y1_pred_))"
   ]
  },
  {
   "cell_type": "code",
   "execution_count": 127,
   "metadata": {},
   "outputs": [
    {
     "name": "stdout",
     "output_type": "stream",
     "text": [
      "              precision    recall  f1-score   support\n",
      "\n",
      "         0.0       0.92      1.00      0.96       711\n",
      "         1.0       1.00      0.29      0.45        86\n",
      "\n",
      "    accuracy                           0.92       797\n",
      "   macro avg       0.96      0.65      0.70       797\n",
      "weighted avg       0.93      0.92      0.90       797\n",
      "\n"
     ]
    }
   ],
   "source": [
    "print(classification_report(y_test,y_pred_))"
   ]
  },
  {
   "cell_type": "code",
   "execution_count": null,
   "metadata": {},
   "outputs": [],
   "source": []
  }
 ],
 "metadata": {
  "kernelspec": {
   "display_name": "Python 3",
   "language": "python",
   "name": "python3"
  },
  "language_info": {
   "codemirror_mode": {
    "name": "ipython",
    "version": 3
   },
   "file_extension": ".py",
   "mimetype": "text/x-python",
   "name": "python",
   "nbconvert_exporter": "python",
   "pygments_lexer": "ipython3",
   "version": "3.7.0"
  }
 },
 "nbformat": 4,
 "nbformat_minor": 2
}
