{
 "cells": [
  {
   "cell_type": "code",
   "execution_count": 10,
   "metadata": {},
   "outputs": [],
   "source": [
    "import pandas as pd\n"
   ]
  },
  {
   "cell_type": "code",
   "execution_count": 13,
   "metadata": {},
   "outputs": [
    {
     "name": "stdout",
     "output_type": "stream",
     "text": [
      "enter n:4\n",
      "12 4\n",
      "12 4\n",
      "12 4\n",
      "12 4\n"
     ]
    }
   ],
   "source": [
    "n=int(input('enter n:'))\n",
    "for i in range(n):\n",
    "    print(n*3,n)"
   ]
  },
  {
   "cell_type": "code",
   "execution_count": 19,
   "metadata": {},
   "outputs": [
    {
     "name": "stdout",
     "output_type": "stream",
     "text": [
      "sunny\n",
      "my name is sunny\n",
      "my rollno is 100\n",
      "my name is bunny\n",
      "my rollno is 200\n"
     ]
    }
   ],
   "source": [
    "class Student:\n",
    "    def __init__(self,rollno,name):\n",
    "        self.rollno=rollno\n",
    "        self.name=name\n",
    "        \n",
    "    def talk(self):\n",
    "        print('my name is',self.name)\n",
    "        print('my rollno is',self.rollno)\n",
    "        \n",
    "s=Student(100,'sunny')\n",
    "print(s.name)\n",
    "s.talk()   \n",
    "\n",
    "t=Student(200,'bunny')\n",
    "t.talk()\n",
    "        "
   ]
  },
  {
   "cell_type": "code",
   "execution_count": 21,
   "metadata": {},
   "outputs": [
    {
     "name": "stdout",
     "output_type": "stream",
     "text": [
      "employee no 100\n",
      "employee name shaik\n",
      "employee sal 1000\n",
      "employee addr hyd\n",
      "employee no 200\n",
      "employee name shameer\n",
      "employee sal 2000\n",
      "employee addr sec\n"
     ]
    }
   ],
   "source": [
    "class Employee:\n",
    "    def __init__(self,eno,ename,esal,eaddr):\n",
    "        self.eno=eno\n",
    "        self.ename=ename\n",
    "        self.esal=esal\n",
    "        self.eaddr=eaddr\n",
    "    def info(self):\n",
    "        print('employee no',self.eno)\n",
    "        print('employee name',self.ename)\n",
    "        print('employee sal',self.esal)\n",
    "        print('employee addr',self.eaddr)\n",
    "        \n",
    "e1=Employee(100,'shaik',1000,'hyd')\n",
    "e2=Employee(200,'shameer',2000,'sec')\n",
    "e1.info()\n",
    "e2.info()"
   ]
  },
  {
   "cell_type": "code",
   "execution_count": null,
   "metadata": {},
   "outputs": [],
   "source": [
    "class Student:\n",
    "    def __init__(self):\n",
    "        "
   ]
  }
 ],
 "metadata": {
  "kernelspec": {
   "display_name": "Python 3",
   "language": "python",
   "name": "python3"
  },
  "language_info": {
   "codemirror_mode": {
    "name": "ipython",
    "version": 3
   },
   "file_extension": ".py",
   "mimetype": "text/x-python",
   "name": "python",
   "nbconvert_exporter": "python",
   "pygments_lexer": "ipython3",
   "version": "3.7.0"
  }
 },
 "nbformat": 4,
 "nbformat_minor": 2
}
