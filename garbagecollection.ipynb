{
 "cells": [
  {
   "cell_type": "code",
   "execution_count": 4,
   "metadata": {},
   "outputs": [
    {
     "name": "stdout",
     "output_type": "stream",
     "text": [
      "True\n",
      "False\n",
      "True\n"
     ]
    }
   ],
   "source": [
    "import gc\n",
    "print(gc.isenabled())\n",
    "gc.disable()\n",
    "print(gc.isenabled())\n",
    "gc.enable()\n",
    "print(gc.isenabled())\n"
   ]
  },
  {
   "cell_type": "code",
   "execution_count": 7,
   "metadata": {},
   "outputs": [
    {
     "name": "stdout",
     "output_type": "stream",
     "text": [
      "object intialization\n",
      "fullfilling last wish and destroying\n",
      "end of program\n"
     ]
    }
   ],
   "source": [
    "import time\n",
    "class Test:\n",
    "    def __init__(self):\n",
    "        print('object intialization')\n",
    "    def __del__(self):\n",
    "        print('fullfilling last wish and destroying')\n",
    "t=Test()\n",
    "t=None\n",
    "time.sleep(5)\n",
    "print('end of program')"
   ]
  },
  {
   "cell_type": "code",
   "execution_count": null,
   "metadata": {},
   "outputs": [],
   "source": []
  },
  {
   "cell_type": "code",
   "execution_count": 19,
   "metadata": {},
   "outputs": [
    {
     "name": "stdout",
     "output_type": "stream",
     "text": [
      "object intialization\n",
      "fullfilling last wish and destroying\n",
      "end of application\n"
     ]
    }
   ],
   "source": [
    "import time\n",
    "class Test:\n",
    "    def __init__(self):\n",
    "        print('object intialization')\n",
    "    def __del__(self):\n",
    "        print('fullfilling last wish and destroying')\n",
    "t1=Test()\n",
    "t2=t1\n",
    "t3=t2\n",
    "t4=t3\n",
    "print('end of application')"
   ]
  },
  {
   "cell_type": "code",
   "execution_count": null,
   "metadata": {},
   "outputs": [],
   "source": []
  },
  {
   "cell_type": "code",
   "execution_count": 21,
   "metadata": {},
   "outputs": [
    {
     "name": "stdout",
     "output_type": "stream",
     "text": [
      "object intialization\n",
      "object intialization\n",
      "object intialization\n",
      "fullfilling last wish and destroying\n",
      "fullfilling last wish and destroying\n",
      "fullfilling last wish and destroying\n",
      "fullfilling last wish and destroying\n",
      "fullfilling last wish and destroying\n",
      "fullfilling last wish and destroying\n",
      "end of program\n"
     ]
    }
   ],
   "source": [
    "import time\n",
    "class Test:\n",
    "    def __init__(self):\n",
    "        print('object intialization')\n",
    "    def __del__(self):\n",
    "        print('fullfilling last wish and destroying')\n",
    "list=[Test(),Test(),Test()]\n",
    "time.sleep(5)\n",
    "list=None\n",
    "print('end of program')"
   ]
  },
  {
   "cell_type": "code",
   "execution_count": null,
   "metadata": {},
   "outputs": [],
   "source": []
  },
  {
   "cell_type": "code",
   "execution_count": 22,
   "metadata": {},
   "outputs": [
    {
     "name": "stdout",
     "output_type": "stream",
     "text": [
      "object intialization\n",
      "fullfilling last wish and destroying\n",
      "5\n"
     ]
    }
   ],
   "source": [
    "import time\n",
    "import sys\n",
    "class Test:\n",
    "    def __init__(self):\n",
    "        print('object intialization')\n",
    "    def __del__(self):\n",
    "        print('fullfilling last wish and destroying')\n",
    "t1=Test()\n",
    "t2=t1\n",
    "t3=t2\n",
    "t4=t3\n",
    "print(sys.getrefcount(t1))"
   ]
  },
  {
   "cell_type": "code",
   "execution_count": null,
   "metadata": {},
   "outputs": [],
   "source": []
  },
  {
   "cell_type": "code",
   "execution_count": 24,
   "metadata": {},
   "outputs": [
    {
     "name": "stdout",
     "output_type": "stream",
     "text": [
      "object intialization\n",
      "fullfilling last wish and destroying\n",
      "fullfilling last wish and destroying\n",
      "end of program\n"
     ]
    }
   ],
   "source": [
    "import time\n",
    "class Test:\n",
    "    def __init__(self):\n",
    "        print('object intialization')\n",
    "    def __del__(self):\n",
    "        print('fullfilling last wish and destroying')\n",
    "t=Test()\n",
    "t=150\n",
    "print('end of program')"
   ]
  },
  {
   "cell_type": "code",
   "execution_count": null,
   "metadata": {},
   "outputs": [],
   "source": []
  },
  {
   "cell_type": "code",
   "execution_count": null,
   "metadata": {},
   "outputs": [],
   "source": []
  }
 ],
 "metadata": {
  "kernelspec": {
   "display_name": "Python 3",
   "language": "python",
   "name": "python3"
  },
  "language_info": {
   "codemirror_mode": {
    "name": "ipython",
    "version": 3
   },
   "file_extension": ".py",
   "mimetype": "text/x-python",
   "name": "python",
   "nbconvert_exporter": "python",
   "pygments_lexer": "ipython3",
   "version": "3.7.0"
  }
 },
 "nbformat": 4,
 "nbformat_minor": 2
}
