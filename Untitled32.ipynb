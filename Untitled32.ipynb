{
 "cells": [
  {
   "cell_type": "code",
   "execution_count": 12,
   "metadata": {},
   "outputs": [
    {
     "name": "stderr",
     "output_type": "stream",
     "text": [
      "Exception in Tkinter callback\n",
      "Traceback (most recent call last):\n",
      "  File \"C:\\Users\\DELL\\Anaconda3\\lib\\tkinter\\__init__.py\", line 1702, in __call__\n",
      "    return self.func(*args)\n",
      "TypeError: button_click() missing 1 required positional argument: 'number'\n"
     ]
    }
   ],
   "source": [
    "from tkinter import *\n",
    "root=Tk()\n",
    "root.title('calculator')\n",
    "e=Entry(root,width=40,borderwidth=5)\n",
    "e.grid(row=0,column=0,columnspan=3,padx=10,pady=10)\n",
    "def button_click(number):\n",
    "    #e.delete(0,END)\n",
    "    current=e.get()\n",
    "    e.delete(0,END)\n",
    "    e.insert(0,str(current)+str(number))\n",
    "def button_clear():\n",
    "    e.delete(0,END)\n",
    "def button_add():\n",
    "    first_number=e.get()\n",
    "    global f_num\n",
    "    f_num=int(first_number)\n",
    "    e.delete(0,END)\n",
    "def button_equal():\n",
    "    second_number=e.get()\n",
    "    e.delete(0,END)\n",
    "    e.insert(0,f_num+int(second_number))\n",
    "button_1=Button(root,text='1',padx=40,pady=20,command=lambda: button_click(1))\n",
    "button_2=Button(root,text='2',padx=40,pady=20,command=lambda: button_click(2))\n",
    "button_3=Button(root,text='3',padx=40,pady=20,command=lambda: button_click(3))\n",
    "button_4=Button(root,text='4',padx=40,pady=20,command=lambda: button_click(4))\n",
    "button_5=Button(root,text='5',padx=40,pady=20,command=lambda: button_click(5))\n",
    "button_6=Button(root,text='6',padx=40,pady=20,command=lambda: button_click(6))\n",
    "button_7=Button(root,text='7',padx=40,pady=20,command=lambda: button_click(7))\n",
    "button_8=Button(root,text='8',padx=40,pady=20,command=lambda: button_click(8))\n",
    "button_9=Button(root,text='9',padx=40,pady=20,command=lambda: button_click(9))\n",
    "button_0=Button(root,text='0',padx=40,pady=20,command=lambda: button_click(0))\n",
    "button_add=Button(root,text='+',padx=38,pady=20,command=button_add)\n",
    "button_equal=Button(root,text='=',padx=90,pady=20,command=button_click)\n",
    "button_clear=Button(root,text='Clear',padx=80,pady=20,command=button_clear)\n",
    "\n",
    "\n",
    "button_1.grid(row=3,column=0)\n",
    "button_2.grid(row=3,column=1)\n",
    "button_3.grid(row=3,column=2)\n",
    "button_4.grid(row=2,column=0)\n",
    "button_5.grid(row=2,column=1)\n",
    "button_6.grid(row=2,column=2)\n",
    "button_7.grid(row=1,column=0)\n",
    "button_8.grid(row=1,column=1)\n",
    "button_9.grid(row=1,column=2)\n",
    "button_0.grid(row=4,column=0)\n",
    "button_clear.grid(row=4,column=1,columnspan=2)#without columnspan it hets shapeout\n",
    "button_add.grid(row=5,column=0)\n",
    "button_equal.grid(row=5,column=1,columnspan=2)\n",
    "root.mainloop()"
   ]
  },
  {
   "cell_type": "code",
   "execution_count": null,
   "metadata": {},
   "outputs": [],
   "source": []
  },
  {
   "cell_type": "code",
   "execution_count": null,
   "metadata": {},
   "outputs": [],
   "source": []
  }
 ],
 "metadata": {
  "kernelspec": {
   "display_name": "Python 3",
   "language": "python",
   "name": "python3"
  },
  "language_info": {
   "codemirror_mode": {
    "name": "ipython",
    "version": 3
   },
   "file_extension": ".py",
   "mimetype": "text/x-python",
   "name": "python",
   "nbconvert_exporter": "python",
   "pygments_lexer": "ipython3",
   "version": "3.7.0"
  }
 },
 "nbformat": 4,
 "nbformat_minor": 2
}
