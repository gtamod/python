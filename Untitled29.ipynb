{
 "cells": [
  {
   "cell_type": "code",
   "execution_count": 2,
   "metadata": {},
   "outputs": [
    {
     "name": "stdout",
     "output_type": "stream",
     "text": [
      "0    10\n",
      "dtype: int64\n"
     ]
    }
   ],
   "source": [
    "import pandas as pd\n",
    "a=pd.Series(10)\n",
    "print(a)"
   ]
  },
  {
   "cell_type": "code",
   "execution_count": 3,
   "metadata": {},
   "outputs": [
    {
     "name": "stdout",
     "output_type": "stream",
     "text": [
      "0    10\n",
      "1    20\n",
      "2    30\n",
      "dtype: int64\n"
     ]
    }
   ],
   "source": [
    "a=pd.Series([10,20,30])\n",
    "print(a)\n"
   ]
  },
  {
   "cell_type": "code",
   "execution_count": 4,
   "metadata": {},
   "outputs": [
    {
     "name": "stdout",
     "output_type": "stream",
     "text": [
      "1    10\n",
      "2    20\n",
      "3    30\n",
      "dtype: int64\n"
     ]
    }
   ],
   "source": [
    "a=pd.Series([10,20,30],index=[1,2,3])\n",
    "print(a)"
   ]
  },
  {
   "cell_type": "code",
   "execution_count": 5,
   "metadata": {},
   "outputs": [
    {
     "name": "stdout",
     "output_type": "stream",
     "text": [
      "a    10\n",
      "b    20\n",
      "c    30\n",
      "dtype: int64\n"
     ]
    }
   ],
   "source": [
    "a=pd.Series([10,20,30],index=['a','b','c'])\n",
    "print(a)"
   ]
  },
  {
   "cell_type": "code",
   "execution_count": 7,
   "metadata": {},
   "outputs": [
    {
     "name": "stdout",
     "output_type": "stream",
     "text": [
      "0    10.0\n",
      "1    20.0\n",
      "2     NaN\n",
      "dtype: float64\n"
     ]
    }
   ],
   "source": [
    "import numpy as np\n",
    "a=pd.Series([10,20,np.nan])\n",
    "print(a)"
   ]
  },
  {
   "cell_type": "code",
   "execution_count": 8,
   "metadata": {},
   "outputs": [
    {
     "name": "stdout",
     "output_type": "stream",
     "text": [
      "[10, 20, 30, 'shameer']\n",
      "0         10\n",
      "1         20\n",
      "2         30\n",
      "3    shameer\n",
      "dtype: object\n"
     ]
    },
    {
     "data": {
      "text/plain": [
       "pandas.core.series.Series"
      ]
     },
     "execution_count": 8,
     "metadata": {},
     "output_type": "execute_result"
    }
   ],
   "source": [
    "a=[10,20,30,'shameer']\n",
    "print(a)\n",
    "type(a)\n",
    "b=pd.Series(a)\n",
    "print(b)\n",
    "type(b)"
   ]
  },
  {
   "cell_type": "code",
   "execution_count": 10,
   "metadata": {},
   "outputs": [
    {
     "name": "stdout",
     "output_type": "stream",
     "text": [
      "    0\n",
      "0  10\n",
      "1  20\n",
      "2  30\n",
      "3  40\n",
      "4  50\n",
      "5  60\n"
     ]
    },
    {
     "data": {
      "text/plain": [
       "pandas.core.frame.DataFrame"
      ]
     },
     "execution_count": 10,
     "metadata": {},
     "output_type": "execute_result"
    }
   ],
   "source": [
    "a=[10,20,30,40,50,60]\n",
    "df=pd.DataFrame(a)\n",
    "print(df)\n",
    "type(df)"
   ]
  },
  {
   "cell_type": "code",
   "execution_count": 11,
   "metadata": {},
   "outputs": [
    {
     "name": "stdout",
     "output_type": "stream",
     "text": [
      "[['shameer', 99], ['sameer', 100], ['shaik', 98]]\n",
      "         0    1\n",
      "0  shameer   99\n",
      "1   sameer  100\n",
      "2    shaik   98\n"
     ]
    }
   ],
   "source": [
    "a=[['shameer',99],['sameer',100],['shaik',98]]\n",
    "print(a)\n",
    "df=pd.DataFrame(a)\n",
    "print(df)"
   ]
  },
  {
   "cell_type": "code",
   "execution_count": null,
   "metadata": {},
   "outputs": [],
   "source": []
  },
  {
   "cell_type": "code",
   "execution_count": 14,
   "metadata": {},
   "outputs": [
    {
     "name": "stdout",
     "output_type": "stream",
     "text": [
      "[['shameer', 99], ['sameer', 100], ['shaik', 98]]\n",
      "      Name  Marks\n",
      "0  shameer     99\n",
      "1   sameer    100\n",
      "2    shaik     98\n",
      "0    shameer\n",
      "1     sameer\n",
      "2      shaik\n",
      "Name: Name, dtype: object\n"
     ]
    },
    {
     "data": {
      "text/plain": [
       "pandas.core.series.Series"
      ]
     },
     "execution_count": 14,
     "metadata": {},
     "output_type": "execute_result"
    }
   ],
   "source": [
    "a=[['shameer',99],['sameer',100],['shaik',98]]\n",
    "print(a)\n",
    "df=pd.DataFrame(a,columns=['Name','Marks'])\n",
    "print(df)\n",
    "print(df['Name'])\n",
    "b=df['Name']\n",
    "type(b)"
   ]
  },
  {
   "cell_type": "code",
   "execution_count": 16,
   "metadata": {},
   "outputs": [
    {
     "name": "stdout",
     "output_type": "stream",
     "text": [
      "DatetimeIndex(['2019-11-30', '2019-12-31', '2020-01-31', '2020-02-29',\n",
      "               '2020-03-31', '2020-04-30', '2020-05-31', '2020-06-30',\n",
      "               '2020-07-31', '2020-08-31'],\n",
      "              dtype='datetime64[ns]', freq='M')\n"
     ]
    }
   ],
   "source": [
    "#datesrange\n",
    "d=pd.date_range('20191110',periods=10,freq='M')#use D for dates or Y for years\n",
    "print(d)"
   ]
  },
  {
   "cell_type": "code",
   "execution_count": 27,
   "metadata": {},
   "outputs": [
    {
     "name": "stdout",
     "output_type": "stream",
     "text": [
      "[[-0.96407627 -1.51532084  1.58232358 -0.99168184]\n",
      " [-1.13670226 -0.06238361 -2.02823642 -1.12629048]\n",
      " [ 0.58495614  1.29060077  1.0876952   0.81309951]\n",
      " [ 1.36270362  0.53427535 -1.03426756 -1.59724981]\n",
      " [ 0.31628279  0.55689527 -0.6609227  -0.37289685]\n",
      " [ 0.69660036 -0.97145945 -0.03565763 -0.38911629]\n",
      " [-0.77520423 -1.79732994  1.07185267  1.31221099]\n",
      " [-0.32744908 -0.17011265 -0.06277905  0.78749498]\n",
      " [ 0.5034266  -0.34202414 -0.41228666 -1.07334113]\n",
      " [-2.9146894   2.36440818 -1.97871996 -0.71822441]]\n",
      "                   A         B         C         D\n",
      "2019-11-30 -0.964076 -1.515321  1.582324 -0.991682\n",
      "2019-12-31 -1.136702 -0.062384 -2.028236 -1.126290\n",
      "2020-01-31  0.584956  1.290601  1.087695  0.813100\n",
      "2020-02-29  1.362704  0.534275 -1.034268 -1.597250\n",
      "2020-03-31  0.316283  0.556895 -0.660923 -0.372897\n",
      "2020-04-30  0.696600 -0.971459 -0.035658 -0.389116\n",
      "2020-05-31 -0.775204 -1.797330  1.071853  1.312211\n",
      "2020-06-30 -0.327449 -0.170113 -0.062779  0.787495\n",
      "2020-07-31  0.503427 -0.342024 -0.412287 -1.073341\n",
      "2020-08-31 -2.914689  2.364408 -1.978720 -0.718224\n",
      "<class 'pandas.core.frame.DataFrame'>\n",
      "DatetimeIndex: 10 entries, 2019-11-30 to 2020-08-31\n",
      "Freq: M\n",
      "Data columns (total 4 columns):\n",
      "A    10 non-null float64\n",
      "B    10 non-null float64\n",
      "C    10 non-null float64\n",
      "D    10 non-null float64\n",
      "dtypes: float64(4)\n",
      "memory usage: 400.0 bytes\n"
     ]
    },
    {
     "data": {
      "text/html": [
       "<div>\n",
       "<style scoped>\n",
       "    .dataframe tbody tr th:only-of-type {\n",
       "        vertical-align: middle;\n",
       "    }\n",
       "\n",
       "    .dataframe tbody tr th {\n",
       "        vertical-align: top;\n",
       "    }\n",
       "\n",
       "    .dataframe thead th {\n",
       "        text-align: right;\n",
       "    }\n",
       "</style>\n",
       "<table border=\"1\" class=\"dataframe\">\n",
       "  <thead>\n",
       "    <tr style=\"text-align: right;\">\n",
       "      <th></th>\n",
       "      <th>A</th>\n",
       "      <th>B</th>\n",
       "      <th>C</th>\n",
       "      <th>D</th>\n",
       "    </tr>\n",
       "  </thead>\n",
       "  <tbody>\n",
       "    <tr>\n",
       "      <th>2019-11-30</th>\n",
       "      <td>False</td>\n",
       "      <td>False</td>\n",
       "      <td>False</td>\n",
       "      <td>False</td>\n",
       "    </tr>\n",
       "    <tr>\n",
       "      <th>2019-12-31</th>\n",
       "      <td>False</td>\n",
       "      <td>False</td>\n",
       "      <td>False</td>\n",
       "      <td>False</td>\n",
       "    </tr>\n",
       "    <tr>\n",
       "      <th>2020-01-31</th>\n",
       "      <td>False</td>\n",
       "      <td>False</td>\n",
       "      <td>False</td>\n",
       "      <td>False</td>\n",
       "    </tr>\n",
       "    <tr>\n",
       "      <th>2020-02-29</th>\n",
       "      <td>False</td>\n",
       "      <td>False</td>\n",
       "      <td>False</td>\n",
       "      <td>False</td>\n",
       "    </tr>\n",
       "    <tr>\n",
       "      <th>2020-03-31</th>\n",
       "      <td>False</td>\n",
       "      <td>False</td>\n",
       "      <td>False</td>\n",
       "      <td>False</td>\n",
       "    </tr>\n",
       "    <tr>\n",
       "      <th>2020-04-30</th>\n",
       "      <td>False</td>\n",
       "      <td>False</td>\n",
       "      <td>False</td>\n",
       "      <td>False</td>\n",
       "    </tr>\n",
       "    <tr>\n",
       "      <th>2020-05-31</th>\n",
       "      <td>False</td>\n",
       "      <td>False</td>\n",
       "      <td>False</td>\n",
       "      <td>False</td>\n",
       "    </tr>\n",
       "    <tr>\n",
       "      <th>2020-06-30</th>\n",
       "      <td>False</td>\n",
       "      <td>False</td>\n",
       "      <td>False</td>\n",
       "      <td>False</td>\n",
       "    </tr>\n",
       "    <tr>\n",
       "      <th>2020-07-31</th>\n",
       "      <td>False</td>\n",
       "      <td>False</td>\n",
       "      <td>False</td>\n",
       "      <td>False</td>\n",
       "    </tr>\n",
       "    <tr>\n",
       "      <th>2020-08-31</th>\n",
       "      <td>False</td>\n",
       "      <td>False</td>\n",
       "      <td>False</td>\n",
       "      <td>False</td>\n",
       "    </tr>\n",
       "  </tbody>\n",
       "</table>\n",
       "</div>"
      ],
      "text/plain": [
       "                A      B      C      D\n",
       "2019-11-30  False  False  False  False\n",
       "2019-12-31  False  False  False  False\n",
       "2020-01-31  False  False  False  False\n",
       "2020-02-29  False  False  False  False\n",
       "2020-03-31  False  False  False  False\n",
       "2020-04-30  False  False  False  False\n",
       "2020-05-31  False  False  False  False\n",
       "2020-06-30  False  False  False  False\n",
       "2020-07-31  False  False  False  False\n",
       "2020-08-31  False  False  False  False"
      ]
     },
     "execution_count": 27,
     "metadata": {},
     "output_type": "execute_result"
    }
   ],
   "source": [
    "#to print 10 random rows with 4 columns\n",
    "r=np.random.randn(10,4)\n",
    "print(r)\n",
    "df=pd.DataFrame(r,index=d,columns=list('ABCD'))\n",
    "print(df)\n",
    "df.shape\n",
    "df.columns\n",
    "df.info()\n",
    "df.head()#prints first 5 rows\n",
    "df.head(n=2)#first 2 rows\n",
    "df.tail(3)#last 3 rows\n",
    "df.isnull()"
   ]
  },
  {
   "cell_type": "code",
   "execution_count": 32,
   "metadata": {},
   "outputs": [
    {
     "data": {
      "text/html": [
       "<div>\n",
       "<style scoped>\n",
       "    .dataframe tbody tr th:only-of-type {\n",
       "        vertical-align: middle;\n",
       "    }\n",
       "\n",
       "    .dataframe tbody tr th {\n",
       "        vertical-align: top;\n",
       "    }\n",
       "\n",
       "    .dataframe thead th {\n",
       "        text-align: right;\n",
       "    }\n",
       "</style>\n",
       "<table border=\"1\" class=\"dataframe\">\n",
       "  <thead>\n",
       "    <tr style=\"text-align: right;\">\n",
       "      <th></th>\n",
       "      <th>A</th>\n",
       "      <th>B</th>\n",
       "      <th>C</th>\n",
       "      <th>D</th>\n",
       "    </tr>\n",
       "  </thead>\n",
       "  <tbody>\n",
       "    <tr>\n",
       "      <th>A</th>\n",
       "      <td>1.000000</td>\n",
       "      <td>-0.253928</td>\n",
       "      <td>0.255518</td>\n",
       "      <td>-0.268016</td>\n",
       "    </tr>\n",
       "    <tr>\n",
       "      <th>B</th>\n",
       "      <td>-0.253928</td>\n",
       "      <td>1.000000</td>\n",
       "      <td>-0.158365</td>\n",
       "      <td>-0.474357</td>\n",
       "    </tr>\n",
       "    <tr>\n",
       "      <th>C</th>\n",
       "      <td>0.255518</td>\n",
       "      <td>-0.158365</td>\n",
       "      <td>1.000000</td>\n",
       "      <td>0.329357</td>\n",
       "    </tr>\n",
       "    <tr>\n",
       "      <th>D</th>\n",
       "      <td>-0.268016</td>\n",
       "      <td>-0.474357</td>\n",
       "      <td>0.329357</td>\n",
       "      <td>1.000000</td>\n",
       "    </tr>\n",
       "  </tbody>\n",
       "</table>\n",
       "</div>"
      ],
      "text/plain": [
       "          A         B         C         D\n",
       "A  1.000000 -0.253928  0.255518 -0.268016\n",
       "B -0.253928  1.000000 -0.158365 -0.474357\n",
       "C  0.255518 -0.158365  1.000000  0.329357\n",
       "D -0.268016 -0.474357  0.329357  1.000000"
      ]
     },
     "execution_count": 32,
     "metadata": {},
     "output_type": "execute_result"
    }
   ],
   "source": [
    "r=np.random.randn(10,4)\n",
    "df=pd.DataFrame(r,index=d,columns=list('ABCD'))\n",
    "df.dropna(axis=1)\n",
    "df['A'].value_counts()#used to count frequnecy of values\n",
    "df.corr()#used to find corelations"
   ]
  },
  {
   "cell_type": "code",
   "execution_count": null,
   "metadata": {},
   "outputs": [],
   "source": []
  },
  {
   "cell_type": "code",
   "execution_count": 35,
   "metadata": {},
   "outputs": [
    {
     "name": "stdout",
     "output_type": "stream",
     "text": [
      "                   A         B         C         D\n",
      "2019-11-30 -1.378824  0.014081 -0.550593  0.806361\n",
      "2019-12-31  0.633731 -0.319240  0.187846 -2.062936\n",
      "2020-01-31  2.304544 -0.257300 -0.017010 -1.504868\n",
      "2020-02-29  0.405839 -0.720494  0.324471 -0.460957\n",
      "2020-03-31  0.925637 -1.453239  0.031625 -0.160618\n",
      "2020-04-30 -0.282667  0.947918  0.505685 -0.057947\n",
      "2020-05-31 -0.138763  1.327259 -1.498101  0.806627\n",
      "2020-06-30  0.839281 -0.095076 -0.867711 -1.558980\n",
      "2020-07-31 -0.900357 -0.198621 -0.279949  0.354524\n",
      "2020-08-31 -2.875501  1.712131  0.716362  0.268181\n"
     ]
    },
    {
     "data": {
      "text/html": [
       "<div>\n",
       "<style scoped>\n",
       "    .dataframe tbody tr th:only-of-type {\n",
       "        vertical-align: middle;\n",
       "    }\n",
       "\n",
       "    .dataframe tbody tr th {\n",
       "        vertical-align: top;\n",
       "    }\n",
       "\n",
       "    .dataframe thead th {\n",
       "        text-align: right;\n",
       "    }\n",
       "</style>\n",
       "<table border=\"1\" class=\"dataframe\">\n",
       "  <thead>\n",
       "    <tr style=\"text-align: right;\">\n",
       "      <th></th>\n",
       "      <th>A</th>\n",
       "      <th>B</th>\n",
       "      <th>C</th>\n",
       "      <th>D</th>\n",
       "    </tr>\n",
       "  </thead>\n",
       "  <tbody>\n",
       "    <tr>\n",
       "      <th>count</th>\n",
       "      <td>10.000000</td>\n",
       "      <td>10.000000</td>\n",
       "      <td>10.000000</td>\n",
       "      <td>10.000000</td>\n",
       "    </tr>\n",
       "    <tr>\n",
       "      <th>mean</th>\n",
       "      <td>-0.046708</td>\n",
       "      <td>0.095742</td>\n",
       "      <td>-0.144738</td>\n",
       "      <td>-0.357061</td>\n",
       "    </tr>\n",
       "    <tr>\n",
       "      <th>std</th>\n",
       "      <td>1.433569</td>\n",
       "      <td>0.963080</td>\n",
       "      <td>0.673301</td>\n",
       "      <td>1.022846</td>\n",
       "    </tr>\n",
       "    <tr>\n",
       "      <th>min</th>\n",
       "      <td>-2.875501</td>\n",
       "      <td>-1.453239</td>\n",
       "      <td>-1.498101</td>\n",
       "      <td>-2.062936</td>\n",
       "    </tr>\n",
       "    <tr>\n",
       "      <th>25%</th>\n",
       "      <td>-0.745934</td>\n",
       "      <td>-0.303755</td>\n",
       "      <td>-0.482932</td>\n",
       "      <td>-1.243890</td>\n",
       "    </tr>\n",
       "    <tr>\n",
       "      <th>50%</th>\n",
       "      <td>0.133538</td>\n",
       "      <td>-0.146849</td>\n",
       "      <td>0.007308</td>\n",
       "      <td>-0.109282</td>\n",
       "    </tr>\n",
       "    <tr>\n",
       "      <th>75%</th>\n",
       "      <td>0.787894</td>\n",
       "      <td>0.714458</td>\n",
       "      <td>0.290315</td>\n",
       "      <td>0.332938</td>\n",
       "    </tr>\n",
       "    <tr>\n",
       "      <th>max</th>\n",
       "      <td>2.304544</td>\n",
       "      <td>1.712131</td>\n",
       "      <td>0.716362</td>\n",
       "      <td>0.806627</td>\n",
       "    </tr>\n",
       "  </tbody>\n",
       "</table>\n",
       "</div>"
      ],
      "text/plain": [
       "               A          B          C          D\n",
       "count  10.000000  10.000000  10.000000  10.000000\n",
       "mean   -0.046708   0.095742  -0.144738  -0.357061\n",
       "std     1.433569   0.963080   0.673301   1.022846\n",
       "min    -2.875501  -1.453239  -1.498101  -2.062936\n",
       "25%    -0.745934  -0.303755  -0.482932  -1.243890\n",
       "50%     0.133538  -0.146849   0.007308  -0.109282\n",
       "75%     0.787894   0.714458   0.290315   0.332938\n",
       "max     2.304544   1.712131   0.716362   0.806627"
      ]
     },
     "execution_count": 35,
     "metadata": {},
     "output_type": "execute_result"
    }
   ],
   "source": [
    "r=np.random.randn(10,4)\n",
    "df=pd.DataFrame(r,index=d,columns=list('ABCD'))\n",
    "print(df)\n",
    "df.describe()\n",
    "#df.describe(include=['object']) for objects\n",
    "#df.describe(include='all')for all columns"
   ]
  },
  {
   "cell_type": "code",
   "execution_count": null,
   "metadata": {},
   "outputs": [],
   "source": []
  }
 ],
 "metadata": {
  "kernelspec": {
   "display_name": "Python 3",
   "language": "python",
   "name": "python3"
  },
  "language_info": {
   "codemirror_mode": {
    "name": "ipython",
    "version": 3
   },
   "file_extension": ".py",
   "mimetype": "text/x-python",
   "name": "python",
   "nbconvert_exporter": "python",
   "pygments_lexer": "ipython3",
   "version": "3.7.0"
  }
 },
 "nbformat": 4,
 "nbformat_minor": 2
}
