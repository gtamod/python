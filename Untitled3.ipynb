{
 "cells": [
  {
   "cell_type": "code",
   "execution_count": 4,
   "metadata": {},
   "outputs": [
    {
     "name": "stdout",
     "output_type": "stream",
     "text": [
      "10\n",
      "10\n",
      "10\n",
      "10\n",
      "10\n"
     ]
    }
   ],
   "source": [
    "class Test:\n",
    "    a=10\n",
    "    def __init__(self):\n",
    "        print(Test.a)\n",
    "        print(self.a)\n",
    "    def m1(self):\n",
    "        print(Test.a)\n",
    "        print(self.a)\n",
    "    \n",
    "t=Test()\n",
    "t.m1()\n",
    "print(t.a)"
   ]
  },
  {
   "cell_type": "code",
   "execution_count": 6,
   "metadata": {},
   "outputs": [
    {
     "name": "stdout",
     "output_type": "stream",
     "text": [
      "10\n",
      "20\n"
     ]
    }
   ],
   "source": [
    "class Test:\n",
    "    a=10\n",
    "    def __init__(self):\n",
    "        self.a=20\n",
    "t=Test()\n",
    "print(Test.a)\n",
    "print(t.a)"
   ]
  },
  {
   "cell_type": "code",
   "execution_count": 7,
   "metadata": {},
   "outputs": [
    {
     "name": "stdout",
     "output_type": "stream",
     "text": [
      "{'__module__': '__main__', 'a': 10, 'm1': <function test.m1 at 0x000001B72CBE7950>, '__dict__': <attribute '__dict__' of 'test' objects>, '__weakref__': <attribute '__weakref__' of 'test' objects>, '__doc__': None}\n"
     ]
    }
   ],
   "source": [
    "class test:\n",
    "    a=10\n",
    "    def m1(self):\n",
    "        del cls.a\n",
    "        print(test.__dict__)\n",
    "t=test()\n",
    "print(test.__dict__)"
   ]
  },
  {
   "cell_type": "code",
   "execution_count": 10,
   "metadata": {},
   "outputs": [
    {
     "name": "stdout",
     "output_type": "stream",
     "text": [
      "8 9\n",
      "8 20\n"
     ]
    }
   ],
   "source": [
    "class Test:\n",
    "    x=10\n",
    "    def __init__(self):\n",
    "        self.y=20\n",
    "t1=Test()\n",
    "t2=Test()\n",
    "Test.x=8\n",
    "t1.y=9\n",
    "print(t1.x,t1.y)\n",
    "print(t2.x,t2.y)"
   ]
  },
  {
   "cell_type": "code",
   "execution_count": null,
   "metadata": {},
   "outputs": [],
   "source": []
  }
 ],
 "metadata": {
  "kernelspec": {
   "display_name": "Python 3",
   "language": "python",
   "name": "python3"
  },
  "language_info": {
   "codemirror_mode": {
    "name": "ipython",
    "version": 3
   },
   "file_extension": ".py",
   "mimetype": "text/x-python",
   "name": "python",
   "nbconvert_exporter": "python",
   "pygments_lexer": "ipython3",
   "version": "3.7.0"
  }
 },
 "nbformat": 4,
 "nbformat_minor": 2
}
