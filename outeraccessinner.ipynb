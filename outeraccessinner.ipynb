{
 "cells": [
  {
   "cell_type": "code",
   "execution_count": 10,
   "metadata": {},
   "outputs": [
    {
     "name": "stdout",
     "output_type": "stream",
     "text": [
      "Name: Shameer\n",
      "DOB=15/8/1998\n"
     ]
    }
   ],
   "source": [
    "class Person:\n",
    "    def __init__(self):\n",
    "        self.name='Shameer'\n",
    "        self.dob=self.DOB()\n",
    "    def display(self):\n",
    "        print('Name:',self.name)\n",
    "        self.dob.display()\n",
    "    class DOB:\n",
    "        def __init__(self):\n",
    "            self.dd=15\n",
    "            self.mm=8\n",
    "            self.yyyy=1998\n",
    "        def display(self):\n",
    "            print('DOB={}/{}/{}'.format(self.dd,self.mm,self.yyyy))\n",
    "p=Person()\n",
    "p.display()"
   ]
  },
  {
   "cell_type": "code",
   "execution_count": 11,
   "metadata": {},
   "outputs": [
    {
     "name": "stdout",
     "output_type": "stream",
     "text": [
      "reemahs"
     ]
    }
   ],
   "source": [
    "name='shameer'\n",
    "n=name[::-1]\n",
    "print(n,end=\"\")"
   ]
  },
  {
   "cell_type": "code",
   "execution_count": null,
   "metadata": {},
   "outputs": [],
   "source": []
  }
 ],
 "metadata": {
  "kernelspec": {
   "display_name": "Python 3",
   "language": "python",
   "name": "python3"
  },
  "language_info": {
   "codemirror_mode": {
    "name": "ipython",
    "version": 3
   },
   "file_extension": ".py",
   "mimetype": "text/x-python",
   "name": "python",
   "nbconvert_exporter": "python",
   "pygments_lexer": "ipython3",
   "version": "3.7.0"
  }
 },
 "nbformat": 4,
 "nbformat_minor": 2
}
