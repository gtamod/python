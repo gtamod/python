{
 "cells": [
  {
   "cell_type": "code",
   "execution_count": 1,
   "metadata": {},
   "outputs": [],
   "source": [
    "from tkinter import *\n",
    "root=Tk()\n",
    "#creating label widget\n",
    "mylabel=Label(root,text='hello world!')\n",
    "#shove it into screen\n",
    "mylabel.pack()#keeps helloworld in the middle of the screen\n",
    "root.mainloop()"
   ]
  },
  {
   "cell_type": "code",
   "execution_count": 2,
   "metadata": {},
   "outputs": [],
   "source": [
    "root=Tk()\n",
    "mylabel1=Label(root,text='helloworld!')\n",
    "mylabel2=Label(root,text='my name is shaik shameer')\n",
    "mylabel1.grid(row=0,column=0)\n",
    "mylabel2.grid(row=1,column=0)#change rows ,columns and check mostly tkinter ignores\n",
    "root.mainloop()"
   ]
  },
  {
   "cell_type": "code",
   "execution_count": 7,
   "metadata": {},
   "outputs": [],
   "source": [
    "root=Tk()\n",
    "mylabel1=Label(root,text='helloworld!')\n",
    "mylabel2=Label(root,text='my name is shaik shameer')\n",
    "mylabel3=Label(root,text=\"         \")\n",
    "mylabel1.grid(row=0,column=0)\n",
    "mylabel2.grid(row=1,column=5)\n",
    "mylabel3.grid(row=1,column=1)\n",
    "root.mainloop()"
   ]
  },
  {
   "cell_type": "code",
   "execution_count": 9,
   "metadata": {},
   "outputs": [],
   "source": [
    "root=Tk()\n",
    "mylabel1=Label(root,text='helloworld!').grid(row=0,column=0)\n",
    "mylabel2=Label(root,text='my name is shaik shameer').grid(row=1,column=0)\n",
    "root.mainloop()"
   ]
  },
  {
   "cell_type": "code",
   "execution_count": 10,
   "metadata": {},
   "outputs": [],
   "source": [
    "root=Tk()\n",
    "myButton=Button(root,text='Click me!')#to disable button ,state=DISABLED\n",
    "myButton.pack()\n",
    "root.mainloop()"
   ]
  },
  {
   "cell_type": "code",
   "execution_count": 12,
   "metadata": {},
   "outputs": [],
   "source": [
    "root=Tk()\n",
    "myButton=Button(root,text='Click me!',padx=50,pady=50)#to disable button ,state=DISABLED\n",
    "myButton.pack()\n",
    "root.mainloop()"
   ]
  },
  {
   "cell_type": "code",
   "execution_count": 14,
   "metadata": {},
   "outputs": [],
   "source": [
    "root=Tk()\n",
    "def myClick():\n",
    "    myLabel=Label(root,text='you clicked a button')\n",
    "    myLabel.pack()\n",
    "myButton=Button(root,text='Click me!',command=myClick,fg='blue',bg='red')#to disable button ,state=DISABLED\n",
    "myButton.pack()\n",
    "root.mainloop()"
   ]
  },
  {
   "cell_type": "code",
   "execution_count": 21,
   "metadata": {},
   "outputs": [],
   "source": [
    "#inputing data\n",
    "root=Tk()\n",
    "e=Entry(root,width=50,bg='blue',fg='white',borderwidth=10)\n",
    "e.pack()\n",
    "def myClick():\n",
    "    myLabel=Label(root,text='you clicked a button')\n",
    "    myLabel.pack()\n",
    "myButton=Button(root,text='Click me!',command=myClick)\n",
    "myButton.pack()\n",
    "root.mainloop()"
   ]
  },
  {
   "cell_type": "code",
   "execution_count": 28,
   "metadata": {},
   "outputs": [],
   "source": [
    "root=Tk()\n",
    "e=Entry(root,width=50)\n",
    "e.pack()\n",
    "def myClick():\n",
    "    myLabel=Label(root,text='hello ' + e.get())\n",
    "    myLabel.pack()\n",
    "myButton=Button(root,text='enter your name',command=myClick)\n",
    "myButton.pack()\n",
    "root.mainloop()"
   ]
  },
  {
   "cell_type": "code",
   "execution_count": 3,
   "metadata": {},
   "outputs": [],
   "source": [
    "root=Tk()\n",
    "e=Entry(root,width=50)\n",
    "e.pack()\n",
    "def myClick():\n",
    "    hello='hello '+e.get()\n",
    "    myLabel=Label(root,text=hello)\n",
    "    myLabel.pack()\n",
    "myButton=Button(root,text='enter your name',command=myClick)\n",
    "myButton.pack()\n",
    "root.mainloop()"
   ]
  },
  {
   "cell_type": "code",
   "execution_count": 31,
   "metadata": {},
   "outputs": [],
   "source": [
    "root=Tk()\n",
    "e=Entry(root,width=50)\n",
    "e.pack()\n",
    "e.insert(0,'enter your name:')\n",
    "def myClick():\n",
    "    hello='hello '+e.get()\n",
    "    myLabel=Label(root,text=hello)\n",
    "    myLabel.pack()\n",
    "myButton=Button(root,text='enter your name',command=myClick)\n",
    "myButton.pack()\n",
    "root.mainloop()"
   ]
  },
  {
   "cell_type": "code",
   "execution_count": null,
   "metadata": {},
   "outputs": [],
   "source": [
    "root=Tk()\n",
    "e=Entry(root,width=50)\n",
    "e.pack()\n",
    "e.insert(0,'enter your name:')\n",
    "def myClick():\n",
    "    hello='hello '+e.get()\n",
    "    myLabel=Label(root,text=hello)\n",
    "    myLabel.pack()\n",
    "myButton=Button(root,text='enter your name',command=myClick)\n",
    "myButton.pack()\n",
    "root.mainloop()"
   ]
  },
  {
   "cell_type": "code",
   "execution_count": 5,
   "metadata": {},
   "outputs": [],
   "source": [
    "#icons\n",
    "from tkinter import *\n",
    "root=Tk()\n",
    "root.title('hello')\n",
    "root.iconbitmap('E:/datafiles/fuck.ico')\n",
    "my_label=Label(root,text='Fuck U')\n",
    "my_label.pack()\n",
    "root.mainloop()"
   ]
  },
  {
   "cell_type": "code",
   "execution_count": 1,
   "metadata": {},
   "outputs": [],
   "source": [
    "#exit button\n",
    "from tkinter import *\n",
    "root=Tk()\n",
    "root.title('hello')\n",
    "root.iconbitmap('E:/datafiles/fuck.ico')\n",
    "my_label=Label(root,text='Fuck U')\n",
    "my_label.pack()\n",
    "button_quit=Button(root,text='exit',command=root.quit)\n",
    "button_quit.pack()\n",
    "root.mainloop()"
   ]
  },
  {
   "cell_type": "code",
   "execution_count": null,
   "metadata": {},
   "outputs": [],
   "source": [
    "#image\n",
    "from tkinter import *\n",
    "from PIL import ImageTk,Image\n",
    "root=Tk()\n",
    "my_img=ImageTk.PhotoImage(Image.open('E:/datafiles/me1.jpg'))\n",
    "my_label=Label(image=my_img)\n",
    "my_label.pack()\n",
    "root.mainloop()"
   ]
  },
  {
   "cell_type": "code",
   "execution_count": 2,
   "metadata": {},
   "outputs": [],
   "source": [
    "#frames\n",
    "from tkinter import *\n",
    "root=Tk()\n",
    "frame=LabelFrame(root,text='steve jobs',padx=5,pady=5)\n",
    "frame.pack(padx=10,pady=10)\n",
    "b=Button(frame,text='Yo')\n",
    "b.pack()#or b.grid(row=0,column=0)\n",
    "root.mainloop()"
   ]
  },
  {
   "cell_type": "code",
   "execution_count": null,
   "metadata": {},
   "outputs": [],
   "source": [
    "#radiobuttons\n",
    "\n",
    "RadioButton"
   ]
  }
 ],
 "metadata": {
  "kernelspec": {
   "display_name": "Python 3",
   "language": "python",
   "name": "python3"
  },
  "language_info": {
   "codemirror_mode": {
    "name": "ipython",
    "version": 3
   },
   "file_extension": ".py",
   "mimetype": "text/x-python",
   "name": "python",
   "nbconvert_exporter": "python",
   "pygments_lexer": "ipython3",
   "version": "3.7.0"
  }
 },
 "nbformat": 4,
 "nbformat_minor": 2
}
