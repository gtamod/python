{
 "cells": [
  {
   "cell_type": "code",
   "execution_count": 12,
   "metadata": {},
   "outputs": [
    {
     "name": "stdout",
     "output_type": "stream",
     "text": [
      "file name abc.txt\n",
      "file mode r\n",
      "Is file readable? True\n",
      "Is file writable? False\n",
      "Is file closed? False\n",
      "Is file closed? True\n"
     ]
    }
   ],
   "source": [
    "f=open('abc.txt','r')\n",
    "print('file name',f.name)\n",
    "print('file mode',f.mode)\n",
    "print('Is file readable?',f.readable())\n",
    "print('Is file writable?',f.writable())\n",
    "print('Is file closed?',f.closed)\n",
    "f.close()\n",
    "print('Is file closed?',f.closed)"
   ]
  },
  {
   "cell_type": "code",
   "execution_count": 17,
   "metadata": {},
   "outputs": [
    {
     "name": "stdout",
     "output_type": "stream",
     "text": [
      "write operation completed\n"
     ]
    }
   ],
   "source": [
    "f=open('shakira.txt','w')\n",
    "f.write('asdfg')\n",
    "f.write('qwerty')\n",
    "f.close()\n",
    "print('write operation completed')"
   ]
  },
  {
   "cell_type": "code",
   "execution_count": 14,
   "metadata": {},
   "outputs": [
    {
     "name": "stdin",
     "output_type": "stream",
     "text": [
      "enter file name shakira\n",
      "enter feedback data shaik shameer\n"
     ]
    }
   ],
   "source": [
    "fname=input('enter file name')\n",
    "f=open('E:\\\\inputs\\\\'+fname,'w')\n",
    "feedback=input('enter feedback data')\n",
    "f.write(feedback)\n",
    "f.close()"
   ]
  },
  {
   "cell_type": "code",
   "execution_count": 26,
   "metadata": {},
   "outputs": [
    {
     "name": "stdout",
     "output_type": "stream",
     "text": [
      "None\n",
      "write operation completed\n"
     ]
    }
   ],
   "source": [
    "f=open('shakira.txt','w')\n",
    "l=['sunny\\n','money\\n','bunny\\n','honey\\n']\n",
    "data=f.writelines(l)\n",
    "f.close()\n",
    "print(data)\n",
    "print('write operation completed')"
   ]
  },
  {
   "cell_type": "code",
   "execution_count": 27,
   "metadata": {},
   "outputs": [
    {
     "name": "stdout",
     "output_type": "stream",
     "text": [
      "sunny\n",
      "money\n",
      "bunny\n",
      "honey\n",
      "\n"
     ]
    }
   ],
   "source": [
    "f=open('shakira.txt')\n",
    "data=f.read()\n",
    "print(data)\n"
   ]
  },
  {
   "cell_type": "code",
   "execution_count": 25,
   "metadata": {},
   "outputs": [
    {
     "name": "stdout",
     "output_type": "stream",
     "text": [
      "sunny\n"
     ]
    }
   ],
   "source": [
    "f=open('shakira.txt')\n",
    "data=f.read(5)\n",
    "print(data)"
   ]
  },
  {
   "cell_type": "code",
   "execution_count": 28,
   "metadata": {},
   "outputs": [
    {
     "name": "stdout",
     "output_type": "stream",
     "text": [
      "sunny\n",
      "\n"
     ]
    }
   ],
   "source": [
    "f=open('shakira.txt')\n",
    "data=f.readline()\n",
    "print(data)"
   ]
  },
  {
   "cell_type": "code",
   "execution_count": null,
   "metadata": {},
   "outputs": [],
   "source": []
  },
  {
   "cell_type": "code",
   "execution_count": 31,
   "metadata": {},
   "outputs": [
    {
     "name": "stdout",
     "output_type": "stream",
     "text": [
      "['sunny\\n', 'money\\n', 'bunny\\n', 'honey\\n']\n",
      "sunny\n",
      "money\n",
      "bunny\n",
      "honey\n"
     ]
    }
   ],
   "source": [
    "f=open('shakira.txt')\n",
    "data=f.readlines()\n",
    "print(data)\n",
    "for i in data:\n",
    "    print(i,end='')"
   ]
  },
  {
   "cell_type": "code",
   "execution_count": null,
   "metadata": {},
   "outputs": [],
   "source": []
  },
  {
   "cell_type": "code",
   "execution_count": 37,
   "metadata": {},
   "outputs": [
    {
     "name": "stdout",
     "output_type": "stream",
     "text": [
      "sunny\n",
      "money\n",
      "bunny\n",
      "honey\n",
      "trippytrippytrippy\n"
     ]
    }
   ],
   "source": [
    "f=open('shakira.txt','r')\n",
    "data=f.read()\n",
    "print(data)"
   ]
  },
  {
   "cell_type": "code",
   "execution_count": 38,
   "metadata": {},
   "outputs": [
    {
     "name": "stdout",
     "output_type": "stream",
     "text": [
      "su\n",
      "nny\n",
      "\n",
      "mone\n",
      "remaining data\n",
      "y\n",
      "bunny\n",
      "honey\n",
      "trippytrippytrippy\n"
     ]
    }
   ],
   "source": [
    "f=open('shakira.txt','r')\n",
    "print(f.read(2))\n",
    "print(f.readline())\n",
    "print(f.read(4))\n",
    "print('remaining data')\n",
    "print(f.read())"
   ]
  },
  {
   "cell_type": "code",
   "execution_count": 39,
   "metadata": {},
   "outputs": [
    {
     "name": "stdout",
     "output_type": "stream",
     "text": [
      "is it closed? False\n",
      "is it closed True\n"
     ]
    }
   ],
   "source": [
    "with open('shakira.txt','w') as f:\n",
    "    f.write('shaik')\n",
    "    f.write('shameer')\n",
    "    print('is it closed?',f.closed)\n",
    "print('is it closed',f.closed)"
   ]
  },
  {
   "cell_type": "code",
   "execution_count": 41,
   "metadata": {},
   "outputs": [
    {
     "name": "stdout",
     "output_type": "stream",
     "text": [
      "shaikshameer\n"
     ]
    }
   ],
   "source": [
    "f=open('shakira.txt')\n",
    "data=f.read()\n",
    "print(data)"
   ]
  },
  {
   "cell_type": "code",
   "execution_count": 42,
   "metadata": {},
   "outputs": [
    {
     "name": "stdout",
     "output_type": "stream",
     "text": [
      "0\n",
      "sh\n",
      "2\n",
      "aik\n",
      "5\n"
     ]
    }
   ],
   "source": [
    "#tell() returns the current index position\n",
    "f=open('shakira.txt')\n",
    "print(f.tell())\n",
    "print(f.read(2))\n",
    "print(f.tell())\n",
    "print(f.read(3))\n",
    "print(f.tell())"
   ]
  },
  {
   "cell_type": "code",
   "execution_count": 49,
   "metadata": {},
   "outputs": [
    {
     "name": "stdout",
     "output_type": "stream",
     "text": [
      "all students are stupids\n",
      "the current cursor position is 24\n",
      "the current cursor position is 17\n",
      "data after modification\n",
      "all students are gems!!!\n"
     ]
    }
   ],
   "source": [
    "data='all students are stupids'\n",
    "f=open('shakira.txt','w')\n",
    "f.write(data)\n",
    "with open('shakira.txt','r+') as f:\n",
    "    text=f.read()\n",
    "    print(text)\n",
    "    print('the current cursor position is',f.tell())\n",
    "    f.seek(17)\n",
    "    print('the current cursor position is',f.tell())\n",
    "    f.write('gems!!!')\n",
    "    f.seek(0)\n",
    "    text=f.read()\n",
    "    print('data after modification')\n",
    "    print(text)"
   ]
  },
  {
   "cell_type": "code",
   "execution_count": 50,
   "metadata": {},
   "outputs": [
    {
     "name": "stdout",
     "output_type": "stream",
     "text": [
      "all students are gems!!!\n"
     ]
    }
   ],
   "source": [
    "f=open('shakira.txt')\n",
    "data=f.read()\n",
    "print(data)"
   ]
  },
  {
   "cell_type": "code",
   "execution_count": null,
   "metadata": {},
   "outputs": [],
   "source": []
  },
  {
   "cell_type": "code",
   "execution_count": 57,
   "metadata": {},
   "outputs": [
    {
     "name": "stdout",
     "output_type": "stream",
     "text": [
      "41\n",
      "all students are stupids\u0000\n",
      "shaik\n",
      "shameer\n"
     ]
    }
   ],
   "source": [
    "data='all students are stupids'\n",
    "f=open('shakira.txt','w')\n",
    "f.write(data)\n",
    "with open('shakira.txt','r+') as f:\n",
    "    f.seek(25)\n",
    "    f.write('\\nshaik\\nshameer')\n",
    "    print(f.tell())\n",
    "f=open('shakira.txt','r')\n",
    "data=f.read()\n",
    "print(data)"
   ]
  },
  {
   "cell_type": "code",
   "execution_count": null,
   "metadata": {},
   "outputs": [],
   "source": [
    "import os\n",
    "fname=input('enter file name')\n",
    "if os.path.isfile(fname):\n",
    "    print('file exists',fname)\n",
    "    f=open('shakira.txt','r')\n",
    "    print('the contents of the file is')\n",
    "    print(f.read())\n",
    "else:\n",
    "    print('file not found',fname)"
   ]
  },
  {
   "cell_type": "code",
   "execution_count": null,
   "metadata": {},
   "outputs": [],
   "source": []
  },
  {
   "cell_type": "code",
   "execution_count": null,
   "metadata": {},
   "outputs": [],
   "source": [
    "import os\n",
    "fname=input('enter file name')\n",
    "if os.path.isfile(fname):\n",
    "    print('file exists',fname)\n",
    "    f=open('shakira.txt','r')\n",
    "    lcount=wcount=ccount=0\n",
    "    for line in f:\n",
    "        lcount=lcount+1\n",
    "        words=line.split()\n",
    "        wcount=wcount+len(words)\n",
    "        ccount=ccount+len(line)\n",
    "    print('no of lines',lcount)\n",
    "    print('no of words',wcount)\n",
    "    print('no of char',ccount)\n",
    "else:\n",
    "    print('file not found',fname)"
   ]
  },
  {
   "cell_type": "code",
   "execution_count": null,
   "metadata": {},
   "outputs": [],
   "source": []
  },
  {
   "cell_type": "code",
   "execution_count": null,
   "metadata": {},
   "outputs": [],
   "source": []
  },
  {
   "cell_type": "code",
   "execution_count": null,
   "metadata": {},
   "outputs": [],
   "source": []
  },
  {
   "cell_type": "code",
   "execution_count": null,
   "metadata": {},
   "outputs": [],
   "source": []
  }
 ],
 "metadata": {
  "kernelspec": {
   "display_name": "Python 3",
   "language": "python",
   "name": "python3"
  },
  "language_info": {
   "codemirror_mode": {
    "name": "ipython",
    "version": 3
   },
   "file_extension": ".py",
   "mimetype": "text/x-python",
   "name": "python",
   "nbconvert_exporter": "python",
   "pygments_lexer": "ipython3",
   "version": "3.7.0"
  }
 },
 "nbformat": 4,
 "nbformat_minor": 2
}
