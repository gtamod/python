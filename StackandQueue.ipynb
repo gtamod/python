{
 "cells": [
  {
   "cell_type": "markdown",
   "metadata": {},
   "source": [
    "## stack"
   ]
  },
  {
   "cell_type": "code",
   "execution_count": 1,
   "metadata": {},
   "outputs": [
    {
     "name": "stdout",
     "output_type": "stream",
     "text": [
      "Tue\n",
      "Thu\n"
     ]
    }
   ],
   "source": [
    "class Stack:\n",
    "\n",
    "    def __init__(self):\n",
    "        self.stack = []\n",
    "\n",
    "    def add(self, dataval):\n",
    "# Use list append method to add element\n",
    "        if dataval not in self.stack:\n",
    "            self.stack.append(dataval)\n",
    "            return True\n",
    "        else:\n",
    "            return False\n",
    "# Use peek to look at the top of the stack\n",
    "\n",
    "    def peek(self):     \n",
    "        return self.stack[-1]\n",
    "\n",
    "AStack = Stack()\n",
    "AStack.add(\"Mon\")\n",
    "AStack.add(\"Tue\")\n",
    "AStack.peek()\n",
    "print(AStack.peek())\n",
    "AStack.add(\"Wed\")\n",
    "AStack.add(\"Thu\")\n",
    "print(AStack.peek())\n"
   ]
  },
  {
   "cell_type": "code",
   "execution_count": 2,
   "metadata": {},
   "outputs": [
    {
     "name": "stdout",
     "output_type": "stream",
     "text": [
      "Thu\n",
      "Wed\n"
     ]
    }
   ],
   "source": [
    "class Stack:\n",
    "\n",
    "    def __init__(self):\n",
    "        self.stack = []\n",
    "\n",
    "    def add(self, dataval):\n",
    "# Use list append method to add element\n",
    "        if dataval not in self.stack:\n",
    "            self.stack.append(dataval)\n",
    "            return True\n",
    "        else:\n",
    "            return False\n",
    "        \n",
    "# Use list pop method to remove element\n",
    "    def remove(self):\n",
    "        if len(self.stack) <= 0:\n",
    "            return (\"No element in the Stack\")\n",
    "        else:\n",
    "            return self.stack.pop()\n",
    "\n",
    "AStack = Stack()\n",
    "AStack.add(\"Mon\")\n",
    "AStack.add(\"Tue\")\n",
    "AStack.add(\"Wed\")\n",
    "AStack.add(\"Thu\")\n",
    "print(AStack.remove())\n",
    "print(AStack.remove())\n"
   ]
  },
  {
   "cell_type": "markdown",
   "metadata": {},
   "source": [
    "## Queue\n"
   ]
  },
  {
   "cell_type": "code",
   "execution_count": 4,
   "metadata": {},
   "outputs": [
    {
     "name": "stdout",
     "output_type": "stream",
     "text": [
      "3\n"
     ]
    }
   ],
   "source": [
    "class Queue:\n",
    "    \n",
    "\n",
    "    def __init__(self):\n",
    "        self.queue = list()\n",
    "\n",
    "    def addtoq(self,dataval):\n",
    "# Insert method to add element\n",
    "        if dataval not in self.queue:\n",
    "            self.queue.insert(0,dataval)\n",
    "            return True\n",
    "        return False\n",
    "\n",
    "    def size(self):\n",
    "        return len(self.queue)\n",
    "\n",
    "TheQueue = Queue()\n",
    "TheQueue.addtoq(\"Mon\")\n",
    "TheQueue.addtoq(\"Tue\")\n",
    "TheQueue.addtoq(\"Wed\")\n",
    "print(TheQueue.size())"
   ]
  },
  {
   "cell_type": "code",
   "execution_count": 5,
   "metadata": {},
   "outputs": [
    {
     "name": "stdout",
     "output_type": "stream",
     "text": [
      "Mon\n",
      "Tue\n"
     ]
    }
   ],
   "source": [
    "class Queue:\n",
    "\n",
    "    def __init__(self):\n",
    "        self.queue = list()\n",
    "\n",
    "    def addtoq(self,dataval):\n",
    "# Insert method to add element\n",
    "        if dataval not in self.queue:\n",
    "            self.queue.insert(0,dataval)\n",
    "            return True\n",
    "        return False\n",
    "# Pop method to remove element\n",
    "    def removefromq(self):\n",
    "        if len(self.queue)>0:\n",
    "            return self.queue.pop()\n",
    "        return (\"No elements in Queue!\")\n",
    "\n",
    "TheQueue = Queue()\n",
    "TheQueue.addtoq(\"Mon\")\n",
    "TheQueue.addtoq(\"Tue\")\n",
    "TheQueue.addtoq(\"Wed\")\n",
    "print(TheQueue.removefromq())\n",
    "print(TheQueue.removefromq())\n"
   ]
  },
  {
   "cell_type": "markdown",
   "metadata": {},
   "source": [
    "## dequeue(double ended queue)"
   ]
  },
  {
   "cell_type": "code",
   "execution_count": 6,
   "metadata": {},
   "outputs": [
    {
     "name": "stdout",
     "output_type": "stream",
     "text": [
      "Appended at right - \n",
      "deque(['Mon', 'Tue', 'Wed', 'Thu'])\n",
      "Appended at right at left is - \n",
      "deque(['Sun', 'Mon', 'Tue', 'Wed', 'Thu'])\n",
      "Deleting from right - \n",
      "deque(['Sun', 'Mon', 'Tue', 'Wed'])\n",
      "Deleting from left - \n",
      "deque(['Mon', 'Tue', 'Wed'])\n"
     ]
    }
   ],
   "source": [
    "import collections\n",
    "\n",
    "DoubleEnded = collections.deque([\"Mon\",\"Tue\",\"Wed\"])\n",
    "\n",
    "DoubleEnded.append(\"Thu\")\n",
    "\n",
    "print (\"Appended at right - \")\n",
    "print (DoubleEnded)\n",
    "\n",
    "DoubleEnded.appendleft(\"Sun\")\n",
    "\n",
    "print (\"Appended at right at left is - \")\n",
    "print (DoubleEnded)\n",
    "\n",
    "DoubleEnded.pop()\n",
    "\n",
    "print (\"Deleting from right - \")\n",
    "print (DoubleEnded)\n",
    "\n",
    "DoubleEnded.popleft()\n",
    "\n",
    "print (\"Deleting from left - \")\n",
    "print (DoubleEnded)"
   ]
  },
  {
   "cell_type": "code",
   "execution_count": null,
   "metadata": {},
   "outputs": [],
   "source": []
  }
 ],
 "metadata": {
  "kernelspec": {
   "display_name": "Python 3",
   "language": "python",
   "name": "python3"
  },
  "language_info": {
   "codemirror_mode": {
    "name": "ipython",
    "version": 3
   },
   "file_extension": ".py",
   "mimetype": "text/x-python",
   "name": "python",
   "nbconvert_exporter": "python",
   "pygments_lexer": "ipython3",
   "version": "3.7.6"
  }
 },
 "nbformat": 4,
 "nbformat_minor": 4
}
