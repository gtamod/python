{
 "cells": [
  {
   "cell_type": "code",
   "execution_count": 3,
   "metadata": {},
   "outputs": [
    {
     "name": "stdout",
     "output_type": "stream",
     "text": [
      "Name: Shameer\n",
      "talking\n",
      "thinking\n"
     ]
    }
   ],
   "source": [
    "class Human:\n",
    "    def __init__(self):\n",
    "        self.name='Shameer'\n",
    "        self.head=self.Head()\n",
    "    def display(self):\n",
    "        print('Name:',self.name)\n",
    "        self.head.talk()\n",
    "        self.head.brain.think()\n",
    "    class Head:\n",
    "        def __init__(self):\n",
    "            self.brain=self.Brain()\n",
    "        def talk(self):\n",
    "            print('talking')\n",
    "        class Brain:\n",
    "            def think(self):\n",
    "                print('thinking')\n",
    "h=Human()\n",
    "h.display()"
   ]
  },
  {
   "cell_type": "code",
   "execution_count": null,
   "metadata": {},
   "outputs": [],
   "source": []
  }
 ],
 "metadata": {
  "kernelspec": {
   "display_name": "Python 3",
   "language": "python",
   "name": "python3"
  },
  "language_info": {
   "codemirror_mode": {
    "name": "ipython",
    "version": 3
   },
   "file_extension": ".py",
   "mimetype": "text/x-python",
   "name": "python",
   "nbconvert_exporter": "python",
   "pygments_lexer": "ipython3",
   "version": "3.7.0"
  }
 },
 "nbformat": 4,
 "nbformat_minor": 2
}
