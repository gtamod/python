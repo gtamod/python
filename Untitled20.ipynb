{
 "cells": [
  {
   "cell_type": "code",
   "execution_count": 12,
   "metadata": {},
   "outputs": [
    {
     "name": "stdout",
     "output_type": "stream",
     "text": [
      "file name abc.txt\n",
      "file mode r\n",
      "Is file readable? True\n",
      "Is file writable? False\n",
      "Is file closed? False\n",
      "Is file closed? True\n"
     ]
    }
   ],
   "source": [
    "f=open('abc.txt','r')\n",
    "print('file name',f.name)\n",
    "print('file mode',f.mode)\n",
    "print('Is file readable?',f.readable())\n",
    "print('Is file writable?',f.writable())\n",
    "print('Is file closed?',f.closed)\n",
    "f.close()\n",
    "print('Is file closed?',f.closed)"
   ]
  },
  {
   "cell_type": "code",
   "execution_count": 17,
   "metadata": {},
   "outputs": [
    {
     "name": "stdout",
     "output_type": "stream",
     "text": [
      "write operation completed\n"
     ]
    }
   ],
   "source": [
    "f=open('shakira.txt','w')\n",
    "f.write('asdfg')\n",
    "f.write('qwerty')\n",
    "f.close()\n",
    "print('write operation completed')"
   ]
  },
  {
   "cell_type": "code",
   "execution_count": 14,
   "metadata": {},
   "outputs": [
    {
     "name": "stdin",
     "output_type": "stream",
     "text": [
      "enter file name shakira\n",
      "enter feedback data shaik shameer\n"
     ]
    }
   ],
   "source": [
    "fname=input('enter file name')\n",
    "f=open('E:\\\\inputs\\\\'+fname,'w')\n",
    "feedback=input('enter feedback data')\n",
    "f.write(feedback)\n",
    "f.close()"
   ]
  },
  {
   "cell_type": "code",
   "execution_count": 26,
   "metadata": {},
   "outputs": [
    {
     "name": "stdout",
     "output_type": "stream",
     "text": [
      "None\n",
      "write operation completed\n"
     ]
    }
   ],
   "source": [
    "f=open('shakira.txt','w')\n",
    "l=['sunny\\n','money\\n','bunny\\n','honey\\n']\n",
    "data=f.writelines(l)\n",
    "f.close()\n",
    "print(data)\n",
    "print('write operation completed')"
   ]
  },
  {
   "cell_type": "code",
   "execution_count": 27,
   "metadata": {},
   "outputs": [
    {
     "name": "stdout",
     "output_type": "stream",
     "text": [
      "sunny\n",
      "money\n",
      "bunny\n",
      "honey\n",
      "\n"
     ]
    }
   ],
   "source": [
    "f=open('shakira.txt')\n",
    "data=f.read()\n",
    "print(data)\n"
   ]
  },
  {
   "cell_type": "code",
   "execution_count": 25,
   "metadata": {},
   "outputs": [
    {
     "name": "stdout",
     "output_type": "stream",
     "text": [
      "sunny\n"
     ]
    }
   ],
   "source": [
    "f=open('shakira.txt')\n",
    "data=f.read(5)\n",
    "print(data)"
   ]
  },
  {
   "cell_type": "code",
   "execution_count": 28,
   "metadata": {},
   "outputs": [
    {
     "name": "stdout",
     "output_type": "stream",
     "text": [
      "sunny\n",
      "\n"
     ]
    }
   ],
   "source": [
    "f=open('shakira.txt')\n",
    "data=f.readline()\n",
    "print(data)"
   ]
  },
  {
   "cell_type": "code",
   "execution_count": null,
   "metadata": {},
   "outputs": [],
   "source": []
  },
  {
   "cell_type": "code",
   "execution_count": 31,
   "metadata": {},
   "outputs": [
    {
     "name": "stdout",
     "output_type": "stream",
     "text": [
      "['sunny\\n', 'money\\n', 'bunny\\n', 'honey\\n']\n",
      "sunny\n",
      "money\n",
      "bunny\n",
      "honey\n"
     ]
    }
   ],
   "source": [
    "f=open('shakira.txt')\n",
    "data=f.readlines()\n",
    "print(data)\n",
    "for i in data:\n",
    "    print(i,end='')"
   ]
  },
  {
   "cell_type": "code",
   "execution_count": null,
   "metadata": {},
   "outputs": [],
   "source": []
  },
  {
   "cell_type": "code",
   "execution_count": 37,
   "metadata": {},
   "outputs": [
    {
     "name": "stdout",
     "output_type": "stream",
     "text": [
      "sunny\n",
      "money\n",
      "bunny\n",
      "honey\n",
      "trippytrippytrippy\n"
     ]
    }
   ],
   "source": [
    "f=open('shakira.txt','r')\n",
    "data=f.read()\n",
    "print(data)"
   ]
  },
  {
   "cell_type": "code",
   "execution_count": 38,
   "metadata": {},
   "outputs": [
    {
     "name": "stdout",
     "output_type": "stream",
     "text": [
      "su\n",
      "nny\n",
      "\n",
      "mone\n",
      "remaining data\n",
      "y\n",
      "bunny\n",
      "honey\n",
      "trippytrippytrippy\n"
     ]
    }
   ],
   "source": [
    "f=open('shakira.txt','r')\n",
    "print(f.read(2))\n",
    "print(f.readline())\n",
    "print(f.read(4))\n",
    "print('remaining data')\n",
    "print(f.read())"
   ]
  },
  {
   "cell_type": "code",
   "execution_count": 39,
   "metadata": {},
   "outputs": [
    {
     "name": "stdout",
     "output_type": "stream",
     "text": [
      "is it closed? False\n",
      "is it closed True\n"
     ]
    }
   ],
   "source": [
    "with open('shakira.txt','w') as f:\n",
    "    f.write('shaik')\n",
    "    f.write('shameer')\n",
    "    print('is it closed?',f.closed)\n",
    "print('is it closed',f.closed)"
   ]
  },
  {
   "cell_type": "code",
   "execution_count": 41,
   "metadata": {},
   "outputs": [
    {
     "name": "stdout",
     "output_type": "stream",
     "text": [
      "shaikshameer\n"
     ]
    }
   ],
   "source": [
    "f=open('shakira.txt')\n",
    "data=f.read()\n",
    "print(data)"
   ]
  },
  {
   "cell_type": "code",
   "execution_count": 42,
   "metadata": {},
   "outputs": [
    {
     "name": "stdout",
     "output_type": "stream",
     "text": [
      "0\n",
      "sh\n",
      "2\n",
      "aik\n",
      "5\n"
     ]
    }
   ],
   "source": [
    "#tell() returns the current index position\n",
    "f=open('shakira.txt')\n",
    "print(f.tell())\n",
    "print(f.read(2))\n",
    "print(f.tell())\n",
    "print(f.read(3))\n",
    "print(f.tell())"
   ]
  },
  {
   "cell_type": "code",
   "execution_count": 49,
   "metadata": {},
   "outputs": [
    {
     "name": "stdout",
     "output_type": "stream",
     "text": [
      "all students are stupids\n",
      "the current cursor position is 24\n",
      "the current cursor position is 17\n",
      "data after modification\n",
      "all students are gems!!!\n"
     ]
    }
   ],
   "source": [
    "data='all students are stupids'\n",
    "f=open('shakira.txt','w')\n",
    "f.write(data)\n",
    "with open('shakira.txt','r+') as f:\n",
    "    text=f.read()\n",
    "    print(text)\n",
    "    print('the current cursor position is',f.tell())\n",
    "    f.seek(17)\n",
    "    print('the current cursor position is',f.tell())\n",
    "    f.write('gems!!!')\n",
    "    f.seek(0)\n",
    "    text=f.read()\n",
    "    print('data after modification')\n",
    "    print(text)"
   ]
  },
  {
   "cell_type": "code",
   "execution_count": 50,
   "metadata": {},
   "outputs": [
    {
     "name": "stdout",
     "output_type": "stream",
     "text": [
      "all students are gems!!!\n"
     ]
    }
   ],
   "source": [
    "f=open('shakira.txt')\n",
    "data=f.read()\n",
    "print(data)"
   ]
  },
  {
   "cell_type": "code",
   "execution_count": null,
   "metadata": {},
   "outputs": [],
   "source": []
  },
  {
   "cell_type": "code",
   "execution_count": 54,
   "metadata": {},
   "outputs": [
    {
     "name": "stdout",
     "output_type": "stream",
     "text": [
      "37\n"
     ]
    },
    {
     "ename": "ValueError",
     "evalue": "I/O operation on closed file.",
     "output_type": "error",
     "traceback": [
      "\u001b[1;31m---------------------------------------------------------------------------\u001b[0m",
      "\u001b[1;31mValueError\u001b[0m                                Traceback (most recent call last)",
      "\u001b[1;32m<ipython-input-54-cab9ed4c5493>\u001b[0m in \u001b[0;36m<module>\u001b[1;34m()\u001b[0m\n\u001b[0;32m      6\u001b[0m     \u001b[0mf\u001b[0m\u001b[1;33m.\u001b[0m\u001b[0mwrite\u001b[0m\u001b[1;33m(\u001b[0m\u001b[1;34m'shaikshameer'\u001b[0m\u001b[1;33m)\u001b[0m\u001b[1;33m\u001b[0m\u001b[0m\n\u001b[0;32m      7\u001b[0m     \u001b[0mprint\u001b[0m\u001b[1;33m(\u001b[0m\u001b[0mf\u001b[0m\u001b[1;33m.\u001b[0m\u001b[0mtell\u001b[0m\u001b[1;33m(\u001b[0m\u001b[1;33m)\u001b[0m\u001b[1;33m)\u001b[0m\u001b[1;33m\u001b[0m\u001b[0m\n\u001b[1;32m----> 8\u001b[1;33m \u001b[0mdata\u001b[0m\u001b[1;33m=\u001b[0m\u001b[0mf\u001b[0m\u001b[1;33m.\u001b[0m\u001b[0mread\u001b[0m\u001b[1;33m(\u001b[0m\u001b[1;33m)\u001b[0m\u001b[1;33m\u001b[0m\u001b[0m\n\u001b[0m\u001b[0;32m      9\u001b[0m \u001b[0mprint\u001b[0m\u001b[1;33m(\u001b[0m\u001b[0mdata\u001b[0m\u001b[1;33m)\u001b[0m\u001b[1;33m\u001b[0m\u001b[0m\n",
      "\u001b[1;31mValueError\u001b[0m: I/O operation on closed file."
     ]
    }
   ],
   "source": [
    "data='all students are stupids'\n",
    "f=open('shakira.txt','w')\n",
    "f.write(data)\n",
    "with open('shakira.txt','r+') as f:\n",
    "    f.seek(25)\n",
    "    f.write('shaikshameer')\n",
    "    print(f.tell())\n",
    "data=f.read()\n",
    "print(data)"
   ]
  },
  {
   "cell_type": "code",
   "execution_count": null,
   "metadata": {},
   "outputs": [],
   "source": []
  },
  {
   "cell_type": "code",
   "execution_count": null,
   "metadata": {},
   "outputs": [],
   "source": []
  }
 ],
 "metadata": {
  "kernelspec": {
   "display_name": "Python 3",
   "language": "python",
   "name": "python3"
  },
  "language_info": {
   "codemirror_mode": {
    "name": "ipython",
    "version": 3
   },
   "file_extension": ".py",
   "mimetype": "text/x-python",
   "name": "python",
   "nbconvert_exporter": "python",
   "pygments_lexer": "ipython3",
   "version": "3.7.0"
  }
 },
 "nbformat": 4,
 "nbformat_minor": 2
}
