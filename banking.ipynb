{
 "cells": [
  {
   "cell_type": "code",
   "execution_count": null,
   "metadata": {},
   "outputs": [],
   "source": [
    "import sys\n",
    "class Customer:\n",
    "    bankname='GoldenBank'\n",
    "    def __init__(self,name,balance=0):\n",
    "        self.name=name\n",
    "        self.balance=balance\n",
    "    def deposit(self,amt):\n",
    "        self.balance=self.balance+amt\n",
    "        print('balance after deposit',self.balance)\n",
    "    def withdraw(self,amt):\n",
    "        if amt>self.balance:\n",
    "            print('insufficient funds')\n",
    "            sys.exit()\n",
    "            self.balance=self.balance-amt\n",
    "            print('balance after withdraw',self.balance)\n",
    "            \n",
    "print('welcome to',Customer.bankname)\n",
    "name=input('enter name')\n",
    "c=Customer(name)\n",
    "while True:\n",
    "    print('d-deposit\\nw-withdraw\\ne-exit\\n')\n",
    "    option=input('choose option')\n",
    "    if option.lower()=='d':\n",
    "        amt=float(input('enter amt'))\n",
    "        c.deposit(amt)\n",
    "    elif option.lower()=='w':\n",
    "        amt=float(input('enter amt'))\n",
    "        c.withdraw(amt)\n",
    "    elif option.lower()=='e':\n",
    "        print('thanks for banking')\n",
    "        sys.exit()\n",
    "    else:\n",
    "        print('choose valid option')"
   ]
  },
  {
   "cell_type": "raw",
   "metadata": {},
   "source": []
  },
  {
   "cell_type": "code",
   "execution_count": null,
   "metadata": {},
   "outputs": [],
   "source": []
  },
  {
   "cell_type": "code",
   "execution_count": null,
   "metadata": {},
   "outputs": [],
   "source": []
  },
  {
   "cell_type": "code",
   "execution_count": null,
   "metadata": {},
   "outputs": [],
   "source": []
  },
  {
   "cell_type": "code",
   "execution_count": null,
   "metadata": {},
   "outputs": [],
   "source": []
  },
  {
   "cell_type": "code",
   "execution_count": null,
   "metadata": {},
   "outputs": [],
   "source": []
  },
  {
   "cell_type": "code",
   "execution_count": null,
   "metadata": {},
   "outputs": [],
   "source": []
  },
  {
   "cell_type": "code",
   "execution_count": null,
   "metadata": {},
   "outputs": [],
   "source": []
  },
  {
   "cell_type": "code",
   "execution_count": null,
   "metadata": {},
   "outputs": [],
   "source": []
  },
  {
   "cell_type": "code",
   "execution_count": null,
   "metadata": {},
   "outputs": [],
   "source": []
  }
 ],
 "metadata": {
  "kernelspec": {
   "display_name": "Python 3",
   "language": "python",
   "name": "python3"
  },
  "language_info": {
   "codemirror_mode": {
    "name": "ipython",
    "version": 3
   },
   "file_extension": ".py",
   "mimetype": "text/x-python",
   "name": "python",
   "nbconvert_exporter": "python",
   "pygments_lexer": "ipython3",
   "version": "3.7.6"
  }
 },
 "nbformat": 4,
 "nbformat_minor": 2
}
