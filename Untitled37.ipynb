{
 "cells": [
  {
   "cell_type": "code",
   "execution_count": 5,
   "metadata": {},
   "outputs": [
    {
     "name": "stdout",
     "output_type": "stream",
     "text": [
      "Starting\n"
     ]
    },
    {
     "ename": "error",
     "evalue": "OpenCV(3.4.5) d:\\build\\opencv\\opencv-3.4.5\\modules\\core\\src\\matrix.cpp:757: error: (-215:Assertion failed) dims <= 2 && step[0] > 0 in function 'cv::Mat::locateROI'\n",
     "output_type": "error",
     "traceback": [
      "\u001b[1;31m---------------------------------------------------------------------------\u001b[0m",
      "\u001b[1;31merror\u001b[0m                                     Traceback (most recent call last)",
      "\u001b[1;32m<ipython-input-5-b57cb41822ba>\u001b[0m in \u001b[0;36m<module>\u001b[1;34m()\u001b[0m\n\u001b[0;32m     25\u001b[0m \u001b[1;31m#averaging filter\u001b[0m\u001b[1;33m\u001b[0m\u001b[1;33m\u001b[0m\u001b[0m\n\u001b[0;32m     26\u001b[0m \u001b[0mkernel\u001b[0m \u001b[1;33m=\u001b[0m \u001b[0mnp\u001b[0m\u001b[1;33m.\u001b[0m\u001b[0mones\u001b[0m\u001b[1;33m(\u001b[0m\u001b[1;33m(\u001b[0m\u001b[1;36m5\u001b[0m\u001b[1;33m,\u001b[0m\u001b[1;36m5\u001b[0m\u001b[1;33m)\u001b[0m\u001b[1;33m,\u001b[0m\u001b[0mnp\u001b[0m\u001b[1;33m.\u001b[0m\u001b[0mfloat32\u001b[0m\u001b[1;33m)\u001b[0m\u001b[1;33m/\u001b[0m\u001b[1;36m9\u001b[0m\u001b[1;33m\u001b[0m\u001b[0m\n\u001b[1;32m---> 27\u001b[1;33m \u001b[0mdst\u001b[0m \u001b[1;33m=\u001b[0m \u001b[0mcv2\u001b[0m\u001b[1;33m.\u001b[0m\u001b[0mfilter2D\u001b[0m\u001b[1;33m(\u001b[0m\u001b[0mbinary\u001b[0m\u001b[1;33m,\u001b[0m\u001b[1;33m-\u001b[0m\u001b[1;36m1\u001b[0m\u001b[1;33m,\u001b[0m\u001b[0mkernel\u001b[0m\u001b[1;33m)\u001b[0m\u001b[1;31m# -1 : depth of the destination image\u001b[0m\u001b[1;33m\u001b[0m\u001b[0m\n\u001b[0m\u001b[0;32m     28\u001b[0m \u001b[1;33m\u001b[0m\u001b[0m\n\u001b[0;32m     29\u001b[0m \u001b[1;33m\u001b[0m\u001b[0m\n",
      "\u001b[1;31merror\u001b[0m: OpenCV(3.4.5) d:\\build\\opencv\\opencv-3.4.5\\modules\\core\\src\\matrix.cpp:757: error: (-215:Assertion failed) dims <= 2 && step[0] > 0 in function 'cv::Mat::locateROI'\n"
     ]
    }
   ],
   "source": [
    "import cv2\n",
    "import numpy as np\n",
    "from matplotlib import pyplot as plt\n",
    "\n",
    "def get_classificaton(ratio):\n",
    "\tratio =round(ratio,1)\n",
    "\ttoret=\"\"\n",
    "\tif(ratio>=3):\n",
    "\t\ttoret=\"Slender\"\n",
    "\telif(ratio>=2.1 and ratio<3):\n",
    "\t\ttoret=\"Medium\"\n",
    "\telif(ratio>=1.1 and ratio<2.1):\n",
    "\t\ttoret=\"Bold\"\n",
    "\telif(ratio<=1):\n",
    "\t\ttoret=\"Round\"\n",
    "\ttoret=\"(\"+toret+\")\"\n",
    "\treturn toret\n",
    "#rnjn\n",
    "print(\"Starting\")\n",
    "img = cv2.imread('rice.png',0)#load in greyscale mode\n",
    "\n",
    "#convert into binary\n",
    "ret,binary = cv2.threshold(img,160,255,cv2.THRESH_BINARY)# 160 - threshold, 255 - value to assign, THRESH_BINARY_INV - Inverse binary\n",
    "\n",
    "#averaging filter\n",
    "kernel = np.ones((5,5),np.float32)/9\n",
    "dst = cv2.filter2D(binary,-1,kernel)# -1 : depth of the destination image\n",
    "\n",
    "\n",
    "kernel2 = cv2.getStructuringElement(cv2.MORPH_ELLIPSE,(3,3))\n",
    "\n",
    "#erosion\n",
    "erosion = cv2.erode(dst,kernel2,iterations = 1)\n",
    "\n",
    "#dilation \n",
    "dilation = cv2.dilate(erosion,kernel2,iterations = 1)\n",
    "\n",
    "#edge detection\n",
    "edges = cv2.Canny(dilation,100,200)\n",
    "\n",
    "### Size detection\n",
    "_,contours,hierarchy = cv2.findContours(erosion, cv2.RETR_EXTERNAL, cv2.CHAIN_APPROX_SIMPLE)\n",
    "print(\"No. of rice grains=\",len(contours))\n",
    "total_ar=0\n",
    "for cnt in contours:\n",
    "\tx,y,w,h = cv2.boundingRect(cnt)\n",
    "\taspect_ratio = float(w)/h\n",
    "\tif(aspect_ratio<1):\n",
    "\t\taspect_ratio=1/aspect_ratio\n",
    "\tprint(round(aspect_ratio,2),get_classificaton(aspect_ratio))\n",
    "\ttotal_ar+=aspect_ratio\n",
    "avg_ar=total_ar/len(contours)\n",
    "print(\"Average Aspect Ratio=\",round(avg_ar,2),get_classificaton(avg_ar))\n",
    "#plot the images\n",
    "imgs_row=2\n",
    "imgs_col=3\n",
    "plt.subplot(imgs_row,imgs_col,1),plt.imshow(img,'gray')\n",
    "plt.title(\"Original image\")\n",
    "\n",
    "plt.subplot(imgs_row,imgs_col,2),plt.imshow(binary,'gray')\n",
    "plt.title(\"Binary image\")\n",
    "\n",
    "plt.subplot(imgs_row,imgs_col,3),plt.imshow(dst,'gray')\n",
    "plt.title(\"Filtered image\")\n",
    "\n",
    "plt.subplot(imgs_row,imgs_col,4),plt.imshow(erosion,'gray')\n",
    "plt.title(\"Eroded image\")\n",
    "\n",
    "plt.subplot(imgs_row,imgs_col,5),plt.imshow(dilation,'gray')\n",
    "plt.title(\"Dialated image\")\n",
    "\n",
    "plt.subplot(imgs_row,imgs_col,6),plt.imshow(edges,'gray')\n",
    "plt.title(\"Edge detect\")\n",
    "\n",
    "plt.show()"
   ]
  },
  {
   "cell_type": "code",
   "execution_count": null,
   "metadata": {},
   "outputs": [],
   "source": []
  }
 ],
 "metadata": {
  "kernelspec": {
   "display_name": "Python 3",
   "language": "python",
   "name": "python3"
  },
  "language_info": {
   "codemirror_mode": {
    "name": "ipython",
    "version": 3
   },
   "file_extension": ".py",
   "mimetype": "text/x-python",
   "name": "python",
   "nbconvert_exporter": "python",
   "pygments_lexer": "ipython3",
   "version": "3.7.0"
  }
 },
 "nbformat": 4,
 "nbformat_minor": 2
}
