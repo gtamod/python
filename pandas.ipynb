{
 "cells": [
  {
   "cell_type": "code",
   "execution_count": 2,
   "metadata": {},
   "outputs": [
    {
     "name": "stdout",
     "output_type": "stream",
     "text": [
      "0    10\n",
      "dtype: int64\n"
     ]
    }
   ],
   "source": [
    "import pandas as pd\n",
    "a=pd.Series(10)\n",
    "print(a)"
   ]
  },
  {
   "cell_type": "code",
   "execution_count": 3,
   "metadata": {},
   "outputs": [
    {
     "name": "stdout",
     "output_type": "stream",
     "text": [
      "0    10\n",
      "1    20\n",
      "2    30\n",
      "dtype: int64\n"
     ]
    }
   ],
   "source": [
    "a=pd.Series([10,20,30])\n",
    "print(a)\n"
   ]
  },
  {
   "cell_type": "code",
   "execution_count": 4,
   "metadata": {},
   "outputs": [
    {
     "name": "stdout",
     "output_type": "stream",
     "text": [
      "1    10\n",
      "2    20\n",
      "3    30\n",
      "dtype: int64\n"
     ]
    }
   ],
   "source": [
    "a=pd.Series([10,20,30],index=[1,2,3])\n",
    "print(a)"
   ]
  },
  {
   "cell_type": "code",
   "execution_count": 5,
   "metadata": {},
   "outputs": [
    {
     "name": "stdout",
     "output_type": "stream",
     "text": [
      "a    10\n",
      "b    20\n",
      "c    30\n",
      "dtype: int64\n"
     ]
    }
   ],
   "source": [
    "a=pd.Series([10,20,30],index=['a','b','c'])\n",
    "print(a)"
   ]
  },
  {
   "cell_type": "code",
   "execution_count": 7,
   "metadata": {},
   "outputs": [
    {
     "name": "stdout",
     "output_type": "stream",
     "text": [
      "0    10.0\n",
      "1    20.0\n",
      "2     NaN\n",
      "dtype: float64\n"
     ]
    }
   ],
   "source": [
    "import numpy as np\n",
    "a=pd.Series([10,20,np.nan])\n",
    "print(a)"
   ]
  },
  {
   "cell_type": "code",
   "execution_count": 8,
   "metadata": {},
   "outputs": [
    {
     "name": "stdout",
     "output_type": "stream",
     "text": [
      "[10, 20, 30, 'shameer']\n",
      "0         10\n",
      "1         20\n",
      "2         30\n",
      "3    shameer\n",
      "dtype: object\n"
     ]
    },
    {
     "data": {
      "text/plain": [
       "pandas.core.series.Series"
      ]
     },
     "execution_count": 8,
     "metadata": {},
     "output_type": "execute_result"
    }
   ],
   "source": [
    "a=[10,20,30,'shameer']\n",
    "print(a)\n",
    "type(a)\n",
    "b=pd.Series(a)\n",
    "print(b)\n",
    "type(b)"
   ]
  },
  {
   "cell_type": "code",
   "execution_count": 10,
   "metadata": {},
   "outputs": [
    {
     "name": "stdout",
     "output_type": "stream",
     "text": [
      "    0\n",
      "0  10\n",
      "1  20\n",
      "2  30\n",
      "3  40\n",
      "4  50\n",
      "5  60\n"
     ]
    },
    {
     "data": {
      "text/plain": [
       "pandas.core.frame.DataFrame"
      ]
     },
     "execution_count": 10,
     "metadata": {},
     "output_type": "execute_result"
    }
   ],
   "source": [
    "a=[10,20,30,40,50,60]\n",
    "df=pd.DataFrame(a)\n",
    "print(df)\n",
    "type(df)"
   ]
  },
  {
   "cell_type": "code",
   "execution_count": 11,
   "metadata": {},
   "outputs": [
    {
     "name": "stdout",
     "output_type": "stream",
     "text": [
      "[['shameer', 99], ['sameer', 100], ['shaik', 98]]\n",
      "         0    1\n",
      "0  shameer   99\n",
      "1   sameer  100\n",
      "2    shaik   98\n"
     ]
    }
   ],
   "source": [
    "a=[['shameer',99],['sameer',100],['shaik',98]]\n",
    "print(a)\n",
    "df=pd.DataFrame(a)\n",
    "print(df)"
   ]
  },
  {
   "cell_type": "code",
   "execution_count": null,
   "metadata": {},
   "outputs": [],
   "source": []
  },
  {
   "cell_type": "code",
   "execution_count": 14,
   "metadata": {},
   "outputs": [
    {
     "name": "stdout",
     "output_type": "stream",
     "text": [
      "[['shameer', 99], ['sameer', 100], ['shaik', 98]]\n",
      "      Name  Marks\n",
      "0  shameer     99\n",
      "1   sameer    100\n",
      "2    shaik     98\n",
      "0    shameer\n",
      "1     sameer\n",
      "2      shaik\n",
      "Name: Name, dtype: object\n"
     ]
    },
    {
     "data": {
      "text/plain": [
       "pandas.core.series.Series"
      ]
     },
     "execution_count": 14,
     "metadata": {},
     "output_type": "execute_result"
    }
   ],
   "source": [
    "a=[['shameer',99],['sameer',100],['shaik',98]]\n",
    "print(a)\n",
    "df=pd.DataFrame(a,columns=['Name','Marks'])\n",
    "print(df)\n",
    "print(df['Name'])\n",
    "b=df['Name']\n",
    "type(b)"
   ]
  },
  {
   "cell_type": "code",
   "execution_count": 16,
   "metadata": {},
   "outputs": [
    {
     "name": "stdout",
     "output_type": "stream",
     "text": [
      "DatetimeIndex(['2019-11-30', '2019-12-31', '2020-01-31', '2020-02-29',\n",
      "               '2020-03-31', '2020-04-30', '2020-05-31', '2020-06-30',\n",
      "               '2020-07-31', '2020-08-31'],\n",
      "              dtype='datetime64[ns]', freq='M')\n"
     ]
    }
   ],
   "source": [
    "#datesrange\n",
    "d=pd.date_range('20191110',periods=10,freq='M')#use D for dates or Y for years\n",
    "print(d)"
   ]
  },
  {
   "cell_type": "code",
   "execution_count": 27,
   "metadata": {},
   "outputs": [
    {
     "name": "stdout",
     "output_type": "stream",
     "text": [
      "[[-0.96407627 -1.51532084  1.58232358 -0.99168184]\n",
      " [-1.13670226 -0.06238361 -2.02823642 -1.12629048]\n",
      " [ 0.58495614  1.29060077  1.0876952   0.81309951]\n",
      " [ 1.36270362  0.53427535 -1.03426756 -1.59724981]\n",
      " [ 0.31628279  0.55689527 -0.6609227  -0.37289685]\n",
      " [ 0.69660036 -0.97145945 -0.03565763 -0.38911629]\n",
      " [-0.77520423 -1.79732994  1.07185267  1.31221099]\n",
      " [-0.32744908 -0.17011265 -0.06277905  0.78749498]\n",
      " [ 0.5034266  -0.34202414 -0.41228666 -1.07334113]\n",
      " [-2.9146894   2.36440818 -1.97871996 -0.71822441]]\n",
      "                   A         B         C         D\n",
      "2019-11-30 -0.964076 -1.515321  1.582324 -0.991682\n",
      "2019-12-31 -1.136702 -0.062384 -2.028236 -1.126290\n",
      "2020-01-31  0.584956  1.290601  1.087695  0.813100\n",
      "2020-02-29  1.362704  0.534275 -1.034268 -1.597250\n",
      "2020-03-31  0.316283  0.556895 -0.660923 -0.372897\n",
      "2020-04-30  0.696600 -0.971459 -0.035658 -0.389116\n",
      "2020-05-31 -0.775204 -1.797330  1.071853  1.312211\n",
      "2020-06-30 -0.327449 -0.170113 -0.062779  0.787495\n",
      "2020-07-31  0.503427 -0.342024 -0.412287 -1.073341\n",
      "2020-08-31 -2.914689  2.364408 -1.978720 -0.718224\n",
      "<class 'pandas.core.frame.DataFrame'>\n",
      "DatetimeIndex: 10 entries, 2019-11-30 to 2020-08-31\n",
      "Freq: M\n",
      "Data columns (total 4 columns):\n",
      "A    10 non-null float64\n",
      "B    10 non-null float64\n",
      "C    10 non-null float64\n",
      "D    10 non-null float64\n",
      "dtypes: float64(4)\n",
      "memory usage: 400.0 bytes\n"
     ]
    },
    {
     "data": {
      "text/html": [
       "<div>\n",
       "<style scoped>\n",
       "    .dataframe tbody tr th:only-of-type {\n",
       "        vertical-align: middle;\n",
       "    }\n",
       "\n",
       "    .dataframe tbody tr th {\n",
       "        vertical-align: top;\n",
       "    }\n",
       "\n",
       "    .dataframe thead th {\n",
       "        text-align: right;\n",
       "    }\n",
       "</style>\n",
       "<table border=\"1\" class=\"dataframe\">\n",
       "  <thead>\n",
       "    <tr style=\"text-align: right;\">\n",
       "      <th></th>\n",
       "      <th>A</th>\n",
       "      <th>B</th>\n",
       "      <th>C</th>\n",
       "      <th>D</th>\n",
       "    </tr>\n",
       "  </thead>\n",
       "  <tbody>\n",
       "    <tr>\n",
       "      <th>2019-11-30</th>\n",
       "      <td>False</td>\n",
       "      <td>False</td>\n",
       "      <td>False</td>\n",
       "      <td>False</td>\n",
       "    </tr>\n",
       "    <tr>\n",
       "      <th>2019-12-31</th>\n",
       "      <td>False</td>\n",
       "      <td>False</td>\n",
       "      <td>False</td>\n",
       "      <td>False</td>\n",
       "    </tr>\n",
       "    <tr>\n",
       "      <th>2020-01-31</th>\n",
       "      <td>False</td>\n",
       "      <td>False</td>\n",
       "      <td>False</td>\n",
       "      <td>False</td>\n",
       "    </tr>\n",
       "    <tr>\n",
       "      <th>2020-02-29</th>\n",
       "      <td>False</td>\n",
       "      <td>False</td>\n",
       "      <td>False</td>\n",
       "      <td>False</td>\n",
       "    </tr>\n",
       "    <tr>\n",
       "      <th>2020-03-31</th>\n",
       "      <td>False</td>\n",
       "      <td>False</td>\n",
       "      <td>False</td>\n",
       "      <td>False</td>\n",
       "    </tr>\n",
       "    <tr>\n",
       "      <th>2020-04-30</th>\n",
       "      <td>False</td>\n",
       "      <td>False</td>\n",
       "      <td>False</td>\n",
       "      <td>False</td>\n",
       "    </tr>\n",
       "    <tr>\n",
       "      <th>2020-05-31</th>\n",
       "      <td>False</td>\n",
       "      <td>False</td>\n",
       "      <td>False</td>\n",
       "      <td>False</td>\n",
       "    </tr>\n",
       "    <tr>\n",
       "      <th>2020-06-30</th>\n",
       "      <td>False</td>\n",
       "      <td>False</td>\n",
       "      <td>False</td>\n",
       "      <td>False</td>\n",
       "    </tr>\n",
       "    <tr>\n",
       "      <th>2020-07-31</th>\n",
       "      <td>False</td>\n",
       "      <td>False</td>\n",
       "      <td>False</td>\n",
       "      <td>False</td>\n",
       "    </tr>\n",
       "    <tr>\n",
       "      <th>2020-08-31</th>\n",
       "      <td>False</td>\n",
       "      <td>False</td>\n",
       "      <td>False</td>\n",
       "      <td>False</td>\n",
       "    </tr>\n",
       "  </tbody>\n",
       "</table>\n",
       "</div>"
      ],
      "text/plain": [
       "                A      B      C      D\n",
       "2019-11-30  False  False  False  False\n",
       "2019-12-31  False  False  False  False\n",
       "2020-01-31  False  False  False  False\n",
       "2020-02-29  False  False  False  False\n",
       "2020-03-31  False  False  False  False\n",
       "2020-04-30  False  False  False  False\n",
       "2020-05-31  False  False  False  False\n",
       "2020-06-30  False  False  False  False\n",
       "2020-07-31  False  False  False  False\n",
       "2020-08-31  False  False  False  False"
      ]
     },
     "execution_count": 27,
     "metadata": {},
     "output_type": "execute_result"
    }
   ],
   "source": [
    "#to print 10 random rows with 4 columns\n",
    "r=np.random.randn(10,4)\n",
    "print(r)\n",
    "df=pd.DataFrame(r,index=d,columns=list('ABCD'))\n",
    "print(df)\n",
    "df.shape\n",
    "df.columns\n",
    "df.info()\n",
    "df.head()#prints first 5 rows\n",
    "df.head(n=2)#first 2 rows\n",
    "df.tail(3)#last 3 rows\n",
    "df.isnull()"
   ]
  },
  {
   "cell_type": "code",
   "execution_count": 32,
   "metadata": {},
   "outputs": [
    {
     "data": {
      "text/html": [
       "<div>\n",
       "<style scoped>\n",
       "    .dataframe tbody tr th:only-of-type {\n",
       "        vertical-align: middle;\n",
       "    }\n",
       "\n",
       "    .dataframe tbody tr th {\n",
       "        vertical-align: top;\n",
       "    }\n",
       "\n",
       "    .dataframe thead th {\n",
       "        text-align: right;\n",
       "    }\n",
       "</style>\n",
       "<table border=\"1\" class=\"dataframe\">\n",
       "  <thead>\n",
       "    <tr style=\"text-align: right;\">\n",
       "      <th></th>\n",
       "      <th>A</th>\n",
       "      <th>B</th>\n",
       "      <th>C</th>\n",
       "      <th>D</th>\n",
       "    </tr>\n",
       "  </thead>\n",
       "  <tbody>\n",
       "    <tr>\n",
       "      <th>A</th>\n",
       "      <td>1.000000</td>\n",
       "      <td>-0.253928</td>\n",
       "      <td>0.255518</td>\n",
       "      <td>-0.268016</td>\n",
       "    </tr>\n",
       "    <tr>\n",
       "      <th>B</th>\n",
       "      <td>-0.253928</td>\n",
       "      <td>1.000000</td>\n",
       "      <td>-0.158365</td>\n",
       "      <td>-0.474357</td>\n",
       "    </tr>\n",
       "    <tr>\n",
       "      <th>C</th>\n",
       "      <td>0.255518</td>\n",
       "      <td>-0.158365</td>\n",
       "      <td>1.000000</td>\n",
       "      <td>0.329357</td>\n",
       "    </tr>\n",
       "    <tr>\n",
       "      <th>D</th>\n",
       "      <td>-0.268016</td>\n",
       "      <td>-0.474357</td>\n",
       "      <td>0.329357</td>\n",
       "      <td>1.000000</td>\n",
       "    </tr>\n",
       "  </tbody>\n",
       "</table>\n",
       "</div>"
      ],
      "text/plain": [
       "          A         B         C         D\n",
       "A  1.000000 -0.253928  0.255518 -0.268016\n",
       "B -0.253928  1.000000 -0.158365 -0.474357\n",
       "C  0.255518 -0.158365  1.000000  0.329357\n",
       "D -0.268016 -0.474357  0.329357  1.000000"
      ]
     },
     "execution_count": 32,
     "metadata": {},
     "output_type": "execute_result"
    }
   ],
   "source": [
    "r=np.random.randn(10,4)\n",
    "df=pd.DataFrame(r,index=d,columns=list('ABCD'))\n",
    "df.dropna(axis=1)\n",
    "df['A'].value_counts()#used to count frequnecy of values\n",
    "df.corr()#used to find corelations"
   ]
  },
  {
   "cell_type": "code",
   "execution_count": null,
   "metadata": {},
   "outputs": [],
   "source": []
  },
  {
   "cell_type": "code",
   "execution_count": 35,
   "metadata": {},
   "outputs": [
    {
     "name": "stdout",
     "output_type": "stream",
     "text": [
      "                   A         B         C         D\n",
      "2019-11-30 -1.378824  0.014081 -0.550593  0.806361\n",
      "2019-12-31  0.633731 -0.319240  0.187846 -2.062936\n",
      "2020-01-31  2.304544 -0.257300 -0.017010 -1.504868\n",
      "2020-02-29  0.405839 -0.720494  0.324471 -0.460957\n",
      "2020-03-31  0.925637 -1.453239  0.031625 -0.160618\n",
      "2020-04-30 -0.282667  0.947918  0.505685 -0.057947\n",
      "2020-05-31 -0.138763  1.327259 -1.498101  0.806627\n",
      "2020-06-30  0.839281 -0.095076 -0.867711 -1.558980\n",
      "2020-07-31 -0.900357 -0.198621 -0.279949  0.354524\n",
      "2020-08-31 -2.875501  1.712131  0.716362  0.268181\n"
     ]
    },
    {
     "data": {
      "text/html": [
       "<div>\n",
       "<style scoped>\n",
       "    .dataframe tbody tr th:only-of-type {\n",
       "        vertical-align: middle;\n",
       "    }\n",
       "\n",
       "    .dataframe tbody tr th {\n",
       "        vertical-align: top;\n",
       "    }\n",
       "\n",
       "    .dataframe thead th {\n",
       "        text-align: right;\n",
       "    }\n",
       "</style>\n",
       "<table border=\"1\" class=\"dataframe\">\n",
       "  <thead>\n",
       "    <tr style=\"text-align: right;\">\n",
       "      <th></th>\n",
       "      <th>A</th>\n",
       "      <th>B</th>\n",
       "      <th>C</th>\n",
       "      <th>D</th>\n",
       "    </tr>\n",
       "  </thead>\n",
       "  <tbody>\n",
       "    <tr>\n",
       "      <th>count</th>\n",
       "      <td>10.000000</td>\n",
       "      <td>10.000000</td>\n",
       "      <td>10.000000</td>\n",
       "      <td>10.000000</td>\n",
       "    </tr>\n",
       "    <tr>\n",
       "      <th>mean</th>\n",
       "      <td>-0.046708</td>\n",
       "      <td>0.095742</td>\n",
       "      <td>-0.144738</td>\n",
       "      <td>-0.357061</td>\n",
       "    </tr>\n",
       "    <tr>\n",
       "      <th>std</th>\n",
       "      <td>1.433569</td>\n",
       "      <td>0.963080</td>\n",
       "      <td>0.673301</td>\n",
       "      <td>1.022846</td>\n",
       "    </tr>\n",
       "    <tr>\n",
       "      <th>min</th>\n",
       "      <td>-2.875501</td>\n",
       "      <td>-1.453239</td>\n",
       "      <td>-1.498101</td>\n",
       "      <td>-2.062936</td>\n",
       "    </tr>\n",
       "    <tr>\n",
       "      <th>25%</th>\n",
       "      <td>-0.745934</td>\n",
       "      <td>-0.303755</td>\n",
       "      <td>-0.482932</td>\n",
       "      <td>-1.243890</td>\n",
       "    </tr>\n",
       "    <tr>\n",
       "      <th>50%</th>\n",
       "      <td>0.133538</td>\n",
       "      <td>-0.146849</td>\n",
       "      <td>0.007308</td>\n",
       "      <td>-0.109282</td>\n",
       "    </tr>\n",
       "    <tr>\n",
       "      <th>75%</th>\n",
       "      <td>0.787894</td>\n",
       "      <td>0.714458</td>\n",
       "      <td>0.290315</td>\n",
       "      <td>0.332938</td>\n",
       "    </tr>\n",
       "    <tr>\n",
       "      <th>max</th>\n",
       "      <td>2.304544</td>\n",
       "      <td>1.712131</td>\n",
       "      <td>0.716362</td>\n",
       "      <td>0.806627</td>\n",
       "    </tr>\n",
       "  </tbody>\n",
       "</table>\n",
       "</div>"
      ],
      "text/plain": [
       "               A          B          C          D\n",
       "count  10.000000  10.000000  10.000000  10.000000\n",
       "mean   -0.046708   0.095742  -0.144738  -0.357061\n",
       "std     1.433569   0.963080   0.673301   1.022846\n",
       "min    -2.875501  -1.453239  -1.498101  -2.062936\n",
       "25%    -0.745934  -0.303755  -0.482932  -1.243890\n",
       "50%     0.133538  -0.146849   0.007308  -0.109282\n",
       "75%     0.787894   0.714458   0.290315   0.332938\n",
       "max     2.304544   1.712131   0.716362   0.806627"
      ]
     },
     "execution_count": 35,
     "metadata": {},
     "output_type": "execute_result"
    }
   ],
   "source": [
    "r=np.random.randn(10,4)\n",
    "df=pd.DataFrame(r,index=d,columns=list('ABCD'))\n",
    "print(df)\n",
    "df.describe()\n",
    "#df.describe(include=['object']) for objects\n",
    "#df.describe(include='all')for all columns"
   ]
  },
  {
   "cell_type": "code",
   "execution_count": 37,
   "metadata": {},
   "outputs": [
    {
     "name": "stdout",
     "output_type": "stream",
     "text": [
      "2019-11-30   -1.378824\n",
      "2019-12-31    0.633731\n",
      "2020-01-31    2.304544\n",
      "2020-02-29    0.405839\n",
      "2020-03-31    0.925637\n",
      "2020-04-30   -0.282667\n",
      "2020-05-31   -0.138763\n",
      "2020-06-30    0.839281\n",
      "2020-07-31   -0.900357\n",
      "2020-08-31   -2.875501\n",
      "Freq: M, Name: A, dtype: float64\n",
      "                   A         B\n",
      "2019-11-30 -1.378824  0.014081\n",
      "2019-12-31  0.633731 -0.319240\n",
      "2020-01-31  2.304544 -0.257300\n",
      "2020-02-29  0.405839 -0.720494\n",
      "2020-03-31  0.925637 -1.453239\n",
      "2020-04-30 -0.282667  0.947918\n",
      "2020-05-31 -0.138763  1.327259\n",
      "2020-06-30  0.839281 -0.095076\n",
      "2020-07-31 -0.900357 -0.198621\n",
      "2020-08-31 -2.875501  1.712131\n"
     ]
    }
   ],
   "source": [
    "#slicing\n",
    "print(df['A'])\n",
    "print(df[['A','B']])#first for selecting columns,second what columns you want to return"
   ]
  },
  {
   "cell_type": "code",
   "execution_count": 39,
   "metadata": {},
   "outputs": [
    {
     "data": {
      "text/html": [
       "<div>\n",
       "<style scoped>\n",
       "    .dataframe tbody tr th:only-of-type {\n",
       "        vertical-align: middle;\n",
       "    }\n",
       "\n",
       "    .dataframe tbody tr th {\n",
       "        vertical-align: top;\n",
       "    }\n",
       "\n",
       "    .dataframe thead th {\n",
       "        text-align: right;\n",
       "    }\n",
       "</style>\n",
       "<table border=\"1\" class=\"dataframe\">\n",
       "  <thead>\n",
       "    <tr style=\"text-align: right;\">\n",
       "      <th></th>\n",
       "      <th>A</th>\n",
       "      <th>B</th>\n",
       "      <th>C</th>\n",
       "      <th>D</th>\n",
       "    </tr>\n",
       "  </thead>\n",
       "  <tbody>\n",
       "    <tr>\n",
       "      <th>2019-11-30</th>\n",
       "      <td>-1.378824</td>\n",
       "      <td>0.014081</td>\n",
       "      <td>-0.550593</td>\n",
       "      <td>0.806361</td>\n",
       "    </tr>\n",
       "    <tr>\n",
       "      <th>2019-12-31</th>\n",
       "      <td>0.633731</td>\n",
       "      <td>-0.319240</td>\n",
       "      <td>0.187846</td>\n",
       "      <td>-2.062936</td>\n",
       "    </tr>\n",
       "    <tr>\n",
       "      <th>2020-01-31</th>\n",
       "      <td>2.304544</td>\n",
       "      <td>-0.257300</td>\n",
       "      <td>-0.017010</td>\n",
       "      <td>-1.504868</td>\n",
       "    </tr>\n",
       "  </tbody>\n",
       "</table>\n",
       "</div>"
      ],
      "text/plain": [
       "                   A         B         C         D\n",
       "2019-11-30 -1.378824  0.014081 -0.550593  0.806361\n",
       "2019-12-31  0.633731 -0.319240  0.187846 -2.062936\n",
       "2020-01-31  2.304544 -0.257300 -0.017010 -1.504868"
      ]
     },
     "execution_count": 39,
     "metadata": {},
     "output_type": "execute_result"
    }
   ],
   "source": [
    "df[0:3]#only row"
   ]
  },
  {
   "cell_type": "code",
   "execution_count": 45,
   "metadata": {},
   "outputs": [
    {
     "name": "stdout",
     "output_type": "stream",
     "text": [
      "                   A         B         C         D\n",
      "2019-11-30 -1.378824  0.014081 -0.550593  0.806361\n",
      "2019-12-31  0.633731 -0.319240  0.187846 -2.062936\n",
      "2020-01-31  2.304544 -0.257300 -0.017010 -1.504868\n",
      "2020-02-29  0.405839 -0.720494  0.324471 -0.460957\n",
      "2020-03-31  0.925637 -1.453239  0.031625 -0.160618\n",
      "2020-04-30 -0.282667  0.947918  0.505685 -0.057947\n",
      "2020-05-31 -0.138763  1.327259 -1.498101  0.806627\n",
      "2020-06-30  0.839281 -0.095076 -0.867711 -1.558980\n",
      "2020-07-31 -0.900357 -0.198621 -0.279949  0.354524\n",
      "2020-08-31 -2.875501  1.712131  0.716362  0.268181\n"
     ]
    },
    {
     "data": {
      "text/plain": [
       "A   -1.378824\n",
       "B    0.014081\n",
       "Name: 2019-11-30 00:00:00, dtype: float64"
      ]
     },
     "execution_count": 45,
     "metadata": {},
     "output_type": "execute_result"
    }
   ],
   "source": [
    "#df.loc[row,col]access data based on name of column\n",
    "#df.iloc[row,col]access data based on index\n",
    "print(df)\n",
    "df.loc['2019-11-30','A']\n",
    "df.loc['2019-11-30',['A','B']]"
   ]
  },
  {
   "cell_type": "code",
   "execution_count": 48,
   "metadata": {},
   "outputs": [
    {
     "name": "stdout",
     "output_type": "stream",
     "text": [
      "                   A         B         C         D\n",
      "2019-11-30 -1.378824  0.014081 -0.550593  0.806361\n",
      "2019-12-31  0.633731 -0.319240  0.187846 -2.062936\n",
      "2020-01-31  2.304544 -0.257300 -0.017010 -1.504868\n",
      "2020-02-29  0.405839 -0.720494  0.324471 -0.460957\n",
      "2020-03-31  0.925637 -1.453239  0.031625 -0.160618\n",
      "2020-04-30 -0.282667  0.947918  0.505685 -0.057947\n",
      "2020-05-31 -0.138763  1.327259 -1.498101  0.806627\n",
      "2020-06-30  0.839281 -0.095076 -0.867711 -1.558980\n",
      "2020-07-31 -0.900357 -0.198621 -0.279949  0.354524\n",
      "2020-08-31 -2.875501  1.712131  0.716362  0.268181\n"
     ]
    },
    {
     "data": {
      "text/html": [
       "<div>\n",
       "<style scoped>\n",
       "    .dataframe tbody tr th:only-of-type {\n",
       "        vertical-align: middle;\n",
       "    }\n",
       "\n",
       "    .dataframe tbody tr th {\n",
       "        vertical-align: top;\n",
       "    }\n",
       "\n",
       "    .dataframe thead th {\n",
       "        text-align: right;\n",
       "    }\n",
       "</style>\n",
       "<table border=\"1\" class=\"dataframe\">\n",
       "  <thead>\n",
       "    <tr style=\"text-align: right;\">\n",
       "      <th></th>\n",
       "      <th>A</th>\n",
       "      <th>B</th>\n",
       "    </tr>\n",
       "  </thead>\n",
       "  <tbody>\n",
       "    <tr>\n",
       "      <th>2019-11-30</th>\n",
       "      <td>-1.378824</td>\n",
       "      <td>0.014081</td>\n",
       "    </tr>\n",
       "    <tr>\n",
       "      <th>2019-12-31</th>\n",
       "      <td>0.633731</td>\n",
       "      <td>-0.319240</td>\n",
       "    </tr>\n",
       "    <tr>\n",
       "      <th>2020-01-31</th>\n",
       "      <td>2.304544</td>\n",
       "      <td>-0.257300</td>\n",
       "    </tr>\n",
       "    <tr>\n",
       "      <th>2020-02-29</th>\n",
       "      <td>0.405839</td>\n",
       "      <td>-0.720494</td>\n",
       "    </tr>\n",
       "    <tr>\n",
       "      <th>2020-03-31</th>\n",
       "      <td>0.925637</td>\n",
       "      <td>-1.453239</td>\n",
       "    </tr>\n",
       "    <tr>\n",
       "      <th>2020-04-30</th>\n",
       "      <td>-0.282667</td>\n",
       "      <td>0.947918</td>\n",
       "    </tr>\n",
       "  </tbody>\n",
       "</table>\n",
       "</div>"
      ],
      "text/plain": [
       "                   A         B\n",
       "2019-11-30 -1.378824  0.014081\n",
       "2019-12-31  0.633731 -0.319240\n",
       "2020-01-31  2.304544 -0.257300\n",
       "2020-02-29  0.405839 -0.720494\n",
       "2020-03-31  0.925637 -1.453239\n",
       "2020-04-30 -0.282667  0.947918"
      ]
     },
     "execution_count": 48,
     "metadata": {},
     "output_type": "execute_result"
    }
   ],
   "source": [
    "print(df)\n",
    "df.iloc[0,0:2]#same as the above example but in iloc.\n",
    "df.iloc[0:6,0:2]"
   ]
  },
  {
   "cell_type": "code",
   "execution_count": 53,
   "metadata": {},
   "outputs": [
    {
     "name": "stdout",
     "output_type": "stream",
     "text": [
      "                   A         B         C         D\n",
      "2019-11-30 -1.378824  0.014081 -0.550593  0.806361\n",
      "2019-12-31  0.633731 -0.319240  0.187846 -2.062936\n",
      "2020-01-31  2.304544 -0.257300 -0.017010 -1.504868\n",
      "2020-02-29  0.405839 -0.720494  0.324471 -0.460957\n",
      "2020-03-31  0.925637 -1.453239  0.031625 -0.160618\n",
      "2020-04-30 -0.282667  0.947918  0.505685 -0.057947\n",
      "2020-05-31 -0.138763  1.327259 -1.498101  0.806627\n",
      "2020-06-30  0.839281 -0.095076 -0.867711 -1.558980\n",
      "2020-07-31 -0.900357 -0.198621 -0.279949  0.354524\n",
      "2020-08-31 -2.875501  1.712131  0.716362  0.268181\n"
     ]
    },
    {
     "data": {
      "text/html": [
       "<div>\n",
       "<style scoped>\n",
       "    .dataframe tbody tr th:only-of-type {\n",
       "        vertical-align: middle;\n",
       "    }\n",
       "\n",
       "    .dataframe tbody tr th {\n",
       "        vertical-align: top;\n",
       "    }\n",
       "\n",
       "    .dataframe thead th {\n",
       "        text-align: right;\n",
       "    }\n",
       "</style>\n",
       "<table border=\"1\" class=\"dataframe\">\n",
       "  <thead>\n",
       "    <tr style=\"text-align: right;\">\n",
       "      <th></th>\n",
       "      <th>A</th>\n",
       "      <th>B</th>\n",
       "    </tr>\n",
       "  </thead>\n",
       "  <tbody>\n",
       "    <tr>\n",
       "      <th>2019-11-30</th>\n",
       "      <td>-1.378824</td>\n",
       "      <td>0.014081</td>\n",
       "    </tr>\n",
       "    <tr>\n",
       "      <th>2020-01-31</th>\n",
       "      <td>2.304544</td>\n",
       "      <td>-0.257300</td>\n",
       "    </tr>\n",
       "    <tr>\n",
       "      <th>2020-03-31</th>\n",
       "      <td>0.925637</td>\n",
       "      <td>-1.453239</td>\n",
       "    </tr>\n",
       "    <tr>\n",
       "      <th>2020-05-31</th>\n",
       "      <td>-0.138763</td>\n",
       "      <td>1.327259</td>\n",
       "    </tr>\n",
       "  </tbody>\n",
       "</table>\n",
       "</div>"
      ],
      "text/plain": [
       "                   A         B\n",
       "2019-11-30 -1.378824  0.014081\n",
       "2020-01-31  2.304544 -0.257300\n",
       "2020-03-31  0.925637 -1.453239\n",
       "2020-05-31 -0.138763  1.327259"
      ]
     },
     "execution_count": 53,
     "metadata": {},
     "output_type": "execute_result"
    }
   ],
   "source": [
    "print(df)\n",
    "df.iloc[[0,2,4,6],0:2]"
   ]
  },
  {
   "cell_type": "code",
   "execution_count": 56,
   "metadata": {},
   "outputs": [
    {
     "name": "stdout",
     "output_type": "stream",
     "text": [
      "                   A         B         C         D\n",
      "2019-11-30 -1.378824  0.014081 -0.550593  0.806361\n",
      "2019-12-31  0.633731 -0.319240  0.187846 -2.062936\n",
      "2020-01-31  2.304544 -0.257300 -0.017010 -1.504868\n",
      "2020-02-29  0.405839 -0.720494  0.324471 -0.460957\n",
      "2020-03-31  0.925637 -1.453239  0.031625 -0.160618\n",
      "2020-04-30 -0.282667  0.947918  0.505685 -0.057947\n",
      "2020-05-31 -0.138763  1.327259 -1.498101  0.806627\n",
      "2020-06-30  0.839281 -0.095076 -0.867711 -1.558980\n",
      "2020-07-31 -0.900357 -0.198621 -0.279949  0.354524\n",
      "2020-08-31 -2.875501  1.712131  0.716362  0.268181\n"
     ]
    },
    {
     "data": {
      "text/html": [
       "<div>\n",
       "<style scoped>\n",
       "    .dataframe tbody tr th:only-of-type {\n",
       "        vertical-align: middle;\n",
       "    }\n",
       "\n",
       "    .dataframe tbody tr th {\n",
       "        vertical-align: top;\n",
       "    }\n",
       "\n",
       "    .dataframe thead th {\n",
       "        text-align: right;\n",
       "    }\n",
       "</style>\n",
       "<table border=\"1\" class=\"dataframe\">\n",
       "  <thead>\n",
       "    <tr style=\"text-align: right;\">\n",
       "      <th></th>\n",
       "      <th>A</th>\n",
       "      <th>B</th>\n",
       "    </tr>\n",
       "  </thead>\n",
       "  <tbody>\n",
       "    <tr>\n",
       "      <th>2019-11-30</th>\n",
       "      <td>-1.378824</td>\n",
       "      <td>0.014081</td>\n",
       "    </tr>\n",
       "    <tr>\n",
       "      <th>2020-01-31</th>\n",
       "      <td>2.304544</td>\n",
       "      <td>-0.257300</td>\n",
       "    </tr>\n",
       "    <tr>\n",
       "      <th>2020-03-31</th>\n",
       "      <td>0.925637</td>\n",
       "      <td>-1.453239</td>\n",
       "    </tr>\n",
       "    <tr>\n",
       "      <th>2020-05-31</th>\n",
       "      <td>-0.138763</td>\n",
       "      <td>1.327259</td>\n",
       "    </tr>\n",
       "  </tbody>\n",
       "</table>\n",
       "</div>"
      ],
      "text/plain": [
       "                   A         B\n",
       "2019-11-30 -1.378824  0.014081\n",
       "2020-01-31  2.304544 -0.257300\n",
       "2020-03-31  0.925637 -1.453239\n",
       "2020-05-31 -0.138763  1.327259"
      ]
     },
     "execution_count": 56,
     "metadata": {},
     "output_type": "execute_result"
    }
   ],
   "source": [
    "print(df)\n",
    "df.iloc[0:7:2,0:2]#same as the above example but different syntax."
   ]
  },
  {
   "cell_type": "code",
   "execution_count": 59,
   "metadata": {},
   "outputs": [
    {
     "data": {
      "text/html": [
       "<div>\n",
       "<style scoped>\n",
       "    .dataframe tbody tr th:only-of-type {\n",
       "        vertical-align: middle;\n",
       "    }\n",
       "\n",
       "    .dataframe tbody tr th {\n",
       "        vertical-align: top;\n",
       "    }\n",
       "\n",
       "    .dataframe thead th {\n",
       "        text-align: right;\n",
       "    }\n",
       "</style>\n",
       "<table border=\"1\" class=\"dataframe\">\n",
       "  <thead>\n",
       "    <tr style=\"text-align: right;\">\n",
       "      <th></th>\n",
       "      <th>D</th>\n",
       "      <th>C</th>\n",
       "    </tr>\n",
       "  </thead>\n",
       "  <tbody>\n",
       "    <tr>\n",
       "      <th>2019-11-30</th>\n",
       "      <td>0.806361</td>\n",
       "      <td>-0.550593</td>\n",
       "    </tr>\n",
       "    <tr>\n",
       "      <th>2019-12-31</th>\n",
       "      <td>-2.062936</td>\n",
       "      <td>0.187846</td>\n",
       "    </tr>\n",
       "    <tr>\n",
       "      <th>2020-01-31</th>\n",
       "      <td>-1.504868</td>\n",
       "      <td>-0.017010</td>\n",
       "    </tr>\n",
       "    <tr>\n",
       "      <th>2020-02-29</th>\n",
       "      <td>-0.460957</td>\n",
       "      <td>0.324471</td>\n",
       "    </tr>\n",
       "  </tbody>\n",
       "</table>\n",
       "</div>"
      ],
      "text/plain": [
       "                   D         C\n",
       "2019-11-30  0.806361 -0.550593\n",
       "2019-12-31 -2.062936  0.187846\n",
       "2020-01-31 -1.504868 -0.017010\n",
       "2020-02-29 -0.460957  0.324471"
      ]
     },
     "execution_count": 59,
     "metadata": {},
     "output_type": "execute_result"
    }
   ],
   "source": [
    "#shifting column positions.\n",
    "df.iloc[0:4,-1:-3:-1]"
   ]
  },
  {
   "cell_type": "code",
   "execution_count": 62,
   "metadata": {},
   "outputs": [
    {
     "name": "stdout",
     "output_type": "stream",
     "text": [
      "                   A         B         C         D\n",
      "2019-11-30 -1.378824  0.014081 -0.550593  0.806361\n",
      "2019-12-31  0.633731 -0.319240  0.187846 -2.062936\n",
      "2020-01-31  2.304544 -0.257300 -0.017010 -1.504868\n",
      "2020-02-29  0.405839 -0.720494  0.324471 -0.460957\n",
      "2020-03-31  0.925637 -1.453239  0.031625 -0.160618\n",
      "2020-04-30 -0.282667  0.947918  0.505685 -0.057947\n",
      "2020-05-31 -0.138763  1.327259 -1.498101  0.806627\n",
      "2020-06-30  0.839281 -0.095076 -0.867711 -1.558980\n",
      "2020-07-31 -0.900357 -0.198621 -0.279949  0.354524\n",
      "2020-08-31 -2.875501  1.712131  0.716362  0.268181\n"
     ]
    },
    {
     "data": {
      "text/html": [
       "<div>\n",
       "<style scoped>\n",
       "    .dataframe tbody tr th:only-of-type {\n",
       "        vertical-align: middle;\n",
       "    }\n",
       "\n",
       "    .dataframe tbody tr th {\n",
       "        vertical-align: top;\n",
       "    }\n",
       "\n",
       "    .dataframe thead th {\n",
       "        text-align: right;\n",
       "    }\n",
       "</style>\n",
       "<table border=\"1\" class=\"dataframe\">\n",
       "  <thead>\n",
       "    <tr style=\"text-align: right;\">\n",
       "      <th></th>\n",
       "      <th>D</th>\n",
       "      <th>B</th>\n",
       "    </tr>\n",
       "  </thead>\n",
       "  <tbody>\n",
       "    <tr>\n",
       "      <th>2019-11-30</th>\n",
       "      <td>0.806361</td>\n",
       "      <td>0.014081</td>\n",
       "    </tr>\n",
       "    <tr>\n",
       "      <th>2020-01-31</th>\n",
       "      <td>-1.504868</td>\n",
       "      <td>-0.257300</td>\n",
       "    </tr>\n",
       "    <tr>\n",
       "      <th>2020-03-31</th>\n",
       "      <td>-0.160618</td>\n",
       "      <td>-1.453239</td>\n",
       "    </tr>\n",
       "    <tr>\n",
       "      <th>2020-05-31</th>\n",
       "      <td>0.806627</td>\n",
       "      <td>1.327259</td>\n",
       "    </tr>\n",
       "  </tbody>\n",
       "</table>\n",
       "</div>"
      ],
      "text/plain": [
       "                   D         B\n",
       "2019-11-30  0.806361  0.014081\n",
       "2020-01-31 -1.504868 -0.257300\n",
       "2020-03-31 -0.160618 -1.453239\n",
       "2020-05-31  0.806627  1.327259"
      ]
     },
     "execution_count": 62,
     "metadata": {},
     "output_type": "execute_result"
    }
   ],
   "source": [
    "print(df)\n",
    "df.iloc[[0,2,4,6],-1:-4:-2]#0:7:1 for rows."
   ]
  },
  {
   "cell_type": "code",
   "execution_count": 66,
   "metadata": {},
   "outputs": [
    {
     "data": {
      "text/html": [
       "<div>\n",
       "<style scoped>\n",
       "    .dataframe tbody tr th:only-of-type {\n",
       "        vertical-align: middle;\n",
       "    }\n",
       "\n",
       "    .dataframe tbody tr th {\n",
       "        vertical-align: top;\n",
       "    }\n",
       "\n",
       "    .dataframe thead th {\n",
       "        text-align: right;\n",
       "    }\n",
       "</style>\n",
       "<table border=\"1\" class=\"dataframe\">\n",
       "  <thead>\n",
       "    <tr style=\"text-align: right;\">\n",
       "      <th></th>\n",
       "      <th>C</th>\n",
       "      <th>A</th>\n",
       "    </tr>\n",
       "  </thead>\n",
       "  <tbody>\n",
       "    <tr>\n",
       "      <th>2020-08-31</th>\n",
       "      <td>0.716362</td>\n",
       "      <td>-2.875501</td>\n",
       "    </tr>\n",
       "    <tr>\n",
       "      <th>2020-05-31</th>\n",
       "      <td>-1.498101</td>\n",
       "      <td>-0.138763</td>\n",
       "    </tr>\n",
       "    <tr>\n",
       "      <th>2020-02-29</th>\n",
       "      <td>0.324471</td>\n",
       "      <td>0.405839</td>\n",
       "    </tr>\n",
       "    <tr>\n",
       "      <th>2019-11-30</th>\n",
       "      <td>-0.550593</td>\n",
       "      <td>-1.378824</td>\n",
       "    </tr>\n",
       "  </tbody>\n",
       "</table>\n",
       "</div>"
      ],
      "text/plain": [
       "                   C         A\n",
       "2020-08-31  0.716362 -2.875501\n",
       "2020-05-31 -1.498101 -0.138763\n",
       "2020-02-29  0.324471  0.405839\n",
       "2019-11-30 -0.550593 -1.378824"
      ]
     },
     "execution_count": 66,
     "metadata": {},
     "output_type": "execute_result"
    }
   ],
   "source": [
    "df.iloc[-1::-3,-2::-2]"
   ]
  },
  {
   "cell_type": "code",
   "execution_count": null,
   "metadata": {},
   "outputs": [],
   "source": [
    "\n"
   ]
  },
  {
   "cell_type": "code",
   "execution_count": null,
   "metadata": {},
   "outputs": [],
   "source": []
  },
  {
   "cell_type": "code",
   "execution_count": null,
   "metadata": {},
   "outputs": [],
   "source": []
  },
  {
   "cell_type": "code",
   "execution_count": null,
   "metadata": {},
   "outputs": [],
   "source": []
  },
  {
   "cell_type": "code",
   "execution_count": 7,
   "metadata": {},
   "outputs": [
    {
     "name": "stdout",
     "output_type": "stream",
     "text": [
      "DatetimeIndex(['2019-11-30', '2019-12-31', '2020-01-31', '2020-02-29',\n",
      "               '2020-03-31', '2020-04-30', '2020-05-31', '2020-06-30',\n",
      "               '2020-07-31', '2020-08-31'],\n",
      "              dtype='datetime64[ns]', freq='M')\n"
     ]
    }
   ],
   "source": [
    "#datesrange\n",
    "d=pd.date_range('20191110',periods=10,freq='M')#use D for dates or Y for years\n",
    "print(d)"
   ]
  },
  {
   "cell_type": "code",
   "execution_count": null,
   "metadata": {},
   "outputs": [],
   "source": []
  },
  {
   "cell_type": "code",
   "execution_count": 9,
   "metadata": {},
   "outputs": [
    {
     "name": "stdout",
     "output_type": "stream",
     "text": [
      "           A         B         C         D\n",
      "1  -0.612529 -0.313135  0.376761 -2.408592\n",
      "2  -0.724487 -0.465134 -3.199392  0.160767\n",
      "3   0.998033  0.953816  0.369975 -1.177517\n",
      "4  -0.705436 -0.475004 -0.081031  0.351190\n",
      "5   0.379229 -0.147398  0.460576 -0.773897\n",
      "6  -0.008633  0.645594  1.118993  0.340057\n",
      "7  -1.109713  0.324385 -2.931635  0.058735\n",
      "8   0.693268  0.588925 -0.866617 -0.598441\n",
      "9  -0.516157  0.393409  0.065959  1.656924\n",
      "10 -0.649422  0.112474  0.177456 -0.173276\n",
      "           B         C\n",
      "1  -0.313135  0.376761\n",
      "2  -0.465134 -3.199392\n",
      "3   0.953816  0.369975\n",
      "4  -0.475004 -0.081031\n",
      "5  -0.147398  0.460576\n",
      "6   0.645594  1.118993\n",
      "7   0.324385 -2.931635\n",
      "8   0.588925 -0.866617\n",
      "9   0.393409  0.065959\n",
      "10  0.112474  0.177456\n"
     ]
    }
   ],
   "source": [
    "import numpy as np\n",
    "import pandas as pd\n",
    "r=np.random.randn(10,4)\n",
    "x=[1,2,3,4,5,6,7,8,9,10]\n",
    "df=pd.DataFrame(r,index=x,columns=list('ABCD'))\n",
    "print(df)\n",
    "y=df.drop(columns=['A','D'])\n",
    "print(y)"
   ]
  },
  {
   "cell_type": "code",
   "execution_count": 12,
   "metadata": {},
   "outputs": [
    {
     "name": "stdout",
     "output_type": "stream",
     "text": [
      "      Name  Age\n",
      "0  shameer   21\n",
      "1   sameer   20\n",
      "2     moin   24\n",
      "3   humera   27\n",
      "    Name  Age\n",
      "4  rohit   20\n",
      "5  aadil   21\n",
      "6  yonus   22\n",
      "7   deva   23\n"
     ]
    }
   ],
   "source": [
    "a=pd.DataFrame({'Name':['shameer','sameer','moin','humera'],'Age':[21,20,24,27]})\n",
    "b=pd.DataFrame({'Name':['rohit','aadil','yonus','deva'],'Age':[20,21,22,23]},index=[4,5,6,7])\n",
    "print(a)\n",
    "print(b)"
   ]
  },
  {
   "cell_type": "code",
   "execution_count": 13,
   "metadata": {},
   "outputs": [
    {
     "name": "stdout",
     "output_type": "stream",
     "text": [
      "      Name  Age\n",
      "0  shameer   21\n",
      "1   sameer   20\n",
      "2     moin   24\n",
      "3   humera   27\n",
      "4    rohit   20\n",
      "5    aadil   21\n",
      "6    yonus   22\n",
      "7     deva   23\n"
     ]
    }
   ],
   "source": [
    "ab=pd.concat([a,b])\n",
    "print(ab)"
   ]
  },
  {
   "cell_type": "code",
   "execution_count": 14,
   "metadata": {},
   "outputs": [
    {
     "data": {
      "text/plain": [
       "0    shameer\n",
       "1     sameer\n",
       "2       moin\n",
       "3     humera\n",
       "4      rohit\n",
       "5      aadil\n",
       "6      yonus\n",
       "7       deva\n",
       "Name: Name, dtype: object"
      ]
     },
     "execution_count": 14,
     "metadata": {},
     "output_type": "execute_result"
    }
   ],
   "source": [
    "ab['Name']"
   ]
  },
  {
   "cell_type": "code",
   "execution_count": 15,
   "metadata": {},
   "outputs": [
    {
     "data": {
      "text/plain": [
       "0     True\n",
       "1    False\n",
       "2    False\n",
       "3    False\n",
       "4    False\n",
       "5    False\n",
       "6    False\n",
       "7    False\n",
       "Name: Name, dtype: bool"
      ]
     },
     "execution_count": 15,
     "metadata": {},
     "output_type": "execute_result"
    }
   ],
   "source": [
    "ab['Name']=='shameer'"
   ]
  },
  {
   "cell_type": "code",
   "execution_count": 16,
   "metadata": {},
   "outputs": [
    {
     "data": {
      "text/html": [
       "<div>\n",
       "<style scoped>\n",
       "    .dataframe tbody tr th:only-of-type {\n",
       "        vertical-align: middle;\n",
       "    }\n",
       "\n",
       "    .dataframe tbody tr th {\n",
       "        vertical-align: top;\n",
       "    }\n",
       "\n",
       "    .dataframe thead th {\n",
       "        text-align: right;\n",
       "    }\n",
       "</style>\n",
       "<table border=\"1\" class=\"dataframe\">\n",
       "  <thead>\n",
       "    <tr style=\"text-align: right;\">\n",
       "      <th></th>\n",
       "      <th>Name</th>\n",
       "      <th>Age</th>\n",
       "    </tr>\n",
       "  </thead>\n",
       "  <tbody>\n",
       "    <tr>\n",
       "      <th>0</th>\n",
       "      <td>shameer</td>\n",
       "      <td>21</td>\n",
       "    </tr>\n",
       "  </tbody>\n",
       "</table>\n",
       "</div>"
      ],
      "text/plain": [
       "      Name  Age\n",
       "0  shameer   21"
      ]
     },
     "execution_count": 16,
     "metadata": {},
     "output_type": "execute_result"
    }
   ],
   "source": [
    "ab[ab['Name']=='shameer']"
   ]
  },
  {
   "cell_type": "code",
   "execution_count": 17,
   "metadata": {},
   "outputs": [
    {
     "data": {
      "text/html": [
       "<div>\n",
       "<style scoped>\n",
       "    .dataframe tbody tr th:only-of-type {\n",
       "        vertical-align: middle;\n",
       "    }\n",
       "\n",
       "    .dataframe tbody tr th {\n",
       "        vertical-align: top;\n",
       "    }\n",
       "\n",
       "    .dataframe thead th {\n",
       "        text-align: right;\n",
       "    }\n",
       "</style>\n",
       "<table border=\"1\" class=\"dataframe\">\n",
       "  <thead>\n",
       "    <tr style=\"text-align: right;\">\n",
       "      <th></th>\n",
       "      <th>Name</th>\n",
       "      <th>Age</th>\n",
       "    </tr>\n",
       "  </thead>\n",
       "  <tbody>\n",
       "    <tr>\n",
       "      <th>0</th>\n",
       "      <td>shameer</td>\n",
       "      <td>21</td>\n",
       "    </tr>\n",
       "    <tr>\n",
       "      <th>1</th>\n",
       "      <td>sameer</td>\n",
       "      <td>20</td>\n",
       "    </tr>\n",
       "    <tr>\n",
       "      <th>2</th>\n",
       "      <td>moin</td>\n",
       "      <td>24</td>\n",
       "    </tr>\n",
       "    <tr>\n",
       "      <th>3</th>\n",
       "      <td>humera</td>\n",
       "      <td>27</td>\n",
       "    </tr>\n",
       "    <tr>\n",
       "      <th>4</th>\n",
       "      <td>rohit</td>\n",
       "      <td>20</td>\n",
       "    </tr>\n",
       "    <tr>\n",
       "      <th>5</th>\n",
       "      <td>aadil</td>\n",
       "      <td>21</td>\n",
       "    </tr>\n",
       "    <tr>\n",
       "      <th>6</th>\n",
       "      <td>yonus</td>\n",
       "      <td>22</td>\n",
       "    </tr>\n",
       "    <tr>\n",
       "      <th>7</th>\n",
       "      <td>deva</td>\n",
       "      <td>23</td>\n",
       "    </tr>\n",
       "  </tbody>\n",
       "</table>\n",
       "</div>"
      ],
      "text/plain": [
       "      Name  Age\n",
       "0  shameer   21\n",
       "1   sameer   20\n",
       "2     moin   24\n",
       "3   humera   27\n",
       "4    rohit   20\n",
       "5    aadil   21\n",
       "6    yonus   22\n",
       "7     deva   23"
      ]
     },
     "execution_count": 17,
     "metadata": {},
     "output_type": "execute_result"
    }
   ],
   "source": [
    "#drop_duplicates() used to drop duplicates\n",
    "ab.drop_duplicates('Name')"
   ]
  },
  {
   "cell_type": "code",
   "execution_count": 18,
   "metadata": {},
   "outputs": [
    {
     "data": {
      "text/html": [
       "<div>\n",
       "<style scoped>\n",
       "    .dataframe tbody tr th:only-of-type {\n",
       "        vertical-align: middle;\n",
       "    }\n",
       "\n",
       "    .dataframe tbody tr th {\n",
       "        vertical-align: top;\n",
       "    }\n",
       "\n",
       "    .dataframe thead th {\n",
       "        text-align: right;\n",
       "    }\n",
       "</style>\n",
       "<table border=\"1\" class=\"dataframe\">\n",
       "  <thead>\n",
       "    <tr style=\"text-align: right;\">\n",
       "      <th></th>\n",
       "      <th>Name</th>\n",
       "      <th>Age</th>\n",
       "    </tr>\n",
       "  </thead>\n",
       "  <tbody>\n",
       "    <tr>\n",
       "      <th>1</th>\n",
       "      <td>sameer</td>\n",
       "      <td>20</td>\n",
       "    </tr>\n",
       "    <tr>\n",
       "      <th>4</th>\n",
       "      <td>rohit</td>\n",
       "      <td>20</td>\n",
       "    </tr>\n",
       "    <tr>\n",
       "      <th>0</th>\n",
       "      <td>shameer</td>\n",
       "      <td>21</td>\n",
       "    </tr>\n",
       "    <tr>\n",
       "      <th>5</th>\n",
       "      <td>aadil</td>\n",
       "      <td>21</td>\n",
       "    </tr>\n",
       "    <tr>\n",
       "      <th>6</th>\n",
       "      <td>yonus</td>\n",
       "      <td>22</td>\n",
       "    </tr>\n",
       "    <tr>\n",
       "      <th>7</th>\n",
       "      <td>deva</td>\n",
       "      <td>23</td>\n",
       "    </tr>\n",
       "    <tr>\n",
       "      <th>2</th>\n",
       "      <td>moin</td>\n",
       "      <td>24</td>\n",
       "    </tr>\n",
       "    <tr>\n",
       "      <th>3</th>\n",
       "      <td>humera</td>\n",
       "      <td>27</td>\n",
       "    </tr>\n",
       "  </tbody>\n",
       "</table>\n",
       "</div>"
      ],
      "text/plain": [
       "      Name  Age\n",
       "1   sameer   20\n",
       "4    rohit   20\n",
       "0  shameer   21\n",
       "5    aadil   21\n",
       "6    yonus   22\n",
       "7     deva   23\n",
       "2     moin   24\n",
       "3   humera   27"
      ]
     },
     "execution_count": 18,
     "metadata": {},
     "output_type": "execute_result"
    }
   ],
   "source": [
    "ab.sort_values('Age')#sorting"
   ]
  },
  {
   "cell_type": "code",
   "execution_count": 19,
   "metadata": {},
   "outputs": [
    {
     "data": {
      "text/html": [
       "<div>\n",
       "<style scoped>\n",
       "    .dataframe tbody tr th:only-of-type {\n",
       "        vertical-align: middle;\n",
       "    }\n",
       "\n",
       "    .dataframe tbody tr th {\n",
       "        vertical-align: top;\n",
       "    }\n",
       "\n",
       "    .dataframe thead th {\n",
       "        text-align: right;\n",
       "    }\n",
       "</style>\n",
       "<table border=\"1\" class=\"dataframe\">\n",
       "  <thead>\n",
       "    <tr style=\"text-align: right;\">\n",
       "      <th></th>\n",
       "      <th>emp_name</th>\n",
       "      <th>emp_age</th>\n",
       "    </tr>\n",
       "  </thead>\n",
       "  <tbody>\n",
       "    <tr>\n",
       "      <th>0</th>\n",
       "      <td>shameer</td>\n",
       "      <td>21</td>\n",
       "    </tr>\n",
       "    <tr>\n",
       "      <th>1</th>\n",
       "      <td>sameer</td>\n",
       "      <td>20</td>\n",
       "    </tr>\n",
       "    <tr>\n",
       "      <th>2</th>\n",
       "      <td>moin</td>\n",
       "      <td>24</td>\n",
       "    </tr>\n",
       "    <tr>\n",
       "      <th>3</th>\n",
       "      <td>humera</td>\n",
       "      <td>27</td>\n",
       "    </tr>\n",
       "    <tr>\n",
       "      <th>4</th>\n",
       "      <td>rohit</td>\n",
       "      <td>20</td>\n",
       "    </tr>\n",
       "    <tr>\n",
       "      <th>5</th>\n",
       "      <td>aadil</td>\n",
       "      <td>21</td>\n",
       "    </tr>\n",
       "    <tr>\n",
       "      <th>6</th>\n",
       "      <td>yonus</td>\n",
       "      <td>22</td>\n",
       "    </tr>\n",
       "    <tr>\n",
       "      <th>7</th>\n",
       "      <td>deva</td>\n",
       "      <td>23</td>\n",
       "    </tr>\n",
       "  </tbody>\n",
       "</table>\n",
       "</div>"
      ],
      "text/plain": [
       "  emp_name  emp_age\n",
       "0  shameer       21\n",
       "1   sameer       20\n",
       "2     moin       24\n",
       "3   humera       27\n",
       "4    rohit       20\n",
       "5    aadil       21\n",
       "6    yonus       22\n",
       "7     deva       23"
      ]
     },
     "execution_count": 19,
     "metadata": {},
     "output_type": "execute_result"
    }
   ],
   "source": [
    "ab.rename(columns={'Name':'emp_name','Age':'emp_age'})"
   ]
  },
  {
   "cell_type": "code",
   "execution_count": 21,
   "metadata": {},
   "outputs": [
    {
     "data": {
      "text/html": [
       "<div>\n",
       "<style scoped>\n",
       "    .dataframe tbody tr th:only-of-type {\n",
       "        vertical-align: middle;\n",
       "    }\n",
       "\n",
       "    .dataframe tbody tr th {\n",
       "        vertical-align: top;\n",
       "    }\n",
       "\n",
       "    .dataframe thead th {\n",
       "        text-align: right;\n",
       "    }\n",
       "</style>\n",
       "<table border=\"1\" class=\"dataframe\">\n",
       "  <thead>\n",
       "    <tr style=\"text-align: right;\">\n",
       "      <th></th>\n",
       "      <th>Age</th>\n",
       "    </tr>\n",
       "  </thead>\n",
       "  <tbody>\n",
       "    <tr>\n",
       "      <th>count</th>\n",
       "      <td>8.00000</td>\n",
       "    </tr>\n",
       "    <tr>\n",
       "      <th>mean</th>\n",
       "      <td>22.25000</td>\n",
       "    </tr>\n",
       "    <tr>\n",
       "      <th>std</th>\n",
       "      <td>2.37547</td>\n",
       "    </tr>\n",
       "    <tr>\n",
       "      <th>min</th>\n",
       "      <td>20.00000</td>\n",
       "    </tr>\n",
       "    <tr>\n",
       "      <th>25%</th>\n",
       "      <td>20.75000</td>\n",
       "    </tr>\n",
       "    <tr>\n",
       "      <th>50%</th>\n",
       "      <td>21.50000</td>\n",
       "    </tr>\n",
       "    <tr>\n",
       "      <th>75%</th>\n",
       "      <td>23.25000</td>\n",
       "    </tr>\n",
       "    <tr>\n",
       "      <th>max</th>\n",
       "      <td>27.00000</td>\n",
       "    </tr>\n",
       "  </tbody>\n",
       "</table>\n",
       "</div>"
      ],
      "text/plain": [
       "            Age\n",
       "count   8.00000\n",
       "mean   22.25000\n",
       "std     2.37547\n",
       "min    20.00000\n",
       "25%    20.75000\n",
       "50%    21.50000\n",
       "75%    23.25000\n",
       "max    27.00000"
      ]
     },
     "execution_count": 21,
     "metadata": {},
     "output_type": "execute_result"
    }
   ],
   "source": [
    "ab.describe()"
   ]
  },
  {
   "cell_type": "code",
   "execution_count": 22,
   "metadata": {},
   "outputs": [
    {
     "data": {
      "text/plain": [
       "20"
      ]
     },
     "execution_count": 22,
     "metadata": {},
     "output_type": "execute_result"
    }
   ],
   "source": [
    "ab['Age'].min()"
   ]
  },
  {
   "cell_type": "code",
   "execution_count": 27,
   "metadata": {},
   "outputs": [
    {
     "name": "stdout",
     "output_type": "stream",
     "text": [
      "      name address     contact\n",
      "0  shameer     hyd  9030015898\n",
      "1   sameer    bang  8555939547\n",
      "2     moin  mumbai  8143470656\n",
      "3   humera     usa  9908129839\n",
      "      name     course   fee\n",
      "0  shameer        cse  1000\n",
      "1   sameer  analytics  2000\n",
      "2     moin         DS  3000\n",
      "3   humera         IT  4000\n"
     ]
    }
   ],
   "source": [
    "#pd.merge(left,right,how,on,left_on,right_on)\n",
    "student_details=pd.DataFrame({'name':['shameer','sameer','moin','humera'],'address':['hyd','bang','mumbai','usa'],'contact':[9030015898,8555939547,8143470656,9908129839]})\n",
    "print(student_details)\n",
    "course_details=pd.DataFrame([['shameer','cse',1000],['sameer','analytics',2000],['moin','DS',3000],['humera','IT',4000]],columns=['name','course','fee'])\n",
    "print(course_details)"
   ]
  },
  {
   "cell_type": "code",
   "execution_count": 38,
   "metadata": {},
   "outputs": [
    {
     "data": {
      "text/html": [
       "<div>\n",
       "<style scoped>\n",
       "    .dataframe tbody tr th:only-of-type {\n",
       "        vertical-align: middle;\n",
       "    }\n",
       "\n",
       "    .dataframe tbody tr th {\n",
       "        vertical-align: top;\n",
       "    }\n",
       "\n",
       "    .dataframe thead th {\n",
       "        text-align: right;\n",
       "    }\n",
       "</style>\n",
       "<table border=\"1\" class=\"dataframe\">\n",
       "  <thead>\n",
       "    <tr style=\"text-align: right;\">\n",
       "      <th></th>\n",
       "      <th>name</th>\n",
       "      <th>address</th>\n",
       "      <th>contact</th>\n",
       "      <th>course</th>\n",
       "      <th>fee</th>\n",
       "    </tr>\n",
       "  </thead>\n",
       "  <tbody>\n",
       "    <tr>\n",
       "      <th>0</th>\n",
       "      <td>shameer</td>\n",
       "      <td>hyd</td>\n",
       "      <td>9030015898</td>\n",
       "      <td>cse</td>\n",
       "      <td>1000</td>\n",
       "    </tr>\n",
       "    <tr>\n",
       "      <th>1</th>\n",
       "      <td>sameer</td>\n",
       "      <td>bang</td>\n",
       "      <td>8555939547</td>\n",
       "      <td>analytics</td>\n",
       "      <td>2000</td>\n",
       "    </tr>\n",
       "    <tr>\n",
       "      <th>2</th>\n",
       "      <td>moin</td>\n",
       "      <td>mumbai</td>\n",
       "      <td>8143470656</td>\n",
       "      <td>DS</td>\n",
       "      <td>3000</td>\n",
       "    </tr>\n",
       "    <tr>\n",
       "      <th>3</th>\n",
       "      <td>humera</td>\n",
       "      <td>usa</td>\n",
       "      <td>9908129839</td>\n",
       "      <td>IT</td>\n",
       "      <td>4000</td>\n",
       "    </tr>\n",
       "  </tbody>\n",
       "</table>\n",
       "</div>"
      ],
      "text/plain": [
       "      name address     contact     course   fee\n",
       "0  shameer     hyd  9030015898        cse  1000\n",
       "1   sameer    bang  8555939547  analytics  2000\n",
       "2     moin  mumbai  8143470656         DS  3000\n",
       "3   humera     usa  9908129839         IT  4000"
      ]
     },
     "execution_count": 38,
     "metadata": {},
     "output_type": "execute_result"
    }
   ],
   "source": [
    "pd.merge(student_details,course_details,on='name')#how='inner' its default."
   ]
  },
  {
   "cell_type": "code",
   "execution_count": 40,
   "metadata": {},
   "outputs": [
    {
     "name": "stdout",
     "output_type": "stream",
     "text": [
      "       sname address     contact\n",
      "0    shameer     hyd  9030015898\n",
      "1     sameer    bang  8555939547\n",
      "2  moinuddin  mumbai  8143470656\n",
      "3     humera     usa  9908129839\n"
     ]
    }
   ],
   "source": [
    "student_details=student_details.rename(columns={'name':'sname'})\n",
    "print(student_details)\n",
    "student_details.iloc[2,0]='moinuddin'#very important."
   ]
  },
  {
   "cell_type": "code",
   "execution_count": null,
   "metadata": {},
   "outputs": [],
   "source": []
  },
  {
   "cell_type": "code",
   "execution_count": 42,
   "metadata": {},
   "outputs": [
    {
     "data": {
      "text/html": [
       "<div>\n",
       "<style scoped>\n",
       "    .dataframe tbody tr th:only-of-type {\n",
       "        vertical-align: middle;\n",
       "    }\n",
       "\n",
       "    .dataframe tbody tr th {\n",
       "        vertical-align: top;\n",
       "    }\n",
       "\n",
       "    .dataframe thead th {\n",
       "        text-align: right;\n",
       "    }\n",
       "</style>\n",
       "<table border=\"1\" class=\"dataframe\">\n",
       "  <thead>\n",
       "    <tr style=\"text-align: right;\">\n",
       "      <th></th>\n",
       "      <th>sname</th>\n",
       "      <th>address</th>\n",
       "      <th>contact</th>\n",
       "      <th>name</th>\n",
       "      <th>course</th>\n",
       "      <th>fee</th>\n",
       "    </tr>\n",
       "  </thead>\n",
       "  <tbody>\n",
       "    <tr>\n",
       "      <th>0</th>\n",
       "      <td>shameer</td>\n",
       "      <td>hyd</td>\n",
       "      <td>9030015898</td>\n",
       "      <td>shameer</td>\n",
       "      <td>cse</td>\n",
       "      <td>1000</td>\n",
       "    </tr>\n",
       "    <tr>\n",
       "      <th>1</th>\n",
       "      <td>sameer</td>\n",
       "      <td>bang</td>\n",
       "      <td>8555939547</td>\n",
       "      <td>sameer</td>\n",
       "      <td>analytics</td>\n",
       "      <td>2000</td>\n",
       "    </tr>\n",
       "    <tr>\n",
       "      <th>2</th>\n",
       "      <td>humera</td>\n",
       "      <td>usa</td>\n",
       "      <td>9908129839</td>\n",
       "      <td>humera</td>\n",
       "      <td>IT</td>\n",
       "      <td>4000</td>\n",
       "    </tr>\n",
       "  </tbody>\n",
       "</table>\n",
       "</div>"
      ],
      "text/plain": [
       "     sname address     contact     name     course   fee\n",
       "0  shameer     hyd  9030015898  shameer        cse  1000\n",
       "1   sameer    bang  8555939547   sameer  analytics  2000\n",
       "2   humera     usa  9908129839   humera         IT  4000"
      ]
     },
     "execution_count": 42,
     "metadata": {},
     "output_type": "execute_result"
    }
   ],
   "source": [
    "pd.merge(student_details,course_details,left_on='sname',right_on='name',how='inner')#when columns are different"
   ]
  },
  {
   "cell_type": "code",
   "execution_count": 43,
   "metadata": {},
   "outputs": [
    {
     "name": "stdout",
     "output_type": "stream",
     "text": [
      "0                       shameer\n",
      "1                    9030015898\n",
      "2    Shaikshameer7579@hmail.com\n",
      "3                         shaiK\n",
      "dtype: object\n"
     ]
    }
   ],
   "source": [
    "f=pd.Series(['shameer',9030015898,'Shaikshameer7579@hmail.com','shaiK'])\n",
    "print(f)"
   ]
  },
  {
   "cell_type": "code",
   "execution_count": 44,
   "metadata": {},
   "outputs": [
    {
     "data": {
      "text/plain": [
       "0     True\n",
       "1      NaN\n",
       "2    False\n",
       "3    False\n",
       "dtype: object"
      ]
     },
     "execution_count": 44,
     "metadata": {},
     "output_type": "execute_result"
    }
   ],
   "source": [
    "f.str.islower()"
   ]
  },
  {
   "cell_type": "code",
   "execution_count": 45,
   "metadata": {},
   "outputs": [
    {
     "data": {
      "text/plain": [
       "0    False\n",
       "1      NaN\n",
       "2    False\n",
       "3    False\n",
       "dtype: object"
      ]
     },
     "execution_count": 45,
     "metadata": {},
     "output_type": "execute_result"
    }
   ],
   "source": [
    "f.str.isupper()"
   ]
  },
  {
   "cell_type": "code",
   "execution_count": 47,
   "metadata": {},
   "outputs": [
    {
     "data": {
      "text/plain": [
       "0    False\n",
       "1      NaN\n",
       "2    False\n",
       "3    False\n",
       "dtype: object"
      ]
     },
     "execution_count": 47,
     "metadata": {},
     "output_type": "execute_result"
    }
   ],
   "source": [
    "f.str.isnumeric()"
   ]
  },
  {
   "cell_type": "code",
   "execution_count": 48,
   "metadata": {},
   "outputs": [
    {
     "data": {
      "text/plain": [
       "0                       shameer\n",
       "1                           NaN\n",
       "2    shaikshameer7579@hmail.com\n",
       "3                         shaik\n",
       "dtype: object"
      ]
     },
     "execution_count": 48,
     "metadata": {},
     "output_type": "execute_result"
    }
   ],
   "source": [
    "f.str.lower()"
   ]
  },
  {
   "cell_type": "code",
   "execution_count": 49,
   "metadata": {},
   "outputs": [
    {
     "data": {
      "text/plain": [
       "0                       SHAMEER\n",
       "1                           NaN\n",
       "2    SHAIKSHAMEER7579@HMAIL.COM\n",
       "3                         SHAIK\n",
       "dtype: object"
      ]
     },
     "execution_count": 49,
     "metadata": {},
     "output_type": "execute_result"
    }
   ],
   "source": [
    "f.str.upper()"
   ]
  },
  {
   "cell_type": "code",
   "execution_count": 50,
   "metadata": {},
   "outputs": [
    {
     "data": {
      "text/plain": [
       "0     7.0\n",
       "1     NaN\n",
       "2    26.0\n",
       "3     5.0\n",
       "dtype: float64"
      ]
     },
     "execution_count": 50,
     "metadata": {},
     "output_type": "execute_result"
    }
   ],
   "source": [
    "f.str.len()"
   ]
  },
  {
   "cell_type": "code",
   "execution_count": 53,
   "metadata": {},
   "outputs": [
    {
     "data": {
      "text/plain": [
       "0                       shameer\n",
       "1                           NaN\n",
       "2    Shaikshameer7579$hmail.com\n",
       "3                         shaiK\n",
       "dtype: object"
      ]
     },
     "execution_count": 53,
     "metadata": {},
     "output_type": "execute_result"
    }
   ],
   "source": [
    "f.str.replace('@','$')"
   ]
  },
  {
   "cell_type": "code",
   "execution_count": 54,
   "metadata": {},
   "outputs": [
    {
     "data": {
      "text/plain": [
       "0                                       shameershameer\n",
       "1                                                  NaN\n",
       "2    Shaikshameer7579@hmail.comShaikshameer7579@hma...\n",
       "3                                           shaiKshaiK\n",
       "dtype: object"
      ]
     },
     "execution_count": 54,
     "metadata": {},
     "output_type": "execute_result"
    }
   ],
   "source": [
    "f.str.repeat(2)"
   ]
  },
  {
   "cell_type": "code",
   "execution_count": 56,
   "metadata": {},
   "outputs": [
    {
     "data": {
      "text/plain": [
       "0    1.0\n",
       "1    NaN\n",
       "2    1.0\n",
       "3    1.0\n",
       "dtype: float64"
      ]
     },
     "execution_count": 56,
     "metadata": {},
     "output_type": "execute_result"
    }
   ],
   "source": [
    "f.str.count('s')"
   ]
  },
  {
   "cell_type": "code",
   "execution_count": null,
   "metadata": {},
   "outputs": [],
   "source": []
  },
  {
   "cell_type": "code",
   "execution_count": 2,
   "metadata": {},
   "outputs": [
    {
     "name": "stdout",
     "output_type": "stream",
     "text": [
      "           A         B         C         D\n",
      "1   0.265974  1.534898  0.036981 -0.354358\n",
      "2   0.428361 -0.320470 -0.680100  0.699915\n",
      "3  -1.727380 -1.169634  0.112630  1.090364\n",
      "4  -0.395233  0.239717  0.739624 -0.871047\n",
      "5   0.916529  0.628726 -0.025570  0.124685\n",
      "6  -0.624548  0.586714  1.614916  0.523255\n",
      "7   0.358076 -0.352267 -0.197870 -0.684019\n",
      "8  -0.134421 -1.040982 -0.421211  1.589752\n",
      "9   1.533052  1.410474 -0.956229 -1.126900\n",
      "10  0.840335 -0.116580  1.362422 -0.334666\n"
     ]
    }
   ],
   "source": [
    "import numpy as np\n",
    "import pandas as pd\n",
    "r=np.random.randn(10,4)\n",
    "x=[1,2,3,4,5,6,7,8,9,10]\n",
    "df=pd.DataFrame(r,index=x,columns=list('ABCD'))\n",
    "print(df)\n"
   ]
  },
  {
   "cell_type": "code",
   "execution_count": 3,
   "metadata": {},
   "outputs": [
    {
     "data": {
      "text/html": [
       "<div>\n",
       "<style scoped>\n",
       "    .dataframe tbody tr th:only-of-type {\n",
       "        vertical-align: middle;\n",
       "    }\n",
       "\n",
       "    .dataframe tbody tr th {\n",
       "        vertical-align: top;\n",
       "    }\n",
       "\n",
       "    .dataframe thead th {\n",
       "        text-align: right;\n",
       "    }\n",
       "</style>\n",
       "<table border=\"1\" class=\"dataframe\">\n",
       "  <thead>\n",
       "    <tr style=\"text-align: right;\">\n",
       "      <th></th>\n",
       "      <th>A</th>\n",
       "      <th>B</th>\n",
       "      <th>C</th>\n",
       "      <th>D</th>\n",
       "    </tr>\n",
       "  </thead>\n",
       "  <tbody>\n",
       "    <tr>\n",
       "      <th>1</th>\n",
       "      <td>10.265974</td>\n",
       "      <td>11.534898</td>\n",
       "      <td>10.036981</td>\n",
       "      <td>9.645642</td>\n",
       "    </tr>\n",
       "    <tr>\n",
       "      <th>2</th>\n",
       "      <td>10.428361</td>\n",
       "      <td>9.679530</td>\n",
       "      <td>9.319900</td>\n",
       "      <td>10.699915</td>\n",
       "    </tr>\n",
       "    <tr>\n",
       "      <th>3</th>\n",
       "      <td>8.272620</td>\n",
       "      <td>8.830366</td>\n",
       "      <td>10.112630</td>\n",
       "      <td>11.090364</td>\n",
       "    </tr>\n",
       "    <tr>\n",
       "      <th>4</th>\n",
       "      <td>9.604767</td>\n",
       "      <td>10.239717</td>\n",
       "      <td>10.739624</td>\n",
       "      <td>9.128953</td>\n",
       "    </tr>\n",
       "    <tr>\n",
       "      <th>5</th>\n",
       "      <td>10.916529</td>\n",
       "      <td>10.628726</td>\n",
       "      <td>9.974430</td>\n",
       "      <td>10.124685</td>\n",
       "    </tr>\n",
       "    <tr>\n",
       "      <th>6</th>\n",
       "      <td>9.375452</td>\n",
       "      <td>10.586714</td>\n",
       "      <td>11.614916</td>\n",
       "      <td>10.523255</td>\n",
       "    </tr>\n",
       "    <tr>\n",
       "      <th>7</th>\n",
       "      <td>10.358076</td>\n",
       "      <td>9.647733</td>\n",
       "      <td>9.802130</td>\n",
       "      <td>9.315981</td>\n",
       "    </tr>\n",
       "    <tr>\n",
       "      <th>8</th>\n",
       "      <td>9.865579</td>\n",
       "      <td>8.959018</td>\n",
       "      <td>9.578789</td>\n",
       "      <td>11.589752</td>\n",
       "    </tr>\n",
       "    <tr>\n",
       "      <th>9</th>\n",
       "      <td>11.533052</td>\n",
       "      <td>11.410474</td>\n",
       "      <td>9.043771</td>\n",
       "      <td>8.873100</td>\n",
       "    </tr>\n",
       "    <tr>\n",
       "      <th>10</th>\n",
       "      <td>10.840335</td>\n",
       "      <td>9.883420</td>\n",
       "      <td>11.362422</td>\n",
       "      <td>9.665334</td>\n",
       "    </tr>\n",
       "  </tbody>\n",
       "</table>\n",
       "</div>"
      ],
      "text/plain": [
       "            A          B          C          D\n",
       "1   10.265974  11.534898  10.036981   9.645642\n",
       "2   10.428361   9.679530   9.319900  10.699915\n",
       "3    8.272620   8.830366  10.112630  11.090364\n",
       "4    9.604767  10.239717  10.739624   9.128953\n",
       "5   10.916529  10.628726   9.974430  10.124685\n",
       "6    9.375452  10.586714  11.614916  10.523255\n",
       "7   10.358076   9.647733   9.802130   9.315981\n",
       "8    9.865579   8.959018   9.578789  11.589752\n",
       "9   11.533052  11.410474   9.043771   8.873100\n",
       "10  10.840335   9.883420  11.362422   9.665334"
      ]
     },
     "execution_count": 3,
     "metadata": {},
     "output_type": "execute_result"
    }
   ],
   "source": [
    "def add(a,b):\n",
    "    return a+b\n",
    "df.pipe(add,10)"
   ]
  },
  {
   "cell_type": "code",
   "execution_count": 4,
   "metadata": {},
   "outputs": [
    {
     "data": {
      "text/plain": [
       "A    <class 'pandas.core.series.Series'>\n",
       "B    <class 'pandas.core.series.Series'>\n",
       "C    <class 'pandas.core.series.Series'>\n",
       "D    <class 'pandas.core.series.Series'>\n",
       "dtype: object"
      ]
     },
     "execution_count": 4,
     "metadata": {},
     "output_type": "execute_result"
    }
   ],
   "source": [
    "df.apply(type)"
   ]
  },
  {
   "cell_type": "code",
   "execution_count": 5,
   "metadata": {},
   "outputs": [
    {
     "data": {
      "text/plain": [
       "A    0.146075\n",
       "B    0.140060\n",
       "C    0.158559\n",
       "D    0.065698\n",
       "dtype: float64"
      ]
     },
     "execution_count": 5,
     "metadata": {},
     "output_type": "execute_result"
    }
   ],
   "source": [
    "df.apply(np.mean)"
   ]
  },
  {
   "cell_type": "code",
   "execution_count": 6,
   "metadata": {},
   "outputs": [
    {
     "data": {
      "text/plain": [
       "1     0.370874\n",
       "2     0.031927\n",
       "3    -0.423505\n",
       "4    -0.071735\n",
       "5     0.411093\n",
       "6     0.525084\n",
       "7    -0.219020\n",
       "8    -0.001716\n",
       "9     0.215099\n",
       "10    0.437878\n",
       "dtype: float64"
      ]
     },
     "execution_count": 6,
     "metadata": {},
     "output_type": "execute_result"
    }
   ],
   "source": [
    "df.apply(np.mean,axis=1)"
   ]
  },
  {
   "cell_type": "code",
   "execution_count": 7,
   "metadata": {},
   "outputs": [
    {
     "data": {
      "text/plain": [
       "1     <class 'pandas.core.series.Series'>\n",
       "2     <class 'pandas.core.series.Series'>\n",
       "3     <class 'pandas.core.series.Series'>\n",
       "4     <class 'pandas.core.series.Series'>\n",
       "5     <class 'pandas.core.series.Series'>\n",
       "6     <class 'pandas.core.series.Series'>\n",
       "7     <class 'pandas.core.series.Series'>\n",
       "8     <class 'pandas.core.series.Series'>\n",
       "9     <class 'pandas.core.series.Series'>\n",
       "10    <class 'pandas.core.series.Series'>\n",
       "dtype: object"
      ]
     },
     "execution_count": 7,
     "metadata": {},
     "output_type": "execute_result"
    }
   ],
   "source": [
    "df.apply(type,axis=1)"
   ]
  },
  {
   "cell_type": "code",
   "execution_count": 9,
   "metadata": {},
   "outputs": [
    {
     "data": {
      "text/plain": [
       "'C:\\\\Users\\\\DELL'"
      ]
     },
     "execution_count": 9,
     "metadata": {},
     "output_type": "execute_result"
    }
   ],
   "source": [
    "import os\n",
    "os.getcwd()#os.chdir can be used to change path."
   ]
  },
  {
   "cell_type": "code",
   "execution_count": 13,
   "metadata": {},
   "outputs": [
    {
     "data": {
      "text/plain": [
       "'E:\\\\datafiles'"
      ]
     },
     "execution_count": 13,
     "metadata": {},
     "output_type": "execute_result"
    }
   ],
   "source": [
    "import os\n",
    "os.getcwd()\n",
    "os.chdir('E:\\\\datafiles')\n",
    "os.getcwd()\n"
   ]
  },
  {
   "cell_type": "code",
   "execution_count": 14,
   "metadata": {},
   "outputs": [
    {
     "name": "stdout",
     "output_type": "stream",
     "text": [
      "   eid     name     designation         doj    sal\n",
      "0    1   sreenu  data scientist  01-02-2018   1000\n",
      "1    2     vasu    data analyst  20-05-2018   2000\n",
      "2    3    nivas       developer  14-08-2017   3000\n",
      "3    4    reddy         testing  05-01-2016   4000\n",
      "4    5      sai    ml developer  03-04-2000   5000\n",
      "5    6  nandini    bi developer  05-05-2014   6000\n",
      "6    7      nag  data scientist  06-08-2015   7000\n",
      "7    8     rama    data analyst  09-06-2013   8000\n",
      "8    9     sita    ml developer  06-08-2017   9000\n",
      "9   10    geeta    data analyst  02-02-2020  10000\n"
     ]
    }
   ],
   "source": [
    "emp=pd.read_csv('data.csv')\n",
    "print(emp)"
   ]
  },
  {
   "cell_type": "code",
   "execution_count": 15,
   "metadata": {},
   "outputs": [
    {
     "name": "stdout",
     "output_type": "stream",
     "text": [
      "   eid     name     designation         doj    sal\n",
      "0    1   sreenu  data scientist  01-02-2018   1000\n",
      "1    2     vasu    data analyst  20-05-2018   2000\n",
      "2    3    nivas       developer  14-08-2017   3000\n",
      "3    4    reddy         testing  05-01-2016   4000\n",
      "4    5      sai    ml developer  03-04-2000   5000\n",
      "5    6  nandini    bi developer  05-05-2014   6000\n",
      "6    7      nag  data scientist  06-08-2015   7000\n",
      "7    8     rama    data analyst  09-06-2013   8000\n",
      "8    9     sita    ml developer  06-08-2017   9000\n",
      "9   10    geeta    data analyst  02-02-2020  10000\n"
     ]
    }
   ],
   "source": [
    "em=pd.read_csv('E:/datafiles/data.csv')\n",
    "print(em)"
   ]
  },
  {
   "cell_type": "markdown",
   "metadata": {},
   "source": [
    "emp.shape\n",
    "emp.columns\n",
    "emp.dtypes"
   ]
  },
  {
   "cell_type": "code",
   "execution_count": 16,
   "metadata": {},
   "outputs": [
    {
     "data": {
      "text/plain": [
       "(10, 5)"
      ]
     },
     "execution_count": 16,
     "metadata": {},
     "output_type": "execute_result"
    }
   ],
   "source": [
    "emp.shape\n"
   ]
  },
  {
   "cell_type": "code",
   "execution_count": 17,
   "metadata": {},
   "outputs": [
    {
     "data": {
      "text/plain": [
       "Index(['eid', 'name', 'designation', 'doj', 'sal'], dtype='object')"
      ]
     },
     "execution_count": 17,
     "metadata": {},
     "output_type": "execute_result"
    }
   ],
   "source": [
    "emp.columns"
   ]
  },
  {
   "cell_type": "code",
   "execution_count": 18,
   "metadata": {},
   "outputs": [
    {
     "data": {
      "text/plain": [
       "eid             int64\n",
       "name           object\n",
       "designation    object\n",
       "doj            object\n",
       "sal             int64\n",
       "dtype: object"
      ]
     },
     "execution_count": 18,
     "metadata": {},
     "output_type": "execute_result"
    }
   ],
   "source": [
    "emp.dtypes"
   ]
  },
  {
   "cell_type": "code",
   "execution_count": 19,
   "metadata": {},
   "outputs": [
    {
     "name": "stdout",
     "output_type": "stream",
     "text": [
      "    1   sreenu  data scientist  01-02-2018   1000\n",
      "0   2     vasu    data analyst  20-05-2018   2000\n",
      "1   3    nivas       developer  14-08-2017   3000\n",
      "2   4    reddy         testing  05-01-2016   4000\n",
      "3   5      sai    ml developer  03-04-2000   5000\n",
      "4   6  nandini    bi developer  05-05-2014   6000\n",
      "5   7      nag  data scientist  06-08-2015   7000\n",
      "6   8     rama    data analyst  09-06-2013   8000\n",
      "7   9     sita    ml developer  06-08-2017   9000\n",
      "8  10    geeta    data analyst  02-02-2020  10000\n"
     ]
    }
   ],
   "source": [
    "e=pd.read_csv('E:/datafiles/data.csv',header=1)#header\n",
    "print(e)"
   ]
  },
  {
   "cell_type": "code",
   "execution_count": 21,
   "metadata": {},
   "outputs": [
    {
     "name": "stdout",
     "output_type": "stream",
     "text": [
      "   eid    ename    edesignation        edoj   esal\n",
      "0    1   sreenu  data scientist  01-02-2018   1000\n",
      "1    2     vasu    data analyst  20-05-2018   2000\n",
      "2    3    nivas       developer  14-08-2017   3000\n",
      "3    4    reddy         testing  05-01-2016   4000\n",
      "4    5      sai    ml developer  03-04-2000   5000\n",
      "5    6  nandini    bi developer  05-05-2014   6000\n",
      "6    7      nag  data scientist  06-08-2015   7000\n",
      "7    8     rama    data analyst  09-06-2013   8000\n",
      "8    9     sita    ml developer  06-08-2017   9000\n",
      "9   10    geeta    data analyst  02-02-2020  10000\n"
     ]
    }
   ],
   "source": [
    "emp=pd.read_csv('E:/datafiles/data.csv',skiprows=1,names=['eid','ename','edesignation','edoj','esal'])\n",
    "print(emp)"
   ]
  },
  {
   "cell_type": "code",
   "execution_count": 13,
   "metadata": {},
   "outputs": [
    {
     "name": "stdout",
     "output_type": "stream",
     "text": [
      "    0        1               2           3      4\n",
      "0   4    reddy         testing  05-01-2016   4000\n",
      "1   5      sai    ml developer  03-04-2000   5000\n",
      "2   6  nandini    bi developer  05-05-2014   6000\n",
      "3   7      nag  data scientist  06-08-2015   7000\n",
      "4   8     rama    data analyst  09-06-2013   8000\n",
      "5   9     sita    ml developer  06-08-2017   9000\n",
      "6  10    geeta    data analyst  02-02-2020  10000\n"
     ]
    }
   ],
   "source": [
    "y=pd.read_csv('E:/datafiles/data.csv',skiprows=4,header=None)#when we take skiprows=1 the heading is gone when we take [1] then first row is gone \n",
    "print(y)"
   ]
  },
  {
   "cell_type": "code",
   "execution_count": null,
   "metadata": {},
   "outputs": [],
   "source": []
  },
  {
   "cell_type": "code",
   "execution_count": 32,
   "metadata": {},
   "outputs": [
    {
     "name": "stdout",
     "output_type": "stream",
     "text": [
      "   column0  column1         column2     column3  column4\n",
      "0        4    reddy         testing  05-01-2016     4000\n",
      "1        5      sai    ml developer  03-04-2000     5000\n",
      "2        6  nandini    bi developer  05-05-2014     6000\n",
      "3        7      nag  data scientist  06-08-2015     7000\n",
      "4        8     rama    data analyst  09-06-2013     8000\n",
      "5        9     sita    ml developer  06-08-2017     9000\n",
      "6       10    geeta    data analyst  02-02-2020    10000\n"
     ]
    }
   ],
   "source": [
    "y=pd.read_csv('E:/datafiles/data.csv',skiprows=4,header=None,prefix='column') #sep=';' can be used.\n",
    "print(y)#can also use y.head() for complex data."
   ]
  },
  {
   "cell_type": "code",
   "execution_count": 35,
   "metadata": {},
   "outputs": [
    {
     "name": "stdout",
     "output_type": "stream",
     "text": [
      "Tokenization took: 0.00 ms\n",
      "Type conversion took: 0.00 ms\n",
      "Parser memory cleanup took: 0.00 ms\n"
     ]
    },
    {
     "data": {
      "text/plain": [
       "eid              int64\n",
       "name            object\n",
       "designation     object\n",
       "doj             object\n",
       "sal            float64\n",
       "dtype: object"
      ]
     },
     "execution_count": 35,
     "metadata": {},
     "output_type": "execute_result"
    }
   ],
   "source": [
    "emp=pd.read_csv('E:/datafiles/data.csv',dtype={'sal':'float64'},verbose=True)#verbose for time taken for execution.\n",
    "emp.dtypes"
   ]
  },
  {
   "cell_type": "code",
   "execution_count": 6,
   "metadata": {},
   "outputs": [
    {
     "name": "stderr",
     "output_type": "stream",
     "text": [
      "C:\\Users\\DELL\\Anaconda3\\lib\\site-packages\\ipykernel_launcher.py:3: ParserWarning: Falling back to the 'python' engine because the 'c' engine does not support skipfooter; you can avoid this warning by specifying engine='python'.\n",
      "  This is separate from the ipykernel package so we can avoid doing imports until\n"
     ]
    },
    {
     "data": {
      "text/plain": [
       "(2306, 8)"
      ]
     },
     "execution_count": 6,
     "metadata": {},
     "output_type": "execute_result"
    }
   ],
   "source": [
    "#read csv file from url.\n",
    "import pandas as pd\n",
    "zx=pd.read_csv('http://winterolympicsmedals.com/medals.csv',skipfooter=5)#skipfooter skips last five.\n",
    "zx.shape\n",
    "#zx.head()"
   ]
  },
  {
   "cell_type": "code",
   "execution_count": 7,
   "metadata": {},
   "outputs": [
    {
     "data": {
      "text/plain": [
       "(10, 8)"
      ]
     },
     "execution_count": 7,
     "metadata": {},
     "output_type": "execute_result"
    }
   ],
   "source": [
    "import pandas as pd\n",
    "zx=pd.read_csv('http://winterolympicsmedals.com/medals.csv',nrows=10)\n",
    "zx.shape"
   ]
  },
  {
   "cell_type": "code",
   "execution_count": 16,
   "metadata": {},
   "outputs": [
    {
     "name": "stdout",
     "output_type": "stream",
     "text": [
      "   eid     name     designation         doj    sal\n",
      "0    1   sreenu  data scientist  01-02-2018   1000\n",
      "1    2     vasu    data analyst  20-05-2018   2000\n",
      "2    3    nivas       developer  14-08-2017   3000\n",
      "3    4    reddy         testing  05-01-2016   4000\n",
      "4    5      sai    ml developer  03-04-2000   5000\n",
      "5    6  nandini    bi developer  05-05-2014   6000\n",
      "6    7      nag  data scientist  06-08-2015   7000\n",
      "7    8     rama    data analyst  09-06-2013   8000\n",
      "8    9     sita    ml developer  06-08-2017   9000\n",
      "9   10    geeta    data analyst  02-02-2020  10000\n"
     ]
    }
   ],
   "source": [
    "em=pd.read_csv('E:/datafiles/data.csv')\n",
    "print(em)"
   ]
  },
  {
   "cell_type": "code",
   "execution_count": 17,
   "metadata": {},
   "outputs": [
    {
     "name": "stdout",
     "output_type": "stream",
     "text": [
      "       City  NOC Event gender\n",
      "0  Chamonix  AUT            M\n",
      "1  Chamonix  AUT            W\n",
      "2  Chamonix  AUT            X\n",
      "3  Chamonix  BEL            M\n",
      "4  Chamonix  CAN            M\n"
     ]
    }
   ],
   "source": [
    "import pandas as pd\n",
    "zx=pd.read_csv('http://winterolympicsmedals.com/medals.csv',usecols=[1,4,6])#to select only specified columns.\n",
    "zx.shape\n",
    "bs=zx.head()\n",
    "print(bs)\n",
    "bs.to_csv('medalsx.csv',index=False)#to convert to csv.False is used because if not it takses index values also and stores it."
   ]
  },
  {
   "cell_type": "code",
   "execution_count": 3,
   "metadata": {},
   "outputs": [
    {
     "name": "stdout",
     "output_type": "stream",
     "text": [
      "   eid     name     designation        doj    sal\n",
      "0    1   sreenu  data scientist 2018-02-01   1000\n",
      "1    2     vasu    data analyst 2018-05-20   2000\n",
      "2    3    nivas       developer 2017-08-14   3000\n",
      "3    4    reddy         testing 2016-01-05   4000\n",
      "4    5      sai    ml developer 2000-04-03   5000\n",
      "5    6  nandini    bi developer 2014-05-05   6000\n",
      "6    7      nag  data scientist 2015-08-06   7000\n",
      "7    8     rama    data analyst 2013-06-09   8000\n",
      "8    9     sita    ml developer 2017-08-06   9000\n",
      "9   10    geeta    data analyst 2020-02-02  10000\n"
     ]
    }
   ],
   "source": [
    "import pandas as pd\n",
    "dg=pd.read_excel('E:/datafiles/data.xlsx')\n",
    "print(dg)"
   ]
  },
  {
   "cell_type": "code",
   "execution_count": 4,
   "metadata": {},
   "outputs": [
    {
     "data": {
      "text/plain": [
       "<matplotlib.axes._subplots.AxesSubplot at 0x1f185bbcfd0>"
      ]
     },
     "execution_count": 4,
     "metadata": {},
     "output_type": "execute_result"
    },
    {
     "data": {
      "image/png": "[encoded data removed]",
      "text/plain": [
       "<Figure size 432x288 with 1 Axes>"
      ]
     },
     "metadata": {
      "needs_background": "light"
     },
     "output_type": "display_data"
    }
   ],
   "source": [
    "import pandas as pd\n",
    "e=pd.read_csv('E:/datafiles/data.csv')\n",
    "e['sal'].plot.box()#to visualize data in pandas"
   ]
  },
  {
   "cell_type": "code",
   "execution_count": 5,
   "metadata": {},
   "outputs": [
    {
     "data": {
      "text/plain": [
       "<matplotlib.axes._subplots.AxesSubplot at 0x1f185c51b38>"
      ]
     },
     "execution_count": 5,
     "metadata": {},
     "output_type": "execute_result"
    },
    {
     "data": {
      "image/png": "[encoded data removed]",
      "text/plain": [
       "<Figure size 432x288 with 1 Axes>"
      ]
     },
     "metadata": {
      "needs_background": "light"
     },
     "output_type": "display_data"
    }
   ],
   "source": [
    "e=pd.read_csv('E:/datafiles/data.csv')\n",
    "e['sal'].plot.box(vert=False)"
   ]
  },
  {
   "cell_type": "code",
   "execution_count": 6,
   "metadata": {},
   "outputs": [
    {
     "data": {
      "text/plain": [
       "<matplotlib.axes._subplots.AxesSubplot at 0x1f185c7b748>"
      ]
     },
     "execution_count": 6,
     "metadata": {},
     "output_type": "execute_result"
    },
    {
     "data": {
      "image/png": "[encoded data removed]",
      "text/plain": [
       "<Figure size 432x288 with 1 Axes>"
      ]
     },
     "metadata": {
      "needs_background": "light"
     },
     "output_type": "display_data"
    }
   ],
   "source": [
    "e=pd.read_csv('E:/datafiles/data.csv')\n",
    "e['sal'].plot()"
   ]
  },
  {
   "cell_type": "code",
   "execution_count": 8,
   "metadata": {},
   "outputs": [
    {
     "data": {
      "text/plain": [
       "<matplotlib.axes._subplots.AxesSubplot at 0x1f185f11550>"
      ]
     },
     "execution_count": 8,
     "metadata": {},
     "output_type": "execute_result"
    },
    {
     "data": {
      "image/png": "[encoded data removed]",
      "text/plain": [
       "<Figure size 432x288 with 1 Axes>"
      ]
     },
     "metadata": {
      "needs_background": "light"
     },
     "output_type": "display_data"
    }
   ],
   "source": [
    "e=pd.read_csv('E:/datafiles/data.csv')\n",
    "e['sal'].plot.bar()"
   ]
  },
  {
   "cell_type": "code",
   "execution_count": 9,
   "metadata": {},
   "outputs": [
    {
     "data": {
      "text/plain": [
       "<matplotlib.axes._subplots.AxesSubplot at 0x1f185f7f630>"
      ]
     },
     "execution_count": 9,
     "metadata": {},
     "output_type": "execute_result"
    },
    {
     "data": {
      "image/png": "[encoded data removed]",
      "text/plain": [
       "<Figure size 432x288 with 1 Axes>"
      ]
     },
     "metadata": {
      "needs_background": "light"
     },
     "output_type": "display_data"
    }
   ],
   "source": [
    "e=pd.read_csv('E:/datafiles/data.csv')\n",
    "e['sal'].plot.barh()"
   ]
  },
  {
   "cell_type": "code",
   "execution_count": 11,
   "metadata": {},
   "outputs": [
    {
     "data": {
      "text/plain": [
       "<matplotlib.axes._subplots.AxesSubplot at 0x1f186046f60>"
      ]
     },
     "execution_count": 11,
     "metadata": {},
     "output_type": "execute_result"
    },
    {
     "data": {
      "image/png": "[encoded data removed]",
      "text/plain": [
       "<Figure size 432x288 with 1 Axes>"
      ]
     },
     "metadata": {
      "needs_background": "light"
     },
     "output_type": "display_data"
    }
   ],
   "source": [
    "e=pd.read_csv('E:/datafiles/data.csv')\n",
    "e['sal'].plot.hist(bins=20)#for gap"
   ]
  },
  {
   "cell_type": "code",
   "execution_count": 12,
   "metadata": {},
   "outputs": [
    {
     "data": {
      "text/plain": [
       "<matplotlib.axes._subplots.AxesSubplot at 0x1f185cdce10>"
      ]
     },
     "execution_count": 12,
     "metadata": {},
     "output_type": "execute_result"
    },
    {
     "data": {
      "image/png": "[encoded data removed]",
      "text/plain": [
       "<Figure size 432x288 with 1 Axes>"
      ]
     },
     "metadata": {
      "needs_background": "light"
     },
     "output_type": "display_data"
    }
   ],
   "source": [
    "e=pd.read_csv('E:/datafiles/data.csv')\n",
    "e['sal'].plot.area()"
   ]
  },
  {
   "cell_type": "code",
   "execution_count": 14,
   "metadata": {},
   "outputs": [
    {
     "data": {
      "text/plain": [
       "array([<matplotlib.axes._subplots.AxesSubplot object at 0x000001F1860DC5F8>],\n",
       "      dtype=object)"
      ]
     },
     "execution_count": 14,
     "metadata": {},
     "output_type": "execute_result"
    },
    {
     "data": {
      "image/png": "[encoded data removed]",
      "text/plain": [
       "<Figure size 432x288 with 1 Axes>"
      ]
     },
     "metadata": {},
     "output_type": "display_data"
    }
   ],
   "source": [
    "e=pd.read_csv('E:/datafiles/data.csv')\n",
    "e['sal'].plot.pie(subplots=True)"
   ]
  },
  {
   "cell_type": "code",
   "execution_count": null,
   "metadata": {},
   "outputs": [],
   "source": []
  },
  {
   "cell_type": "code",
   "execution_count": null,
   "metadata": {},
   "outputs": [],
   "source": []
  }
 ],
 "metadata": {
  "kernelspec": {
   "display_name": "Python 3",
   "language": "python",
   "name": "python3"
  },
  "language_info": {
   "codemirror_mode": {
    "name": "ipython",
    "version": 3
   },
   "file_extension": ".py",
   "mimetype": "text/x-python",
   "name": "python",
   "nbconvert_exporter": "python",
   "pygments_lexer": "ipython3",
   "version": "3.7.0"
  }
 },
 "nbformat": 4,
 "nbformat_minor": 2
}
