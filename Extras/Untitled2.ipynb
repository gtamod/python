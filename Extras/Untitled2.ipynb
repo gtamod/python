{
 "cells": [
  {
   "cell_type": "code",
   "execution_count": 33,
   "metadata": {},
   "outputs": [
    {
     "name": "stdout",
     "output_type": "stream",
     "text": [
      "name and roll no are shameer 101\n",
      "{'name': 'shameer', 'rollno': 101, 'marks': 100}\n",
      "average is 15.0\n"
     ]
    },
    {
     "ename": "TypeError",
     "evalue": "getcollegename() takes 1 positional argument but 2 were given",
     "output_type": "error",
     "traceback": [
      "\u001b[1;31m---------------------------------------------------------------------------\u001b[0m",
      "\u001b[1;31mTypeError\u001b[0m                                 Traceback (most recent call last)",
      "\u001b[1;32m<ipython-input-33-b635c059572b>\u001b[0m in \u001b[0;36m<module>\u001b[1;34m()\u001b[0m\n\u001b[0;32m     19\u001b[0m \u001b[0ms1\u001b[0m\u001b[1;33m.\u001b[0m\u001b[0maverage\u001b[0m\u001b[1;33m(\u001b[0m\u001b[1;36m10\u001b[0m\u001b[1;33m,\u001b[0m\u001b[1;36m20\u001b[0m\u001b[1;33m)\u001b[0m\u001b[1;33m\u001b[0m\u001b[0m\n\u001b[0;32m     20\u001b[0m \u001b[0mStudent\u001b[0m\u001b[1;33m.\u001b[0m\u001b[0mgetcollegename\u001b[0m\u001b[1;33m=\u001b[0m \u001b[0mclassmethod\u001b[0m\u001b[1;33m(\u001b[0m\u001b[0mStudent\u001b[0m\u001b[1;33m.\u001b[0m\u001b[0mgetcollegename\u001b[0m\u001b[1;33m)\u001b[0m\u001b[1;33m\u001b[0m\u001b[0m\n\u001b[1;32m---> 21\u001b[1;33m \u001b[0mStudent\u001b[0m\u001b[1;33m.\u001b[0m\u001b[0mgetcollegename\u001b[0m\u001b[1;33m(\u001b[0m\u001b[1;33m)\u001b[0m\u001b[1;33m\u001b[0m\u001b[0m\n\u001b[0m",
      "\u001b[1;31mTypeError\u001b[0m: getcollegename() takes 1 positional argument but 2 were given"
     ]
    }
   ],
   "source": [
    "class Student:\n",
    "    cname='MGIT'\n",
    "    def __init__(self,name,rollno):\n",
    "        self.name=name\n",
    "        self.rollno=rollno\n",
    "    def info(self):\n",
    "        self.marks=100\n",
    "        print('name and roll no are',self.name,self.rollno)\n",
    "    @classmethod\n",
    "    def getcollegename(self):\n",
    "        print('college name',self.cname)\n",
    "    @staticmethod    \n",
    "    def average(x,y):\n",
    "        print('average is',(x+y)/2)\n",
    "\n",
    "s1=Student('shameer',101)\n",
    "s1.info()\n",
    "print(s1.__dict__)\n",
    "s1.average(10,20)\n",
    "Student.getcollegename= classmethod(Student.getcollegename)\n",
    "Student.getcollegename()"
   ]
  },
  {
   "cell_type": "code",
   "execution_count": 23,
   "metadata": {},
   "outputs": [
    {
     "name": "stdout",
     "output_type": "stream",
     "text": [
      "{}\n"
     ]
    }
   ],
   "source": [
    "class Test:\n",
    "    def __init__(self):\n",
    "        self.a=10\n",
    "        self.b=20\n",
    "        self.c=30\n",
    "    def delete(self):\n",
    "        del self.b\n",
    "        del self.c\n",
    "t1=Test()\n",
    "t1.delete()\n",
    "del t1.a\n",
    "print(t1.__dict__)\n"
   ]
  },
  {
   "cell_type": "code",
   "execution_count": 28,
   "metadata": {},
   "outputs": [
    {
     "name": "stdout",
     "output_type": "stream",
     "text": [
      "8 4\n",
      "10 20\n"
     ]
    }
   ],
   "source": [
    "class Test:\n",
    "    def __init__(self):\n",
    "        self.a=10\n",
    "        self.b=20\n",
    "t1=Test()\n",
    "t2=Test()\n",
    "t1.a=8\n",
    "t1.b=4\n",
    "print(t1.a,t1.b)\n",
    "print(t2.a,t2.b)"
   ]
  },
  {
   "cell_type": "code",
   "execution_count": null,
   "metadata": {},
   "outputs": [],
   "source": []
  },
  {
   "cell_type": "code",
   "execution_count": null,
   "metadata": {},
   "outputs": [],
   "source": []
  }
 ],
 "metadata": {
  "kernelspec": {
   "display_name": "Python 3",
   "language": "python",
   "name": "python3"
  },
  "language_info": {
   "codemirror_mode": {
    "name": "ipython",
    "version": 3
   },
   "file_extension": ".py",
   "mimetype": "text/x-python",
   "name": "python",
   "nbconvert_exporter": "python",
   "pygments_lexer": "ipython3",
   "version": "3.7.0"
  }
 },
 "nbformat": 4,
 "nbformat_minor": 2
}
