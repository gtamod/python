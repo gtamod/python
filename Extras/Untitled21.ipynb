{
 "cells": [
  {
   "cell_type": "code",
   "execution_count": null,
   "metadata": {},
   "outputs": [],
   "source": []
  },
  {
   "cell_type": "code",
   "execution_count": 3,
   "metadata": {},
   "outputs": [
    {
     "name": "stdin",
     "output_type": "stream",
     "text": [
      "enter file name shakira.txt\n"
     ]
    },
    {
     "name": "stdout",
     "output_type": "stream",
     "text": [
      "file exists shakira.txt\n",
      "no of lines 3\n",
      "no of words 6\n",
      "no of char 39\n"
     ]
    }
   ],
   "source": [
    "import os\n",
    "fname=input('enter file name')\n",
    "if os.path.isfile(fname):\n",
    "    print('file exists',fname)\n",
    "    f=open('shakira.txt','r')\n",
    "    lcount=wcount=ccount=0\n",
    "    for line in f:\n",
    "        lcount=lcount+1\n",
    "        words=line.split()\n",
    "        wcount=wcount+len(words)\n",
    "        ccount=ccount+len(line)\n",
    "    print('no of lines',lcount)\n",
    "    print('no of words',wcount)\n",
    "    print('no of char',ccount)\n",
    "else:\n",
    "    print('file not found',fname)"
   ]
  },
  {
   "cell_type": "code",
   "execution_count": null,
   "metadata": {},
   "outputs": [],
   "source": []
  }
 ],
 "metadata": {
  "kernelspec": {
   "display_name": "Python 3",
   "language": "python",
   "name": "python3"
  },
  "language_info": {
   "codemirror_mode": {
    "name": "ipython",
    "version": 3
   },
   "file_extension": ".py",
   "mimetype": "text/x-python",
   "name": "python",
   "nbconvert_exporter": "python",
   "pygments_lexer": "ipython3",
   "version": "3.7.0"
  }
 },
 "nbformat": 4,
 "nbformat_minor": 2
}
