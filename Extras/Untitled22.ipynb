{
 "cells": [
  {
   "cell_type": "code",
   "execution_count": null,
   "metadata": {},
   "outputs": [],
   "source": [
    "import threading\n",
    "print('current executing thread:',threading.current_thread().getName())"
   ]
  },
  {
   "cell_type": "code",
   "execution_count": 7,
   "metadata": {},
   "outputs": [
    {
     "name": "stdout",
     "output_type": "stream",
     "text": [
      "child threadmain Thread\n",
      "child thread\n",
      "child thread\n",
      "child thread\n",
      "child thread\n",
      "child thread\n",
      "child thread\n",
      "child thread\n",
      "child thread\n",
      "child thread\n",
      "\n",
      "main Thread\n",
      "main Thread\n",
      "main Thread\n",
      "main Thread\n",
      "main Thread\n",
      "main Thread\n",
      "main Thread\n",
      "main Thread\n",
      "main Thread\n"
     ]
    }
   ],
   "source": [
    "from threading import *\n",
    "def display():\n",
    "    for i in range(10):\n",
    "        print('child thread')\n",
    "t=Thread(target = display)\n",
    "t.start()\n",
    "for i in range(10):\n",
    "    print('main Thread')"
   ]
  },
  {
   "cell_type": "code",
   "execution_count": 8,
   "metadata": {},
   "outputs": [
    {
     "name": "stdout",
     "output_type": "stream",
     "text": [
      "child thread name: Thread-9\n",
      "main thread name: MainThread\n"
     ]
    }
   ],
   "source": [
    "from threading import *\n",
    "def display():\n",
    "    print('child thread name:',current_thread().getName())\n",
    "t=Thread(target=display)\n",
    "t.start()\n",
    "print('main thread name:',current_thread().getName())"
   ]
  },
  {
   "cell_type": "code",
   "execution_count": 12,
   "metadata": {},
   "outputs": [
    {
     "name": "stdout",
     "output_type": "stream",
     "text": [
      "child threadMain Thread\n",
      "child thread\n",
      "child thread\n",
      "child thread\n",
      "child thread\n",
      "child thread\n",
      "child thread\n",
      "child thread\n",
      "child thread\n",
      "child thread\n",
      "\n",
      "Main Thread\n",
      "Main Thread\n",
      "Main Thread\n",
      "Main Thread\n",
      "Main Thread\n",
      "Main Thread\n",
      "Main Thread\n",
      "Main Thread\n",
      "Main Thread\n"
     ]
    }
   ],
   "source": [
    "from threading import *\n",
    "class MyThread(Thread):\n",
    "    def run(self):\n",
    "        for i in range(10):\n",
    "            print('child thread')\n",
    "t=MyThread()\n",
    "t.start()\n",
    "for i in range(10):\n",
    "    print('Main Thread')"
   ]
  },
  {
   "cell_type": "code",
   "execution_count": 15,
   "metadata": {},
   "outputs": [
    {
     "name": "stdout",
     "output_type": "stream",
     "text": [
      "child thread-1\n",
      "child thread-1\n",
      "child thread-1\n",
      "child thread-1\n",
      "child thread-1\n",
      "child thread-1\n",
      "child thread-1\n",
      "child thread-1\n",
      "child thread-1\n",
      "child thread-1\n",
      "main thread-1\n",
      "main thread-1\n",
      "main thread-1\n",
      "main thread-1\n",
      "main thread-1\n",
      "main thread-1\n",
      "main thread-1\n",
      "main thread-1\n",
      "main thread-1\n",
      "main thread-1\n"
     ]
    }
   ],
   "source": [
    "from threading import *\n",
    "class Test:\n",
    "    def m1(self):\n",
    "        for i in range(10):\n",
    "            print('child thread-1')\n",
    "obj=Test()\n",
    "t=Thread(target=obj.m1)\n",
    "t.start()\n",
    "for i in range(10):\n",
    "    print('main thread-1')"
   ]
  },
  {
   "cell_type": "code",
   "execution_count": 16,
   "metadata": {},
   "outputs": [
    {
     "name": "stdout",
     "output_type": "stream",
     "text": [
      "double value 2\n",
      "double value 4\n",
      "double value 6\n",
      "double value 8\n",
      "double value 10\n",
      "double value 12\n",
      "square values 1\n",
      "square values 4\n",
      "square values 9\n",
      "square values 16\n",
      "square values 25\n",
      "square values 36\n",
      "total time taken 12.080866813659668\n"
     ]
    }
   ],
   "source": [
    "import time\n",
    "def double(numbers):\n",
    "    for n in numbers:\n",
    "        time.sleep(1)\n",
    "        print('double value',2*n)\n",
    "def square(numbers):\n",
    "    for n in numbers:\n",
    "        time.sleep(1)\n",
    "        print('square values',n*n)\n",
    "numbers=[1,2,3,4,5,6]\n",
    "begintime=time.time()\n",
    "double(numbers)\n",
    "square(numbers)\n",
    "endtime=time.time()\n",
    "print('total time taken',endtime-begintime)"
   ]
  },
  {
   "cell_type": "code",
   "execution_count": null,
   "metadata": {},
   "outputs": [],
   "source": []
  },
  {
   "cell_type": "code",
   "execution_count": 19,
   "metadata": {},
   "outputs": [
    {
     "name": "stdout",
     "output_type": "stream",
     "text": [
      "square valuesdouble value 2\n",
      " 1\n",
      "double valuesquare values 4\n",
      " 4\n",
      "double valuesquare values 6\n",
      " 9\n",
      "double valuesquare values 8\n",
      " 16\n",
      "square valuesdouble value 25\n",
      " 10\n",
      "square valuesdouble value 36\n",
      " 12\n",
      "total time taken 6.055490016937256\n"
     ]
    }
   ],
   "source": [
    "from threading import *\n",
    "import time\n",
    "def double(numbers):\n",
    "    for n in numbers:\n",
    "        time.sleep(1)\n",
    "        print('double value',2*n)\n",
    "def square(numbers):\n",
    "    for n in numbers:\n",
    "        time.sleep(1)\n",
    "        print('square values',n*n)\n",
    "numbers=[1,2,3,4,5,6]\n",
    "begintime=time.time()\n",
    "t1=Thread(target=double,args=(numbers,))\n",
    "t2=Thread(target=square,args=(numbers,))\n",
    "t1.start()\n",
    "t2.start()\n",
    "t1.join()\n",
    "t2.join()\n",
    "endtime=time.time()\n",
    "print('total time taken',endtime-begintime)"
   ]
  },
  {
   "cell_type": "code",
   "execution_count": 21,
   "metadata": {},
   "outputs": [
    {
     "name": "stdout",
     "output_type": "stream",
     "text": [
      "child threadmain thread idno\n",
      " 15944\n",
      "child thread id no 19860\n"
     ]
    }
   ],
   "source": [
    "from threading import *\n",
    "def test():\n",
    "    print('child thread')\n",
    "t=Thread(target=test)\n",
    "t.start()\n",
    "print('main thread idno',current_thread().ident)\n",
    "print('child thread id no',t.ident)"
   ]
  },
  {
   "cell_type": "code",
   "execution_count": null,
   "metadata": {},
   "outputs": [],
   "source": [
    "from threading import *\n",
    "import time\n",
    "def display():\n",
    "    print(current_thread().name,'.....started')\n",
    "    time.sleep(3)\n",
    "    print(current_thread().name,'.....ended')\n",
    "print('the number of active threads',active_count())\n",
    "t1=Thread(target=display,name='child thread1')\n",
    "t2=Thread(target=display,name='child thread2')\n",
    "t1.start()\n",
    "t2.start()\n",
    "print('the number of active threads',active_count())\n",
    "\n",
    "print('the number of active threads',active_count())"
   ]
  }
 ],
 "metadata": {
  "kernelspec": {
   "display_name": "Python 3",
   "language": "python",
   "name": "python3"
  },
  "language_info": {
   "codemirror_mode": {
    "name": "ipython",
    "version": 3
   },
   "file_extension": ".py",
   "mimetype": "text/x-python",
   "name": "python",
   "nbconvert_exporter": "python",
   "pygments_lexer": "ipython3",
   "version": "3.7.0"
  }
 },
 "nbformat": 4,
 "nbformat_minor": 2
}
