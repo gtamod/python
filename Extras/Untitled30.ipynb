{
 "cells": [
  {
   "cell_type": "code",
   "execution_count": 4,
   "metadata": {},
   "outputs": [
    {
     "data": {
      "text/html": [
       "<div>\n",
       "<style scoped>\n",
       "    .dataframe tbody tr th:only-of-type {\n",
       "        vertical-align: middle;\n",
       "    }\n",
       "\n",
       "    .dataframe tbody tr th {\n",
       "        vertical-align: top;\n",
       "    }\n",
       "\n",
       "    .dataframe thead th {\n",
       "        text-align: right;\n",
       "    }\n",
       "</style>\n",
       "<table border=\"1\" class=\"dataframe\">\n",
       "  <thead>\n",
       "    <tr style=\"text-align: right;\">\n",
       "      <th></th>\n",
       "      <th>A</th>\n",
       "      <th>B</th>\n",
       "      <th>C</th>\n",
       "      <th>D</th>\n",
       "    </tr>\n",
       "  </thead>\n",
       "  <tbody>\n",
       "    <tr>\n",
       "      <th>A</th>\n",
       "      <td>1.000000</td>\n",
       "      <td>0.613563</td>\n",
       "      <td>0.127312</td>\n",
       "      <td>0.080024</td>\n",
       "    </tr>\n",
       "    <tr>\n",
       "      <th>B</th>\n",
       "      <td>0.613563</td>\n",
       "      <td>1.000000</td>\n",
       "      <td>-0.513234</td>\n",
       "      <td>0.274378</td>\n",
       "    </tr>\n",
       "    <tr>\n",
       "      <th>C</th>\n",
       "      <td>0.127312</td>\n",
       "      <td>-0.513234</td>\n",
       "      <td>1.000000</td>\n",
       "      <td>-0.162333</td>\n",
       "    </tr>\n",
       "    <tr>\n",
       "      <th>D</th>\n",
       "      <td>0.080024</td>\n",
       "      <td>0.274378</td>\n",
       "      <td>-0.162333</td>\n",
       "      <td>1.000000</td>\n",
       "    </tr>\n",
       "  </tbody>\n",
       "</table>\n",
       "</div>"
      ],
      "text/plain": [
       "          A         B         C         D\n",
       "A  1.000000  0.613563  0.127312  0.080024\n",
       "B  0.613563  1.000000 -0.513234  0.274378\n",
       "C  0.127312 -0.513234  1.000000 -0.162333\n",
       "D  0.080024  0.274378 -0.162333  1.000000"
      ]
     },
     "execution_count": 4,
     "metadata": {},
     "output_type": "execute_result"
    }
   ],
   "source": [
    "import numpy as np\n",
    "import pandas as pd\n",
    "r=np.random.randn(10,4)\n",
    "df=pd.DataFrame(r,columns=list('ABCD'))\n",
    "#df.dropna(axis=1)\n",
    "#df['A'].value_counts()#used to count frequnecy of values\n",
    "df.corr()#used to find corelations"
   ]
  },
  {
   "cell_type": "code",
   "execution_count": 10,
   "metadata": {},
   "outputs": [
    {
     "name": "stdout",
     "output_type": "stream",
     "text": [
      "          A         B         C         D\n",
      "0  0.108285 -1.295427 -0.879026 -0.604385\n",
      "1  0.812846  0.334664 -0.649375  0.106832\n",
      "2  0.010514  0.782761 -0.676791  0.414163\n",
      "3 -0.138769  0.829117  0.331797  1.925281\n",
      "4  0.633437  0.185645  0.787516  0.302323\n",
      "5 -0.959695 -0.472107 -0.209576 -0.927613\n",
      "6 -1.399425  0.111023 -0.165447 -0.146911\n",
      "7  0.599159 -0.456070  0.245205  0.014377\n",
      "8  0.214341 -0.408331  0.265799  1.291052\n",
      "9 -0.368024 -0.446537  1.614262  0.303979\n"
     ]
    },
    {
     "data": {
      "text/plain": [
       "A    0.010514\n",
       "B    0.782761\n",
       "Name: 2, dtype: float64"
      ]
     },
     "execution_count": 10,
     "metadata": {},
     "output_type": "execute_result"
    }
   ],
   "source": [
    "r=np.random.randn(10,4)\n",
    "df=pd.DataFrame(r,columns=list('ABCD'))\n",
    "print(df)\n",
    "df.loc[2,'A']\n",
    "df.loc[2,['A','B']]"
   ]
  },
  {
   "cell_type": "code",
   "execution_count": 12,
   "metadata": {},
   "outputs": [
    {
     "name": "stdout",
     "output_type": "stream",
     "text": [
      "           A         B         C         D\n",
      "1  -1.216604  0.708361 -2.037179 -0.379327\n",
      "2  -0.769786 -1.182683 -2.131685  1.265567\n",
      "3   0.466305 -1.116946  0.325492  0.949492\n",
      "4  -0.465330  0.391391  0.062146  0.359625\n",
      "5  -0.289576  0.346487 -0.216589  2.127282\n",
      "6  -0.129462  0.388011  1.162370  0.177859\n",
      "7   0.049834 -0.105551  0.288238 -0.496668\n",
      "8   0.145982 -0.809017 -0.744605 -0.276081\n",
      "9   1.033510 -1.684116 -1.302074 -0.526240\n",
      "10 -0.111456 -1.777904  1.790364  1.434847\n"
     ]
    },
    {
     "data": {
      "text/html": [
       "<div>\n",
       "<style scoped>\n",
       "    .dataframe tbody tr th:only-of-type {\n",
       "        vertical-align: middle;\n",
       "    }\n",
       "\n",
       "    .dataframe tbody tr th {\n",
       "        vertical-align: top;\n",
       "    }\n",
       "\n",
       "    .dataframe thead th {\n",
       "        text-align: right;\n",
       "    }\n",
       "</style>\n",
       "<table border=\"1\" class=\"dataframe\">\n",
       "  <thead>\n",
       "    <tr style=\"text-align: right;\">\n",
       "      <th></th>\n",
       "      <th>B</th>\n",
       "      <th>C</th>\n",
       "    </tr>\n",
       "  </thead>\n",
       "  <tbody>\n",
       "    <tr>\n",
       "      <th>1</th>\n",
       "      <td>0.708361</td>\n",
       "      <td>-2.037179</td>\n",
       "    </tr>\n",
       "    <tr>\n",
       "      <th>2</th>\n",
       "      <td>-1.182683</td>\n",
       "      <td>-2.131685</td>\n",
       "    </tr>\n",
       "    <tr>\n",
       "      <th>3</th>\n",
       "      <td>-1.116946</td>\n",
       "      <td>0.325492</td>\n",
       "    </tr>\n",
       "    <tr>\n",
       "      <th>4</th>\n",
       "      <td>0.391391</td>\n",
       "      <td>0.062146</td>\n",
       "    </tr>\n",
       "    <tr>\n",
       "      <th>5</th>\n",
       "      <td>0.346487</td>\n",
       "      <td>-0.216589</td>\n",
       "    </tr>\n",
       "    <tr>\n",
       "      <th>6</th>\n",
       "      <td>0.388011</td>\n",
       "      <td>1.162370</td>\n",
       "    </tr>\n",
       "    <tr>\n",
       "      <th>7</th>\n",
       "      <td>-0.105551</td>\n",
       "      <td>0.288238</td>\n",
       "    </tr>\n",
       "    <tr>\n",
       "      <th>8</th>\n",
       "      <td>-0.809017</td>\n",
       "      <td>-0.744605</td>\n",
       "    </tr>\n",
       "    <tr>\n",
       "      <th>9</th>\n",
       "      <td>-1.684116</td>\n",
       "      <td>-1.302074</td>\n",
       "    </tr>\n",
       "    <tr>\n",
       "      <th>10</th>\n",
       "      <td>-1.777904</td>\n",
       "      <td>1.790364</td>\n",
       "    </tr>\n",
       "  </tbody>\n",
       "</table>\n",
       "</div>"
      ],
      "text/plain": [
       "           B         C\n",
       "1   0.708361 -2.037179\n",
       "2  -1.182683 -2.131685\n",
       "3  -1.116946  0.325492\n",
       "4   0.391391  0.062146\n",
       "5   0.346487 -0.216589\n",
       "6   0.388011  1.162370\n",
       "7  -0.105551  0.288238\n",
       "8  -0.809017 -0.744605\n",
       "9  -1.684116 -1.302074\n",
       "10 -1.777904  1.790364"
      ]
     },
     "execution_count": 12,
     "metadata": {},
     "output_type": "execute_result"
    }
   ],
   "source": [
    "import numpy as np\n",
    "import pandas as pd\n",
    "r=np.random.randn(10,4)\n",
    "x=[1,2,3,4,5,6,7,8,9,10]\n",
    "df=pd.DataFrame(r,index=x,columns=list('ABCD'))\n",
    "print(df)\n",
    "df.str.\n"
   ]
  },
  {
   "cell_type": "code",
   "execution_count": null,
   "metadata": {},
   "outputs": [],
   "source": []
  }
 ],
 "metadata": {
  "kernelspec": {
   "display_name": "Python 3",
   "language": "python",
   "name": "python3"
  },
  "language_info": {
   "codemirror_mode": {
    "name": "ipython",
    "version": 3
   },
   "file_extension": ".py",
   "mimetype": "text/x-python",
   "name": "python",
   "nbconvert_exporter": "python",
   "pygments_lexer": "ipython3",
   "version": "3.7.0"
  }
 },
 "nbformat": 4,
 "nbformat_minor": 2
}
