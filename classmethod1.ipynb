{
 "cells": [
  {
   "cell_type": "code",
   "execution_count": 1,
   "metadata": {},
   "outputs": [
    {
     "name": "stdout",
     "output_type": "stream",
     "text": [
      "the no of objects created: 5\n"
     ]
    }
   ],
   "source": [
    "class test:\n",
    "    count=0\n",
    "    def __init__(self):\n",
    "        test.count=test.count+1\n",
    "    @classmethod\n",
    "    def getnoOfobjects(cls):\n",
    "        print('the no of objects created:',cls.count)\n",
    "t1=test()\n",
    "t2=test()\n",
    "t3=test()\n",
    "t4=test()\n",
    "t5=test()\n",
    "test.getnoOfobjects()"
   ]
  },
  {
   "cell_type": "code",
   "execution_count": null,
   "metadata": {},
   "outputs": [],
   "source": []
  },
  {
   "cell_type": "code",
   "execution_count": null,
   "metadata": {},
   "outputs": [],
   "source": []
  }
 ],
 "metadata": {
  "kernelspec": {
   "display_name": "Python 3",
   "language": "python",
   "name": "python3"
  },
  "language_info": {
   "codemirror_mode": {
    "name": "ipython",
    "version": 3
   },
   "file_extension": ".py",
   "mimetype": "text/x-python",
   "name": "python",
   "nbconvert_exporter": "python",
   "pygments_lexer": "ipython3",
   "version": "3.7.0"
  }
 },
 "nbformat": 4,
 "nbformat_minor": 2
}
